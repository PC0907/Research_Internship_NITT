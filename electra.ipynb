{
 "cells": [
  {
   "cell_type": "code",
   "execution_count": 1,
   "id": "3e1c1d69-5284-44b6-a70e-59c5c6873ae7",
   "metadata": {
    "scrolled": true
   },
   "outputs": [
    {
     "name": "stderr",
     "output_type": "stream",
     "text": [
      "c:\\users\\admin\\appdata\\local\\programs\\python\\python39\\lib\\site-packages\\tqdm\\auto.py:21: TqdmWarning: IProgress not found. Please update jupyter and ipywidgets. See https://ipywidgets.readthedocs.io/en/stable/user_install.html\n",
      "  from .autonotebook import tqdm as notebook_tqdm\n"
     ]
    },
    {
     "name": "stdout",
     "output_type": "stream",
     "text": [
      "Entity Label Map:\n",
      "{'O': 0, 'B-Corporation': 1, 'B-Locale': 2, 'B-Application': 3, 'B-Malware': 4, 'B-Vulnerability': 5, 'B-Assault_technique': 6, 'B-Infected_file': 7, 'B-APT_group': 8, 'B-Ransomware': 9, 'B-Campaign': 10, 'B-Algorithm': 11, 'B-System': 12, 'B-Organization': 13, 'B-Indicator': 14, 'I-Corporation': 15, 'I-Locale': 16, 'I-Application': 17, 'I-Malware': 18, 'I-Vulnerability': 19, 'I-Assault_technique': 20, 'I-Infected_file': 21, 'I-APT_group': 22, 'I-Ransomware': 23, 'I-Campaign': 24, 'I-Algorithm': 25, 'I-System': 26, 'I-Organization': 27, 'I-Indicator': 28, 'E-Corporation': 29, 'E-Locale': 30, 'E-Application': 31, 'E-Malware': 32, 'E-Vulnerability': 33, 'E-Assault_technique': 34, 'E-Infected_file': 35, 'E-APT_group': 36, 'E-Ransomware': 37, 'E-Campaign': 38, 'E-Algorithm': 39, 'E-System': 40, 'E-Organization': 41, 'E-Indicator': 42, 'S-Corporation': 43, 'S-Locale': 44, 'S-Application': 45, 'S-Malware': 46, 'S-Vulnerability': 47, 'S-Assault_technique': 48, 'S-Infected_file': 49, 'S-APT_group': 50, 'S-Ransomware': 51, 'S-Campaign': 52, 'S-Algorithm': 53, 'S-System': 54, 'S-Organization': 55, 'S-Indicator': 56, '<start>': 57, '<end>': 58}\n",
      "\n",
      "Relation Label Map:\n",
      "{'O': 0, 'B-originate_from': 1, 'B-utilizes': 2, 'B-is_susceptible': 3, 'B-contains_product': 4, 'B-contains_file': 5, 'B-belongs_to': 6, 'B-operates_in': 7, 'B-launches': 8, 'B-is_a_type_of': 9, 'B-indicates': 10, 'B-implements': 11, 'I-originate_from': 12, 'I-utilizes': 13, 'I-is_susceptible': 14, 'I-contains_product': 15, 'I-contains_file': 16, 'I-belongs_to': 17, 'I-operates_in': 18, 'I-launches': 19, 'I-is_a_type_of': 20, 'I-indicates': 21, 'I-implements': 22, 'E-originate_from': 23, 'E-utilizes': 24, 'E-is_susceptible': 25, 'E-contains_product': 26, 'E-contains_file': 27, 'E-belongs_to': 28, 'E-operates_in': 29, 'E-launches': 30, 'E-is_a_type_of': 31, 'E-indicates': 32, 'E-implements': 33, 'S-originate_from': 34, 'S-utilizes': 35, 'S-is_susceptible': 36, 'S-contains_product': 37, 'S-contains_file': 38, 'S-belongs_to': 39, 'S-operates_in': 40, 'S-launches': 41, 'S-is_a_type_of': 42, 'S-indicates': 43, 'S-implements': 44}\n",
      "\n",
      "Train Data Shapes:\n",
      "Input IDs: torch.Size([2811, 512])\n",
      "Attention Masks: torch.Size([2811, 512])\n",
      "Label IDs: torch.Size([2811, 512])\n",
      "\n",
      "Total number of labels: 60\n"
     ]
    },
    {
     "name": "stderr",
     "output_type": "stream",
     "text": [
      "Some weights of ElectraForTokenClassification were not initialized from the model checkpoint at google/electra-base-discriminator and are newly initialized: ['classifier.bias', 'classifier.weight']\n",
      "You should probably TRAIN this model on a down-stream task to be able to use it for predictions and inference.\n"
     ]
    }
   ],
   "source": [
    "from transformers import ElectraTokenizer, ElectraForTokenClassification\n",
    "import torch\n",
    "from torch.utils.data import DataLoader, TensorDataset\n",
    "from torch.nn.utils.rnn import pad_sequence\n",
    "\n",
    "# Define entity and relation types\n",
    "entity_types = [\"Corporation\", \"Locale\", \"Application\", \"Malware\", \"Vulnerability\", \"Assault_technique\",\n",
    "                \"Infected_file\", \"APT_group\", \"Ransomware\", \"Campaign\", \"Algorithm\", \"System\", \"Organization\", \"Indicator\"]\n",
    "\n",
    "relation_types = [\"originate_from\", \"utilizes\", \"is_susceptible\", \"contains_product\", \"contains_file\",\n",
    "                  \"belongs_to\", \"operates_in\", \"launches\", \"is_a_type_of\", \"indicates\", \"implements\"]\n",
    "\n",
    "# Define label mappings\n",
    "entity_tags = [\"O\"] + [f\"B-{entity}\" for entity in entity_types] + [f\"I-{entity}\" for entity in entity_types] + [f\"E-{entity}\" for entity in entity_types] + [f\"S-{entity}\" for entity in entity_types]\n",
    "relation_tags = [\"O\"] + [f\"B-{relation}\" for relation in relation_types] + [f\"I-{relation}\" for relation in relation_types] + [f\"E-{relation}\" for relation in relation_types] + [f\"S-{relation}\" for relation in relation_types]\n",
    "\n",
    "entity_label_map = {tag: idx for idx, tag in enumerate(entity_tags)}\n",
    "relation_label_map = {tag: idx for idx, tag in enumerate(relation_tags)}\n",
    "\n",
    "# Add start and end tokens to entity_label_map\n",
    "entity_label_map['<start>'] = len(entity_label_map)\n",
    "entity_label_map['<end>'] = len(entity_label_map)\n",
    "\n",
    "# Define the preprocessing function\n",
    "def preprocess_ner_data(file_path, encoding='utf-8'):\n",
    "    with open(file_path, 'r', encoding=encoding) as file:\n",
    "        lines = file.readlines()\n",
    "\n",
    "    sentences = []\n",
    "    labels = []\n",
    "    sentence = []\n",
    "    label = []\n",
    "\n",
    "    for line in lines:\n",
    "        if line.strip() == \"\":\n",
    "            if sentence:\n",
    "                sentences.append(['<start>'] + sentence + ['<end>'])\n",
    "                labels.append(['<start>'] + label + ['<end>'])\n",
    "                sentence = []\n",
    "                label = []\n",
    "        else:\n",
    "            word, tag = line.strip().split('\\t')\n",
    "            sentence.append(word)\n",
    "            label.append(tag)\n",
    "\n",
    "    if sentence:\n",
    "        sentences.append(['<start>'] + sentence + ['<end>'])\n",
    "        labels.append(['<start>'] + label + ['<end>'])\n",
    "\n",
    "    return sentences, labels\n",
    "\n",
    "# Preprocess data\n",
    "train_sentences, train_labels = preprocess_ner_data(\"C:\\\\Users\\\\Admin\\\\Desktop\\\\nitt\\\\data\\\\MITREtrain.txt\")\n",
    "valid_sentences, valid_labels = preprocess_ner_data(\"C:\\\\Users\\\\Admin\\\\Desktop\\\\nitt\\\\data\\\\MITREvalid.txt\")\n",
    "test_sentences, test_labels = preprocess_ner_data(\"C:\\\\Users\\\\Admin\\\\Desktop\\\\nitt\\\\data\\\\MITREtest.txt\")\n",
    "\n",
    "print(\"Entity Label Map:\")\n",
    "print(entity_label_map)\n",
    "print(\"\\nRelation Label Map:\")\n",
    "print(relation_label_map)\n",
    "\n",
    "# Initialize the ELECTRA tokenizer\n",
    "tokenizer = ElectraTokenizer.from_pretrained('google/electra-base-discriminator')\n",
    "\n",
    "# Function to tokenize and encode sentences\n",
    "def tokenize_and_encode(sentences, labels, tokenizer, entity_label_map, max_length=512):\n",
    "    all_input_ids = []\n",
    "    all_attention_masks = []\n",
    "    all_label_ids = []\n",
    "\n",
    "    for sentence, label in zip(sentences, labels):\n",
    "        # Tokenize each word separately\n",
    "        tokenized_words = [tokenizer.tokenize(word) for word in sentence]\n",
    "        \n",
    "        # Flatten the list of tokenized words\n",
    "        tokens = [token for word in tokenized_words for token in word]\n",
    "        \n",
    "        # Convert tokens to ids\n",
    "        input_id = tokenizer.convert_tokens_to_ids(tokens)\n",
    "        \n",
    "        # Create attention mask\n",
    "        attention_mask = [1] * len(input_id)\n",
    "        \n",
    "        # Align labels\n",
    "        label_id = []\n",
    "        for word, word_tokens in zip(label, tokenized_words):\n",
    "            label_id.extend([entity_label_map.get(word, entity_label_map[\"O\"])] * len(word_tokens))\n",
    "        \n",
    "        # Pad or truncate\n",
    "        if len(input_id) < max_length:\n",
    "            padding_length = max_length - len(input_id)\n",
    "            input_id = input_id + [tokenizer.pad_token_id] * padding_length\n",
    "            attention_mask = attention_mask + [0] * padding_length\n",
    "            label_id = label_id + [entity_label_map['<pad>']] * padding_length\n",
    "        else:\n",
    "            input_id = input_id[:max_length]\n",
    "            attention_mask = attention_mask[:max_length]\n",
    "            label_id = label_id[:max_length]\n",
    "        \n",
    "        all_input_ids.append(input_id)\n",
    "        all_attention_masks.append(attention_mask)\n",
    "        all_label_ids.append(label_id)\n",
    "\n",
    "    # Convert to tensors\n",
    "    all_input_ids = torch.tensor(all_input_ids)\n",
    "    all_attention_masks = torch.tensor(all_attention_masks)\n",
    "    all_label_ids = torch.tensor(all_label_ids)\n",
    "    \n",
    "    return all_input_ids, all_attention_masks, all_label_ids\n",
    "\n",
    "# Add padding token to entity_label_map\n",
    "entity_label_map['<pad>'] = len(entity_label_map)\n",
    "\n",
    "# Tokenize with adjusted max_length\n",
    "train_inputs, train_masks, train_labels = tokenize_and_encode(train_sentences, train_labels, tokenizer, entity_label_map, max_length=512)\n",
    "valid_inputs, valid_masks, valid_labels = tokenize_and_encode(valid_sentences, valid_labels, tokenizer, entity_label_map, max_length=512)\n",
    "test_inputs, test_masks, test_labels = tokenize_and_encode(test_sentences, test_labels, tokenizer, entity_label_map, max_length=512)\n",
    "\n",
    "# Create TensorDataset instances\n",
    "train_data = TensorDataset(train_inputs, train_masks, train_labels)\n",
    "valid_data = TensorDataset(valid_inputs, valid_masks, valid_labels)\n",
    "test_data = TensorDataset(test_inputs, test_masks, test_labels)\n",
    "\n",
    "train_batch_size = 16\n",
    "train_loader = DataLoader(train_data, batch_size=train_batch_size, shuffle=True)\n",
    "valid_loader = DataLoader(valid_data, batch_size=train_batch_size)\n",
    "test_loader = DataLoader(test_data, batch_size=train_batch_size)\n",
    "\n",
    "# Print shapes to verify\n",
    "print(\"\\nTrain Data Shapes:\")\n",
    "print(\"Input IDs:\", train_inputs.shape)\n",
    "print(\"Attention Masks:\", train_masks.shape)\n",
    "print(\"Label IDs:\", train_labels.shape)\n",
    "\n",
    "print(f\"\\nTotal number of labels: {len(entity_label_map)}\")\n",
    "\n",
    "# Initialize ELECTRA model for token classification\n",
    "model = ElectraForTokenClassification.from_pretrained('google/electra-base-discriminator', num_labels=len(entity_label_map))"
   ]
  },
  {
   "cell_type": "code",
   "execution_count": 2,
   "id": "9a1f2276-320a-4c2e-8bad-2112391c2343",
   "metadata": {},
   "outputs": [
    {
     "name": "stdout",
     "output_type": "stream",
     "text": [
      "Model initialized with num_labels: 60\n"
     ]
    }
   ],
   "source": [
    "from TorchCRF import CRF\n",
    "import torch\n",
    "import torch.nn as nn\n",
    "from transformers import ElectraModel, ElectraTokenizer, AdamW\n",
    "from torch.utils.data import DataLoader\n",
    "from sklearn.metrics import f1_score\n",
    "import time\n",
    "from seqeval.metrics import f1_score as seqeval_f1_score\n",
    "from seqeval.scheme import IOB2\n",
    "\n",
    "# Define device\n",
    "device = torch.device('cuda' if torch.cuda.is_available() else 'cpu')\n",
    "\n",
    "class JointExtractionModel(nn.Module):\n",
    "    def __init__(self, num_labels, hidden_size, num_layers, device):\n",
    "        super(JointExtractionModel, self).__init__()\n",
    "        self.device = device\n",
    "        self.electra = ElectraModel.from_pretrained('google/electra-base-discriminator').to(device)\n",
    "        self.gru = nn.GRU(768, hidden_size, num_layers=num_layers, bidirectional=True, batch_first=True).to(device)\n",
    "        self.linear = nn.Linear(hidden_size * 2, num_labels).to(device)\n",
    "        self.crf = CRF(num_labels).to(device)\n",
    "        print(f\"Model initialized with num_labels: {num_labels}\")\n",
    "\n",
    "    def forward(self, input_ids, attention_mask):\n",
    "        electra_output = self.electra(input_ids=input_ids, attention_mask=attention_mask)\n",
    "        hidden = electra_output.last_hidden_state\n",
    "        gru_output, _ = self.gru(hidden)\n",
    "        logits = self.linear(gru_output)\n",
    "        return logits\n",
    "\n",
    "    def loss(self, input_ids, attention_mask, tags):\n",
    "        logits = self.forward(input_ids, attention_mask)\n",
    "        log_likelihood = self.crf.forward(logits, tags, mask=attention_mask.bool())\n",
    "        return -log_likelihood.mean()\n",
    "\n",
    "    def decode(self, input_ids, attention_mask):\n",
    "        logits = self.forward(input_ids, attention_mask)\n",
    "        return self.crf.viterbi_decode(logits, mask=attention_mask.bool())\n",
    "\n",
    "# Initialize the model\n",
    "hidden_size = 256  # or any other value you prefer\n",
    "num_layers = 2  # or any other value you prefer\n",
    "num_labels = len(entity_label_map)\n",
    "model = JointExtractionModel(num_labels, hidden_size, num_layers, device)\n",
    "\n",
    "# Initialize the ELECTRA tokenizer\n",
    "tokenizer = ElectraTokenizer.from_pretrained('google/electra-base-discriminator')\n",
    "\n",
    "# The rest of your code (data loading, training loop, etc.) remains the same"
   ]
  },
  {
   "cell_type": "code",
   "execution_count": 3,
   "id": "e8bc7c32-aa24-48c6-9736-53743b98429d",
   "metadata": {},
   "outputs": [],
   "source": [
    "import torch\n",
    "import torch.nn as nn\n",
    "from torch.utils.data import DataLoader\n",
    "from transformers import AdamW, get_linear_schedule_with_warmup\n",
    "from tqdm import tqdm\n",
    "from seqeval.metrics import f1_score, precision_score, recall_score\n",
    "from sklearn.metrics import f1_score as sklearn_f1_score\n",
    "import numpy as np\n",
    "from seqeval.metrics import f1_score as seqeval_f1_score\n",
    "from seqeval.metrics import precision_score as seqeval_precision_score\n",
    "from seqeval.metrics import recall_score as seqeval_recall_score\n",
    "from collections import Counter\n",
    "\n",
    "def train(model, train_loader, val_loader, test_loader, epochs, lr, entity_label_map, device, accumulation_steps=1):\n",
    "    model = model.to(device)\n",
    "    optimizer = AdamW(model.parameters(), lr=lr)\n",
    "    total_steps = len(train_loader) * epochs // accumulation_steps\n",
    "    scheduler = get_linear_schedule_with_warmup(optimizer, num_warmup_steps=0, num_training_steps=total_steps)\n",
    "    best_val_f1 = 0.0\n",
    "    \n",
    "    for epoch in range(epochs):\n",
    "        model.train()\n",
    "        total_loss = 0\n",
    "        optimizer.zero_grad()  # Zero gradients at the start of each epoch\n",
    "        \n",
    "        progress_bar = tqdm(train_loader, desc=f\"Epoch {epoch+1}/{epochs}\")\n",
    "        for step, batch in enumerate(progress_bar):\n",
    "            input_ids, attention_mask, tags = [b.to(device) for b in batch]\n",
    "            loss = model.loss(input_ids, attention_mask, tags)\n",
    "            loss = loss / accumulation_steps  # Normalize loss for gradient accumulation\n",
    "            loss.backward()\n",
    "            \n",
    "            if (step + 1) % accumulation_steps == 0:\n",
    "                torch.nn.utils.clip_grad_norm_(model.parameters(), max_norm=1.0)  # Gradient clipping\n",
    "                optimizer.step()\n",
    "                scheduler.step()\n",
    "                optimizer.zero_grad()\n",
    "            \n",
    "            total_loss += loss.item() * accumulation_steps\n",
    "            \n",
    "            # Update progress bar\n",
    "            progress_bar.set_postfix({'loss': f\"{loss.item():.4f}\"})\n",
    "        \n",
    "        avg_loss = total_loss / len(train_loader)\n",
    "        val_f1, val_precision, val_recall = evaluate(model, val_loader, entity_label_map, device)\n",
    "        \n",
    "        print(f'Epoch {epoch+1}/{epochs}:')\n",
    "        print(f'  Train Loss: {avg_loss:.4f}')\n",
    "        print(f'  Val F1: {val_f1:.4f}')\n",
    "        print(f'  Val Precision: {val_precision:.4f}')\n",
    "        print(f'  Val Recall: {val_recall:.4f}')\n",
    "        \n",
    "        if val_f1 > best_val_f1:\n",
    "            best_val_f1 = val_f1\n",
    "            torch.save(model.state_dict(), 'best_electra_ner_model_16.pt')\n",
    "    \n",
    "    model.load_state_dict(torch.load('best_electra_ner_model_16.pt', map_location=device))\n",
    "    test_f1, test_precision, test_recall = evaluate(model, test_loader, entity_label_map, device)\n",
    "    print(f'Test F1-score: {test_f1:.4f}')\n",
    "    print(f'Test Precision: {test_precision:.4f}')\n",
    "    print(f'Test Recall: {test_recall:.4f}')\n",
    "    \n",
    "    return best_val_f1, test_f1, test_precision, test_recall"
   ]
  },
  {
   "cell_type": "code",
   "execution_count": 4,
   "id": "2edc38eb-0023-40ab-a518-e57fe97d2aef",
   "metadata": {},
   "outputs": [],
   "source": [
    "def evaluate(model, data_loader, entity_label_map, device):\n",
    "    model.eval()\n",
    "    all_preds = []\n",
    "    all_labels = []\n",
    "    inv_label_map = {v: k for k, v in entity_label_map.items()}\n",
    "\n",
    "    with torch.no_grad():\n",
    "        for batch in data_loader:\n",
    "            input_ids, attention_mask, tags = [b.to(device) for b in batch]\n",
    "            predictions = model.decode(input_ids, attention_mask)\n",
    "            \n",
    "            for pred, true, mask in zip(predictions, tags, attention_mask):\n",
    "                pred = [inv_label_map[p] for p, m in zip(pred, mask) if m.item() == 1]\n",
    "                true = [inv_label_map[t.item()] for t, m in zip(true, mask) if m.item() == 1 and t.item() != -100]\n",
    "                \n",
    "                # Ensure pred and true have the same length\n",
    "                min_len = min(len(pred), len(true))\n",
    "                pred = pred[:min_len]\n",
    "                true = true[:min_len]\n",
    "                \n",
    "                all_preds.append(pred)\n",
    "                all_labels.append(true)\n",
    "\n",
    "    # Print some debug information\n",
    "    print(f\"Number of predicted sequences: {len(all_preds)}\")\n",
    "    print(f\"Number of true label sequences: {len(all_labels)}\")\n",
    "    print(f\"Lengths of first few predicted sequences: {[len(p) for p in all_preds[:5]]}\")\n",
    "    print(f\"Lengths of first few true label sequences: {[len(t) for t in all_labels[:5]]}\")\n",
    "\n",
    "    f1 = f1_score(all_labels, all_preds)\n",
    "    precision = precision_score(all_labels, all_preds)\n",
    "    recall = recall_score(all_labels, all_preds)\n",
    "\n",
    "    return f1, precision, recall"
   ]
  },
  {
   "cell_type": "code",
   "execution_count": 5,
   "id": "5491f623-bf3e-49cd-8944-165f6431ff48",
   "metadata": {
    "scrolled": true
   },
   "outputs": [
    {
     "name": "stderr",
     "output_type": "stream",
     "text": [
      "c:\\users\\admin\\appdata\\local\\programs\\python\\python39\\lib\\site-packages\\transformers\\optimization.py:591: FutureWarning: This implementation of AdamW is deprecated and will be removed in a future version. Use the PyTorch implementation torch.optim.AdamW instead, or set `no_deprecation_warning=True` to disable this warning\n",
      "  warnings.warn(\n",
      "Epoch 1/100: 100%|█████████████████████████████████████████████████████| 176/176 [03:34<00:00,  1.22s/it, loss=10.3091]\n"
     ]
    },
    {
     "name": "stdout",
     "output_type": "stream",
     "text": [
      "Number of predicted sequences: 813\n",
      "Number of true label sequences: 813\n",
      "Lengths of first few predicted sequences: [46, 56, 20, 18, 24]\n",
      "Lengths of first few true label sequences: [46, 56, 20, 18, 24]\n"
     ]
    },
    {
     "name": "stderr",
     "output_type": "stream",
     "text": [
      "C:\\Users\\Admin\\AppData\\Roaming\\Python\\Python39\\site-packages\\seqeval\\metrics\\sequence_labeling.py:171: UserWarning: <start> seems not to be NE tag.\n",
      "  warnings.warn('{} seems not to be NE tag.'.format(chunk))\n",
      "C:\\Users\\Admin\\AppData\\Roaming\\Python\\Python39\\site-packages\\seqeval\\metrics\\sequence_labeling.py:171: UserWarning: <end> seems not to be NE tag.\n",
      "  warnings.warn('{} seems not to be NE tag.'.format(chunk))\n"
     ]
    },
    {
     "name": "stdout",
     "output_type": "stream",
     "text": [
      "Epoch 1/100:\n",
      "  Train Loss: 91.6144\n",
      "  Val F1: 0.5097\n",
      "  Val Precision: 0.8399\n",
      "  Val Recall: 0.3659\n"
     ]
    },
    {
     "name": "stderr",
     "output_type": "stream",
     "text": [
      "Epoch 2/100: 100%|██████████████████████████████████████████████████████| 176/176 [03:33<00:00,  1.21s/it, loss=4.2172]\n"
     ]
    },
    {
     "name": "stdout",
     "output_type": "stream",
     "text": [
      "Number of predicted sequences: 813\n",
      "Number of true label sequences: 813\n",
      "Lengths of first few predicted sequences: [46, 56, 20, 18, 24]\n",
      "Lengths of first few true label sequences: [46, 56, 20, 18, 24]\n",
      "Epoch 2/100:\n",
      "  Train Loss: 32.3981\n",
      "  Val F1: 0.7673\n",
      "  Val Precision: 0.8301\n",
      "  Val Recall: 0.7133\n"
     ]
    },
    {
     "name": "stderr",
     "output_type": "stream",
     "text": [
      "Epoch 3/100: 100%|██████████████████████████████████████████████████████| 176/176 [03:27<00:00,  1.18s/it, loss=3.7686]\n"
     ]
    },
    {
     "name": "stdout",
     "output_type": "stream",
     "text": [
      "Number of predicted sequences: 813\n",
      "Number of true label sequences: 813\n",
      "Lengths of first few predicted sequences: [46, 56, 20, 18, 24]\n",
      "Lengths of first few true label sequences: [46, 56, 20, 18, 24]\n",
      "Epoch 3/100:\n",
      "  Train Loss: 17.3750\n",
      "  Val F1: 0.7839\n",
      "  Val Precision: 0.8575\n",
      "  Val Recall: 0.7219\n"
     ]
    },
    {
     "name": "stderr",
     "output_type": "stream",
     "text": [
      "Epoch 4/100: 100%|██████████████████████████████████████████████████████| 176/176 [03:28<00:00,  1.19s/it, loss=5.2968]\n"
     ]
    },
    {
     "name": "stdout",
     "output_type": "stream",
     "text": [
      "Number of predicted sequences: 813\n",
      "Number of true label sequences: 813\n",
      "Lengths of first few predicted sequences: [46, 56, 20, 18, 24]\n",
      "Lengths of first few true label sequences: [46, 56, 20, 18, 24]\n",
      "Epoch 4/100:\n",
      "  Train Loss: 11.1603\n",
      "  Val F1: 0.7854\n",
      "  Val Precision: 0.8178\n",
      "  Val Recall: 0.7554\n"
     ]
    },
    {
     "name": "stderr",
     "output_type": "stream",
     "text": [
      "Epoch 5/100: 100%|██████████████████████████████████████████████████████| 176/176 [03:28<00:00,  1.19s/it, loss=1.9497]\n"
     ]
    },
    {
     "name": "stdout",
     "output_type": "stream",
     "text": [
      "Number of predicted sequences: 813\n",
      "Number of true label sequences: 813\n",
      "Lengths of first few predicted sequences: [46, 56, 20, 18, 24]\n",
      "Lengths of first few true label sequences: [46, 56, 20, 18, 24]\n",
      "Epoch 5/100:\n",
      "  Train Loss: 8.1052\n",
      "  Val F1: 0.8137\n",
      "  Val Precision: 0.8107\n",
      "  Val Recall: 0.8168\n"
     ]
    },
    {
     "name": "stderr",
     "output_type": "stream",
     "text": [
      "Epoch 6/100: 100%|██████████████████████████████████████████████████████| 176/176 [03:28<00:00,  1.18s/it, loss=0.7818]\n"
     ]
    },
    {
     "name": "stdout",
     "output_type": "stream",
     "text": [
      "Number of predicted sequences: 813\n",
      "Number of true label sequences: 813\n",
      "Lengths of first few predicted sequences: [46, 56, 20, 18, 24]\n",
      "Lengths of first few true label sequences: [46, 56, 20, 18, 24]\n",
      "Epoch 6/100:\n",
      "  Train Loss: 6.5135\n",
      "  Val F1: 0.8273\n",
      "  Val Precision: 0.8380\n",
      "  Val Recall: 0.8170\n"
     ]
    },
    {
     "name": "stderr",
     "output_type": "stream",
     "text": [
      "Epoch 7/100: 100%|██████████████████████████████████████████████████████| 176/176 [03:27<00:00,  1.18s/it, loss=1.9797]\n"
     ]
    },
    {
     "name": "stdout",
     "output_type": "stream",
     "text": [
      "Number of predicted sequences: 813\n",
      "Number of true label sequences: 813\n",
      "Lengths of first few predicted sequences: [46, 56, 20, 18, 24]\n",
      "Lengths of first few true label sequences: [46, 56, 20, 18, 24]\n",
      "Epoch 7/100:\n",
      "  Train Loss: 5.5602\n",
      "  Val F1: 0.8395\n",
      "  Val Precision: 0.8263\n",
      "  Val Recall: 0.8530\n"
     ]
    },
    {
     "name": "stderr",
     "output_type": "stream",
     "text": [
      "Epoch 8/100: 100%|██████████████████████████████████████████████████████| 176/176 [03:27<00:00,  1.18s/it, loss=0.6014]\n"
     ]
    },
    {
     "name": "stdout",
     "output_type": "stream",
     "text": [
      "Number of predicted sequences: 813\n",
      "Number of true label sequences: 813\n",
      "Lengths of first few predicted sequences: [46, 56, 20, 18, 24]\n",
      "Lengths of first few true label sequences: [46, 56, 20, 18, 24]\n",
      "Epoch 8/100:\n",
      "  Train Loss: 4.7416\n",
      "  Val F1: 0.8505\n",
      "  Val Precision: 0.8344\n",
      "  Val Recall: 0.8671\n"
     ]
    },
    {
     "name": "stderr",
     "output_type": "stream",
     "text": [
      "Epoch 9/100: 100%|██████████████████████████████████████████████████████| 176/176 [03:28<00:00,  1.19s/it, loss=0.6839]\n"
     ]
    },
    {
     "name": "stdout",
     "output_type": "stream",
     "text": [
      "Number of predicted sequences: 813\n",
      "Number of true label sequences: 813\n",
      "Lengths of first few predicted sequences: [46, 56, 20, 18, 24]\n",
      "Lengths of first few true label sequences: [46, 56, 20, 18, 24]\n",
      "Epoch 9/100:\n",
      "  Train Loss: 4.0533\n",
      "  Val F1: 0.8480\n",
      "  Val Precision: 0.8337\n",
      "  Val Recall: 0.8628\n"
     ]
    },
    {
     "name": "stderr",
     "output_type": "stream",
     "text": [
      "Epoch 10/100: 100%|█████████████████████████████████████████████████████| 176/176 [03:27<00:00,  1.18s/it, loss=1.3772]\n"
     ]
    },
    {
     "name": "stdout",
     "output_type": "stream",
     "text": [
      "Number of predicted sequences: 813\n",
      "Number of true label sequences: 813\n",
      "Lengths of first few predicted sequences: [46, 56, 20, 18, 24]\n",
      "Lengths of first few true label sequences: [46, 56, 20, 18, 24]\n",
      "Epoch 10/100:\n",
      "  Train Loss: 3.4717\n",
      "  Val F1: 0.8504\n",
      "  Val Precision: 0.8442\n",
      "  Val Recall: 0.8568\n"
     ]
    },
    {
     "name": "stderr",
     "output_type": "stream",
     "text": [
      "Epoch 11/100: 100%|█████████████████████████████████████████████████████| 176/176 [03:27<00:00,  1.18s/it, loss=0.5569]\n"
     ]
    },
    {
     "name": "stdout",
     "output_type": "stream",
     "text": [
      "Number of predicted sequences: 813\n",
      "Number of true label sequences: 813\n",
      "Lengths of first few predicted sequences: [46, 56, 20, 18, 24]\n",
      "Lengths of first few true label sequences: [46, 56, 20, 18, 24]\n",
      "Epoch 11/100:\n",
      "  Train Loss: 3.1219\n",
      "  Val F1: 0.8585\n",
      "  Val Precision: 0.8579\n",
      "  Val Recall: 0.8591\n"
     ]
    },
    {
     "name": "stderr",
     "output_type": "stream",
     "text": [
      "Epoch 12/100: 100%|█████████████████████████████████████████████████████| 176/176 [03:28<00:00,  1.19s/it, loss=0.3974]\n"
     ]
    },
    {
     "name": "stdout",
     "output_type": "stream",
     "text": [
      "Number of predicted sequences: 813\n",
      "Number of true label sequences: 813\n",
      "Lengths of first few predicted sequences: [46, 56, 20, 18, 24]\n",
      "Lengths of first few true label sequences: [46, 56, 20, 18, 24]\n",
      "Epoch 12/100:\n",
      "  Train Loss: 2.6871\n",
      "  Val F1: 0.8688\n",
      "  Val Precision: 0.8722\n",
      "  Val Recall: 0.8654\n"
     ]
    },
    {
     "name": "stderr",
     "output_type": "stream",
     "text": [
      "Epoch 13/100: 100%|█████████████████████████████████████████████████████| 176/176 [03:28<00:00,  1.18s/it, loss=0.7661]\n"
     ]
    },
    {
     "name": "stdout",
     "output_type": "stream",
     "text": [
      "Number of predicted sequences: 813\n",
      "Number of true label sequences: 813\n",
      "Lengths of first few predicted sequences: [46, 56, 20, 18, 24]\n",
      "Lengths of first few true label sequences: [46, 56, 20, 18, 24]\n",
      "Epoch 13/100:\n",
      "  Train Loss: 2.2488\n",
      "  Val F1: 0.8730\n",
      "  Val Precision: 0.8874\n",
      "  Val Recall: 0.8591\n"
     ]
    },
    {
     "name": "stderr",
     "output_type": "stream",
     "text": [
      "Epoch 14/100: 100%|█████████████████████████████████████████████████████| 176/176 [03:28<00:00,  1.19s/it, loss=0.2991]\n"
     ]
    },
    {
     "name": "stdout",
     "output_type": "stream",
     "text": [
      "Number of predicted sequences: 813\n",
      "Number of true label sequences: 813\n",
      "Lengths of first few predicted sequences: [46, 56, 20, 18, 24]\n",
      "Lengths of first few true label sequences: [46, 56, 20, 18, 24]\n",
      "Epoch 14/100:\n",
      "  Train Loss: 2.0206\n",
      "  Val F1: 0.8779\n",
      "  Val Precision: 0.8756\n",
      "  Val Recall: 0.8803\n"
     ]
    },
    {
     "name": "stderr",
     "output_type": "stream",
     "text": [
      "Epoch 15/100: 100%|█████████████████████████████████████████████████████| 176/176 [03:27<00:00,  1.18s/it, loss=0.0718]\n"
     ]
    },
    {
     "name": "stdout",
     "output_type": "stream",
     "text": [
      "Number of predicted sequences: 813\n",
      "Number of true label sequences: 813\n",
      "Lengths of first few predicted sequences: [46, 56, 20, 18, 24]\n",
      "Lengths of first few true label sequences: [46, 56, 20, 18, 24]\n",
      "Epoch 15/100:\n",
      "  Train Loss: 1.7367\n",
      "  Val F1: 0.8769\n",
      "  Val Precision: 0.8663\n",
      "  Val Recall: 0.8877\n"
     ]
    },
    {
     "name": "stderr",
     "output_type": "stream",
     "text": [
      "Epoch 16/100: 100%|█████████████████████████████████████████████████████| 176/176 [03:28<00:00,  1.19s/it, loss=0.2243]\n"
     ]
    },
    {
     "name": "stdout",
     "output_type": "stream",
     "text": [
      "Number of predicted sequences: 813\n",
      "Number of true label sequences: 813\n",
      "Lengths of first few predicted sequences: [46, 56, 20, 18, 24]\n",
      "Lengths of first few true label sequences: [46, 56, 20, 18, 24]\n",
      "Epoch 16/100:\n",
      "  Train Loss: 1.4289\n",
      "  Val F1: 0.8848\n",
      "  Val Precision: 0.8702\n",
      "  Val Recall: 0.8999\n"
     ]
    },
    {
     "name": "stderr",
     "output_type": "stream",
     "text": [
      "Epoch 17/100: 100%|█████████████████████████████████████████████████████| 176/176 [03:27<00:00,  1.18s/it, loss=0.8221]\n"
     ]
    },
    {
     "name": "stdout",
     "output_type": "stream",
     "text": [
      "Number of predicted sequences: 813\n",
      "Number of true label sequences: 813\n",
      "Lengths of first few predicted sequences: [46, 56, 20, 18, 24]\n",
      "Lengths of first few true label sequences: [46, 56, 20, 18, 24]\n",
      "Epoch 17/100:\n",
      "  Train Loss: 1.3129\n",
      "  Val F1: 0.8736\n",
      "  Val Precision: 0.8874\n",
      "  Val Recall: 0.8603\n"
     ]
    },
    {
     "name": "stderr",
     "output_type": "stream",
     "text": [
      "Epoch 18/100: 100%|█████████████████████████████████████████████████████| 176/176 [03:29<00:00,  1.19s/it, loss=0.0262]\n"
     ]
    },
    {
     "name": "stdout",
     "output_type": "stream",
     "text": [
      "Number of predicted sequences: 813\n",
      "Number of true label sequences: 813\n",
      "Lengths of first few predicted sequences: [46, 56, 20, 18, 24]\n",
      "Lengths of first few true label sequences: [46, 56, 20, 18, 24]\n",
      "Epoch 18/100:\n",
      "  Train Loss: 1.1785\n",
      "  Val F1: 0.8864\n",
      "  Val Precision: 0.8760\n",
      "  Val Recall: 0.8971\n"
     ]
    },
    {
     "name": "stderr",
     "output_type": "stream",
     "text": [
      "Epoch 19/100: 100%|█████████████████████████████████████████████████████| 176/176 [03:28<00:00,  1.18s/it, loss=0.1222]\n"
     ]
    },
    {
     "name": "stdout",
     "output_type": "stream",
     "text": [
      "Number of predicted sequences: 813\n",
      "Number of true label sequences: 813\n",
      "Lengths of first few predicted sequences: [46, 56, 20, 18, 24]\n",
      "Lengths of first few true label sequences: [46, 56, 20, 18, 24]\n",
      "Epoch 19/100:\n",
      "  Train Loss: 1.0021\n",
      "  Val F1: 0.8934\n",
      "  Val Precision: 0.8861\n",
      "  Val Recall: 0.9008\n"
     ]
    },
    {
     "name": "stderr",
     "output_type": "stream",
     "text": [
      "Epoch 20/100: 100%|█████████████████████████████████████████████████████| 176/176 [03:29<00:00,  1.19s/it, loss=0.1749]\n"
     ]
    },
    {
     "name": "stdout",
     "output_type": "stream",
     "text": [
      "Number of predicted sequences: 813\n",
      "Number of true label sequences: 813\n",
      "Lengths of first few predicted sequences: [46, 56, 20, 18, 24]\n",
      "Lengths of first few true label sequences: [46, 56, 20, 18, 24]\n",
      "Epoch 20/100:\n",
      "  Train Loss: 0.8661\n",
      "  Val F1: 0.8854\n",
      "  Val Precision: 0.8890\n",
      "  Val Recall: 0.8818\n"
     ]
    },
    {
     "name": "stderr",
     "output_type": "stream",
     "text": [
      "Epoch 21/100: 100%|█████████████████████████████████████████████████████| 176/176 [03:29<00:00,  1.19s/it, loss=0.1563]\n"
     ]
    },
    {
     "name": "stdout",
     "output_type": "stream",
     "text": [
      "Number of predicted sequences: 813\n",
      "Number of true label sequences: 813\n",
      "Lengths of first few predicted sequences: [46, 56, 20, 18, 24]\n",
      "Lengths of first few true label sequences: [46, 56, 20, 18, 24]\n",
      "Epoch 21/100:\n",
      "  Train Loss: 0.7833\n",
      "  Val F1: 0.8872\n",
      "  Val Precision: 0.8742\n",
      "  Val Recall: 0.9005\n"
     ]
    },
    {
     "name": "stderr",
     "output_type": "stream",
     "text": [
      "Epoch 22/100: 100%|█████████████████████████████████████████████████████| 176/176 [03:27<00:00,  1.18s/it, loss=0.2329]\n"
     ]
    },
    {
     "name": "stdout",
     "output_type": "stream",
     "text": [
      "Number of predicted sequences: 813\n",
      "Number of true label sequences: 813\n",
      "Lengths of first few predicted sequences: [46, 56, 20, 18, 24]\n",
      "Lengths of first few true label sequences: [46, 56, 20, 18, 24]\n",
      "Epoch 22/100:\n",
      "  Train Loss: 0.6967\n",
      "  Val F1: 0.8735\n",
      "  Val Precision: 0.8671\n",
      "  Val Recall: 0.8799\n"
     ]
    },
    {
     "name": "stderr",
     "output_type": "stream",
     "text": [
      "Epoch 23/100: 100%|█████████████████████████████████████████████████████| 176/176 [03:27<00:00,  1.18s/it, loss=0.0662]\n"
     ]
    },
    {
     "name": "stdout",
     "output_type": "stream",
     "text": [
      "Number of predicted sequences: 813\n",
      "Number of true label sequences: 813\n",
      "Lengths of first few predicted sequences: [46, 56, 20, 18, 24]\n",
      "Lengths of first few true label sequences: [46, 56, 20, 18, 24]\n",
      "Epoch 23/100:\n",
      "  Train Loss: 0.6874\n",
      "  Val F1: 0.8857\n",
      "  Val Precision: 0.8741\n",
      "  Val Recall: 0.8977\n"
     ]
    },
    {
     "name": "stderr",
     "output_type": "stream",
     "text": [
      "Epoch 24/100: 100%|█████████████████████████████████████████████████████| 176/176 [03:28<00:00,  1.19s/it, loss=0.0288]\n"
     ]
    },
    {
     "name": "stdout",
     "output_type": "stream",
     "text": [
      "Number of predicted sequences: 813\n",
      "Number of true label sequences: 813\n",
      "Lengths of first few predicted sequences: [46, 56, 20, 18, 24]\n",
      "Lengths of first few true label sequences: [46, 56, 20, 18, 24]\n",
      "Epoch 24/100:\n",
      "  Train Loss: 0.5442\n",
      "  Val F1: 0.8848\n",
      "  Val Precision: 0.8871\n",
      "  Val Recall: 0.8824\n"
     ]
    },
    {
     "name": "stderr",
     "output_type": "stream",
     "text": [
      "Epoch 25/100: 100%|█████████████████████████████████████████████████████| 176/176 [03:27<00:00,  1.18s/it, loss=0.1173]\n"
     ]
    },
    {
     "name": "stdout",
     "output_type": "stream",
     "text": [
      "Number of predicted sequences: 813\n",
      "Number of true label sequences: 813\n",
      "Lengths of first few predicted sequences: [46, 56, 20, 18, 24]\n",
      "Lengths of first few true label sequences: [46, 56, 20, 18, 24]\n",
      "Epoch 25/100:\n",
      "  Train Loss: 0.5340\n",
      "  Val F1: 0.8855\n",
      "  Val Precision: 0.8815\n",
      "  Val Recall: 0.8895\n"
     ]
    },
    {
     "name": "stderr",
     "output_type": "stream",
     "text": [
      "Epoch 26/100: 100%|█████████████████████████████████████████████████████| 176/176 [03:28<00:00,  1.19s/it, loss=0.1898]\n"
     ]
    },
    {
     "name": "stdout",
     "output_type": "stream",
     "text": [
      "Number of predicted sequences: 813\n",
      "Number of true label sequences: 813\n",
      "Lengths of first few predicted sequences: [46, 56, 20, 18, 24]\n",
      "Lengths of first few true label sequences: [46, 56, 20, 18, 24]\n",
      "Epoch 26/100:\n",
      "  Train Loss: 0.4493\n",
      "  Val F1: 0.8892\n",
      "  Val Precision: 0.8819\n",
      "  Val Recall: 0.8967\n"
     ]
    },
    {
     "name": "stderr",
     "output_type": "stream",
     "text": [
      "Epoch 27/100: 100%|█████████████████████████████████████████████████████| 176/176 [03:29<00:00,  1.19s/it, loss=0.1163]\n"
     ]
    },
    {
     "name": "stdout",
     "output_type": "stream",
     "text": [
      "Number of predicted sequences: 813\n",
      "Number of true label sequences: 813\n",
      "Lengths of first few predicted sequences: [46, 56, 20, 18, 24]\n",
      "Lengths of first few true label sequences: [46, 56, 20, 18, 24]\n",
      "Epoch 27/100:\n",
      "  Train Loss: 0.4056\n",
      "  Val F1: 0.8868\n",
      "  Val Precision: 0.8782\n",
      "  Val Recall: 0.8956\n"
     ]
    },
    {
     "name": "stderr",
     "output_type": "stream",
     "text": [
      "Epoch 28/100: 100%|█████████████████████████████████████████████████████| 176/176 [03:31<00:00,  1.20s/it, loss=0.2056]\n"
     ]
    },
    {
     "name": "stdout",
     "output_type": "stream",
     "text": [
      "Number of predicted sequences: 813\n",
      "Number of true label sequences: 813\n",
      "Lengths of first few predicted sequences: [46, 56, 20, 18, 24]\n",
      "Lengths of first few true label sequences: [46, 56, 20, 18, 24]\n",
      "Epoch 28/100:\n",
      "  Train Loss: 0.3294\n",
      "  Val F1: 0.8899\n",
      "  Val Precision: 0.8808\n",
      "  Val Recall: 0.8993\n"
     ]
    },
    {
     "name": "stderr",
     "output_type": "stream",
     "text": [
      "Epoch 29/100: 100%|█████████████████████████████████████████████████████| 176/176 [03:27<00:00,  1.18s/it, loss=0.0334]\n"
     ]
    },
    {
     "name": "stdout",
     "output_type": "stream",
     "text": [
      "Number of predicted sequences: 813\n",
      "Number of true label sequences: 813\n",
      "Lengths of first few predicted sequences: [46, 56, 20, 18, 24]\n",
      "Lengths of first few true label sequences: [46, 56, 20, 18, 24]\n",
      "Epoch 29/100:\n",
      "  Train Loss: 0.3097\n",
      "  Val F1: 0.8822\n",
      "  Val Precision: 0.8630\n",
      "  Val Recall: 0.9022\n"
     ]
    },
    {
     "name": "stderr",
     "output_type": "stream",
     "text": [
      "Epoch 30/100: 100%|█████████████████████████████████████████████████████| 176/176 [03:29<00:00,  1.19s/it, loss=0.0152]\n"
     ]
    },
    {
     "name": "stdout",
     "output_type": "stream",
     "text": [
      "Number of predicted sequences: 813\n",
      "Number of true label sequences: 813\n",
      "Lengths of first few predicted sequences: [46, 56, 20, 18, 24]\n",
      "Lengths of first few true label sequences: [46, 56, 20, 18, 24]\n",
      "Epoch 30/100:\n",
      "  Train Loss: 0.2881\n",
      "  Val F1: 0.8822\n",
      "  Val Precision: 0.8785\n",
      "  Val Recall: 0.8859\n"
     ]
    },
    {
     "name": "stderr",
     "output_type": "stream",
     "text": [
      "Epoch 31/100: 100%|█████████████████████████████████████████████████████| 176/176 [03:29<00:00,  1.19s/it, loss=0.0158]\n"
     ]
    },
    {
     "name": "stdout",
     "output_type": "stream",
     "text": [
      "Number of predicted sequences: 813\n",
      "Number of true label sequences: 813\n",
      "Lengths of first few predicted sequences: [46, 56, 20, 18, 24]\n",
      "Lengths of first few true label sequences: [46, 56, 20, 18, 24]\n",
      "Epoch 31/100:\n",
      "  Train Loss: 0.2484\n",
      "  Val F1: 0.8783\n",
      "  Val Precision: 0.8863\n",
      "  Val Recall: 0.8705\n"
     ]
    },
    {
     "name": "stderr",
     "output_type": "stream",
     "text": [
      "Epoch 32/100: 100%|█████████████████████████████████████████████████████| 176/176 [03:27<00:00,  1.18s/it, loss=0.0131]\n"
     ]
    },
    {
     "name": "stdout",
     "output_type": "stream",
     "text": [
      "Number of predicted sequences: 813\n",
      "Number of true label sequences: 813\n",
      "Lengths of first few predicted sequences: [46, 56, 20, 18, 24]\n",
      "Lengths of first few true label sequences: [46, 56, 20, 18, 24]\n",
      "Epoch 32/100:\n",
      "  Train Loss: 0.2253\n",
      "  Val F1: 0.8891\n",
      "  Val Precision: 0.8772\n",
      "  Val Recall: 0.9014\n"
     ]
    },
    {
     "name": "stderr",
     "output_type": "stream",
     "text": [
      "Epoch 33/100: 100%|█████████████████████████████████████████████████████| 176/176 [03:29<00:00,  1.19s/it, loss=0.0495]\n"
     ]
    },
    {
     "name": "stdout",
     "output_type": "stream",
     "text": [
      "Number of predicted sequences: 813\n",
      "Number of true label sequences: 813\n",
      "Lengths of first few predicted sequences: [46, 56, 20, 18, 24]\n",
      "Lengths of first few true label sequences: [46, 56, 20, 18, 24]\n",
      "Epoch 33/100:\n",
      "  Train Loss: 0.2326\n",
      "  Val F1: 0.8858\n",
      "  Val Precision: 0.8781\n",
      "  Val Recall: 0.8936\n"
     ]
    },
    {
     "name": "stderr",
     "output_type": "stream",
     "text": [
      "Epoch 34/100: 100%|█████████████████████████████████████████████████████| 176/176 [03:30<00:00,  1.19s/it, loss=0.0177]\n"
     ]
    },
    {
     "name": "stdout",
     "output_type": "stream",
     "text": [
      "Number of predicted sequences: 813\n",
      "Number of true label sequences: 813\n",
      "Lengths of first few predicted sequences: [46, 56, 20, 18, 24]\n",
      "Lengths of first few true label sequences: [46, 56, 20, 18, 24]\n",
      "Epoch 34/100:\n",
      "  Train Loss: 0.1874\n",
      "  Val F1: 0.8952\n",
      "  Val Precision: 0.8840\n",
      "  Val Recall: 0.9067\n"
     ]
    },
    {
     "name": "stderr",
     "output_type": "stream",
     "text": [
      "Epoch 35/100: 100%|█████████████████████████████████████████████████████| 176/176 [03:29<00:00,  1.19s/it, loss=0.0254]\n"
     ]
    },
    {
     "name": "stdout",
     "output_type": "stream",
     "text": [
      "Number of predicted sequences: 813\n",
      "Number of true label sequences: 813\n",
      "Lengths of first few predicted sequences: [46, 56, 20, 18, 24]\n",
      "Lengths of first few true label sequences: [46, 56, 20, 18, 24]\n",
      "Epoch 35/100:\n",
      "  Train Loss: 0.1947\n",
      "  Val F1: 0.8857\n",
      "  Val Precision: 0.8655\n",
      "  Val Recall: 0.9069\n"
     ]
    },
    {
     "name": "stderr",
     "output_type": "stream",
     "text": [
      "Epoch 36/100: 100%|█████████████████████████████████████████████████████| 176/176 [03:28<00:00,  1.18s/it, loss=0.0153]\n"
     ]
    },
    {
     "name": "stdout",
     "output_type": "stream",
     "text": [
      "Number of predicted sequences: 813\n",
      "Number of true label sequences: 813\n",
      "Lengths of first few predicted sequences: [46, 56, 20, 18, 24]\n",
      "Lengths of first few true label sequences: [46, 56, 20, 18, 24]\n",
      "Epoch 36/100:\n",
      "  Train Loss: 0.1788\n",
      "  Val F1: 0.8884\n",
      "  Val Precision: 0.8781\n",
      "  Val Recall: 0.8989\n"
     ]
    },
    {
     "name": "stderr",
     "output_type": "stream",
     "text": [
      "Epoch 37/100: 100%|█████████████████████████████████████████████████████| 176/176 [03:28<00:00,  1.19s/it, loss=0.0082]\n"
     ]
    },
    {
     "name": "stdout",
     "output_type": "stream",
     "text": [
      "Number of predicted sequences: 813\n",
      "Number of true label sequences: 813\n",
      "Lengths of first few predicted sequences: [46, 56, 20, 18, 24]\n",
      "Lengths of first few true label sequences: [46, 56, 20, 18, 24]\n",
      "Epoch 37/100:\n",
      "  Train Loss: 0.1382\n",
      "  Val F1: 0.8893\n",
      "  Val Precision: 0.8789\n",
      "  Val Recall: 0.9001\n"
     ]
    },
    {
     "name": "stderr",
     "output_type": "stream",
     "text": [
      "Epoch 38/100: 100%|█████████████████████████████████████████████████████| 176/176 [03:29<00:00,  1.19s/it, loss=0.0062]\n"
     ]
    },
    {
     "name": "stdout",
     "output_type": "stream",
     "text": [
      "Number of predicted sequences: 813\n",
      "Number of true label sequences: 813\n",
      "Lengths of first few predicted sequences: [46, 56, 20, 18, 24]\n",
      "Lengths of first few true label sequences: [46, 56, 20, 18, 24]\n",
      "Epoch 38/100:\n",
      "  Train Loss: 0.1603\n",
      "  Val F1: 0.8923\n",
      "  Val Precision: 0.8903\n",
      "  Val Recall: 0.8942\n"
     ]
    },
    {
     "name": "stderr",
     "output_type": "stream",
     "text": [
      "Epoch 39/100: 100%|█████████████████████████████████████████████████████| 176/176 [03:29<00:00,  1.19s/it, loss=0.0307]\n"
     ]
    },
    {
     "name": "stdout",
     "output_type": "stream",
     "text": [
      "Number of predicted sequences: 813\n",
      "Number of true label sequences: 813\n",
      "Lengths of first few predicted sequences: [46, 56, 20, 18, 24]\n",
      "Lengths of first few true label sequences: [46, 56, 20, 18, 24]\n",
      "Epoch 39/100:\n",
      "  Train Loss: 0.1597\n",
      "  Val F1: 0.8865\n",
      "  Val Precision: 0.8783\n",
      "  Val Recall: 0.8950\n"
     ]
    },
    {
     "name": "stderr",
     "output_type": "stream",
     "text": [
      "Epoch 40/100: 100%|█████████████████████████████████████████████████████| 176/176 [03:28<00:00,  1.19s/it, loss=0.0098]\n"
     ]
    },
    {
     "name": "stdout",
     "output_type": "stream",
     "text": [
      "Number of predicted sequences: 813\n",
      "Number of true label sequences: 813\n",
      "Lengths of first few predicted sequences: [46, 56, 20, 18, 24]\n",
      "Lengths of first few true label sequences: [46, 56, 20, 18, 24]\n",
      "Epoch 40/100:\n",
      "  Train Loss: 0.1236\n",
      "  Val F1: 0.8873\n",
      "  Val Precision: 0.8763\n",
      "  Val Recall: 0.8985\n"
     ]
    },
    {
     "name": "stderr",
     "output_type": "stream",
     "text": [
      "Epoch 41/100: 100%|█████████████████████████████████████████████████████| 176/176 [03:28<00:00,  1.18s/it, loss=0.0066]\n"
     ]
    },
    {
     "name": "stdout",
     "output_type": "stream",
     "text": [
      "Number of predicted sequences: 813\n",
      "Number of true label sequences: 813\n",
      "Lengths of first few predicted sequences: [46, 56, 20, 18, 24]\n",
      "Lengths of first few true label sequences: [46, 56, 20, 18, 24]\n",
      "Epoch 41/100:\n",
      "  Train Loss: 0.1230\n",
      "  Val F1: 0.8887\n",
      "  Val Precision: 0.8756\n",
      "  Val Recall: 0.9022\n"
     ]
    },
    {
     "name": "stderr",
     "output_type": "stream",
     "text": [
      "Epoch 42/100: 100%|█████████████████████████████████████████████████████| 176/176 [03:29<00:00,  1.19s/it, loss=0.0033]\n"
     ]
    },
    {
     "name": "stdout",
     "output_type": "stream",
     "text": [
      "Number of predicted sequences: 813\n",
      "Number of true label sequences: 813\n",
      "Lengths of first few predicted sequences: [46, 56, 20, 18, 24]\n",
      "Lengths of first few true label sequences: [46, 56, 20, 18, 24]\n",
      "Epoch 42/100:\n",
      "  Train Loss: 0.1192\n",
      "  Val F1: 0.8880\n",
      "  Val Precision: 0.8834\n",
      "  Val Recall: 0.8926\n"
     ]
    },
    {
     "name": "stderr",
     "output_type": "stream",
     "text": [
      "Epoch 43/100: 100%|█████████████████████████████████████████████████████| 176/176 [03:29<00:00,  1.19s/it, loss=0.0037]\n"
     ]
    },
    {
     "name": "stdout",
     "output_type": "stream",
     "text": [
      "Number of predicted sequences: 813\n",
      "Number of true label sequences: 813\n",
      "Lengths of first few predicted sequences: [46, 56, 20, 18, 24]\n",
      "Lengths of first few true label sequences: [46, 56, 20, 18, 24]\n",
      "Epoch 43/100:\n",
      "  Train Loss: 0.1172\n",
      "  Val F1: 0.8895\n",
      "  Val Precision: 0.8816\n",
      "  Val Recall: 0.8975\n"
     ]
    },
    {
     "name": "stderr",
     "output_type": "stream",
     "text": [
      "Epoch 44/100: 100%|█████████████████████████████████████████████████████| 176/176 [03:28<00:00,  1.18s/it, loss=0.0042]\n"
     ]
    },
    {
     "name": "stdout",
     "output_type": "stream",
     "text": [
      "Number of predicted sequences: 813\n",
      "Number of true label sequences: 813\n",
      "Lengths of first few predicted sequences: [46, 56, 20, 18, 24]\n",
      "Lengths of first few true label sequences: [46, 56, 20, 18, 24]\n",
      "Epoch 44/100:\n",
      "  Train Loss: 0.1086\n",
      "  Val F1: 0.8862\n",
      "  Val Precision: 0.8766\n",
      "  Val Recall: 0.8961\n"
     ]
    },
    {
     "name": "stderr",
     "output_type": "stream",
     "text": [
      "Epoch 45/100: 100%|█████████████████████████████████████████████████████| 176/176 [03:28<00:00,  1.19s/it, loss=0.0108]\n"
     ]
    },
    {
     "name": "stdout",
     "output_type": "stream",
     "text": [
      "Number of predicted sequences: 813\n",
      "Number of true label sequences: 813\n",
      "Lengths of first few predicted sequences: [46, 56, 20, 18, 24]\n",
      "Lengths of first few true label sequences: [46, 56, 20, 18, 24]\n",
      "Epoch 45/100:\n",
      "  Train Loss: 0.1112\n",
      "  Val F1: 0.8874\n",
      "  Val Precision: 0.8779\n",
      "  Val Recall: 0.8971\n"
     ]
    },
    {
     "name": "stderr",
     "output_type": "stream",
     "text": [
      "Epoch 46/100: 100%|█████████████████████████████████████████████████████| 176/176 [03:27<00:00,  1.18s/it, loss=0.0054]\n"
     ]
    },
    {
     "name": "stdout",
     "output_type": "stream",
     "text": [
      "Number of predicted sequences: 813\n",
      "Number of true label sequences: 813\n",
      "Lengths of first few predicted sequences: [46, 56, 20, 18, 24]\n",
      "Lengths of first few true label sequences: [46, 56, 20, 18, 24]\n",
      "Epoch 46/100:\n",
      "  Train Loss: 0.1122\n",
      "  Val F1: 0.8783\n",
      "  Val Precision: 0.8756\n",
      "  Val Recall: 0.8811\n"
     ]
    },
    {
     "name": "stderr",
     "output_type": "stream",
     "text": [
      "Epoch 47/100: 100%|█████████████████████████████████████████████████████| 176/176 [03:28<00:00,  1.19s/it, loss=0.0070]\n"
     ]
    },
    {
     "name": "stdout",
     "output_type": "stream",
     "text": [
      "Number of predicted sequences: 813\n",
      "Number of true label sequences: 813\n",
      "Lengths of first few predicted sequences: [46, 56, 20, 18, 24]\n",
      "Lengths of first few true label sequences: [46, 56, 20, 18, 24]\n",
      "Epoch 47/100:\n",
      "  Train Loss: 0.0861\n",
      "  Val F1: 0.8827\n",
      "  Val Precision: 0.8794\n",
      "  Val Recall: 0.8859\n"
     ]
    },
    {
     "name": "stderr",
     "output_type": "stream",
     "text": [
      "Epoch 48/100: 100%|█████████████████████████████████████████████████████| 176/176 [03:29<00:00,  1.19s/it, loss=0.0153]\n"
     ]
    },
    {
     "name": "stdout",
     "output_type": "stream",
     "text": [
      "Number of predicted sequences: 813\n",
      "Number of true label sequences: 813\n",
      "Lengths of first few predicted sequences: [46, 56, 20, 18, 24]\n",
      "Lengths of first few true label sequences: [46, 56, 20, 18, 24]\n",
      "Epoch 48/100:\n",
      "  Train Loss: 0.1007\n",
      "  Val F1: 0.8776\n",
      "  Val Precision: 0.8680\n",
      "  Val Recall: 0.8875\n"
     ]
    },
    {
     "name": "stderr",
     "output_type": "stream",
     "text": [
      "Epoch 49/100: 100%|█████████████████████████████████████████████████████| 176/176 [03:29<00:00,  1.19s/it, loss=0.0031]\n"
     ]
    },
    {
     "name": "stdout",
     "output_type": "stream",
     "text": [
      "Number of predicted sequences: 813\n",
      "Number of true label sequences: 813\n",
      "Lengths of first few predicted sequences: [46, 56, 20, 18, 24]\n",
      "Lengths of first few true label sequences: [46, 56, 20, 18, 24]\n",
      "Epoch 49/100:\n",
      "  Train Loss: 0.0862\n",
      "  Val F1: 0.8894\n",
      "  Val Precision: 0.8802\n",
      "  Val Recall: 0.8987\n"
     ]
    },
    {
     "name": "stderr",
     "output_type": "stream",
     "text": [
      "Epoch 50/100: 100%|█████████████████████████████████████████████████████| 176/176 [03:28<00:00,  1.19s/it, loss=0.0049]\n"
     ]
    },
    {
     "name": "stdout",
     "output_type": "stream",
     "text": [
      "Number of predicted sequences: 813\n",
      "Number of true label sequences: 813\n",
      "Lengths of first few predicted sequences: [46, 56, 20, 18, 24]\n",
      "Lengths of first few true label sequences: [46, 56, 20, 18, 24]\n",
      "Epoch 50/100:\n",
      "  Train Loss: 0.0607\n",
      "  Val F1: 0.8824\n",
      "  Val Precision: 0.8838\n",
      "  Val Recall: 0.8811\n"
     ]
    },
    {
     "name": "stderr",
     "output_type": "stream",
     "text": [
      "Epoch 51/100: 100%|█████████████████████████████████████████████████████| 176/176 [03:29<00:00,  1.19s/it, loss=0.0043]\n"
     ]
    },
    {
     "name": "stdout",
     "output_type": "stream",
     "text": [
      "Number of predicted sequences: 813\n",
      "Number of true label sequences: 813\n",
      "Lengths of first few predicted sequences: [46, 56, 20, 18, 24]\n",
      "Lengths of first few true label sequences: [46, 56, 20, 18, 24]\n",
      "Epoch 51/100:\n",
      "  Train Loss: 0.0757\n",
      "  Val F1: 0.8867\n",
      "  Val Precision: 0.8833\n",
      "  Val Recall: 0.8901\n"
     ]
    },
    {
     "name": "stderr",
     "output_type": "stream",
     "text": [
      "Epoch 52/100: 100%|█████████████████████████████████████████████████████| 176/176 [03:28<00:00,  1.18s/it, loss=0.0030]\n"
     ]
    },
    {
     "name": "stdout",
     "output_type": "stream",
     "text": [
      "Number of predicted sequences: 813\n",
      "Number of true label sequences: 813\n",
      "Lengths of first few predicted sequences: [46, 56, 20, 18, 24]\n",
      "Lengths of first few true label sequences: [46, 56, 20, 18, 24]\n",
      "Epoch 52/100:\n",
      "  Train Loss: 0.0699\n",
      "  Val F1: 0.8809\n",
      "  Val Precision: 0.8862\n",
      "  Val Recall: 0.8758\n"
     ]
    },
    {
     "name": "stderr",
     "output_type": "stream",
     "text": [
      "Epoch 53/100: 100%|█████████████████████████████████████████████████████| 176/176 [03:27<00:00,  1.18s/it, loss=0.0027]\n"
     ]
    },
    {
     "name": "stdout",
     "output_type": "stream",
     "text": [
      "Number of predicted sequences: 813\n",
      "Number of true label sequences: 813\n",
      "Lengths of first few predicted sequences: [46, 56, 20, 18, 24]\n",
      "Lengths of first few true label sequences: [46, 56, 20, 18, 24]\n",
      "Epoch 53/100:\n",
      "  Train Loss: 0.0599\n",
      "  Val F1: 0.8865\n",
      "  Val Precision: 0.8827\n",
      "  Val Recall: 0.8905\n"
     ]
    },
    {
     "name": "stderr",
     "output_type": "stream",
     "text": [
      "Epoch 54/100: 100%|█████████████████████████████████████████████████████| 176/176 [03:27<00:00,  1.18s/it, loss=0.0034]\n"
     ]
    },
    {
     "name": "stdout",
     "output_type": "stream",
     "text": [
      "Number of predicted sequences: 813\n",
      "Number of true label sequences: 813\n",
      "Lengths of first few predicted sequences: [46, 56, 20, 18, 24]\n",
      "Lengths of first few true label sequences: [46, 56, 20, 18, 24]\n",
      "Epoch 54/100:\n",
      "  Train Loss: 0.0747\n",
      "  Val F1: 0.8864\n",
      "  Val Precision: 0.8790\n",
      "  Val Recall: 0.8940\n"
     ]
    },
    {
     "name": "stderr",
     "output_type": "stream",
     "text": [
      "Epoch 55/100: 100%|█████████████████████████████████████████████████████| 176/176 [03:28<00:00,  1.18s/it, loss=0.2463]\n"
     ]
    },
    {
     "name": "stdout",
     "output_type": "stream",
     "text": [
      "Number of predicted sequences: 813\n",
      "Number of true label sequences: 813\n",
      "Lengths of first few predicted sequences: [46, 56, 20, 18, 24]\n",
      "Lengths of first few true label sequences: [46, 56, 20, 18, 24]\n",
      "Epoch 55/100:\n",
      "  Train Loss: 0.0593\n",
      "  Val F1: 0.8855\n",
      "  Val Precision: 0.8797\n",
      "  Val Recall: 0.8914\n"
     ]
    },
    {
     "name": "stderr",
     "output_type": "stream",
     "text": [
      "Epoch 56/100: 100%|█████████████████████████████████████████████████████| 176/176 [03:28<00:00,  1.18s/it, loss=0.1458]\n"
     ]
    },
    {
     "name": "stdout",
     "output_type": "stream",
     "text": [
      "Number of predicted sequences: 813\n",
      "Number of true label sequences: 813\n",
      "Lengths of first few predicted sequences: [46, 56, 20, 18, 24]\n",
      "Lengths of first few true label sequences: [46, 56, 20, 18, 24]\n",
      "Epoch 56/100:\n",
      "  Train Loss: 0.0646\n",
      "  Val F1: 0.8866\n",
      "  Val Precision: 0.8876\n",
      "  Val Recall: 0.8856\n"
     ]
    },
    {
     "name": "stderr",
     "output_type": "stream",
     "text": [
      "Epoch 57/100: 100%|█████████████████████████████████████████████████████| 176/176 [03:28<00:00,  1.19s/it, loss=0.0031]\n"
     ]
    },
    {
     "name": "stdout",
     "output_type": "stream",
     "text": [
      "Number of predicted sequences: 813\n",
      "Number of true label sequences: 813\n",
      "Lengths of first few predicted sequences: [46, 56, 20, 18, 24]\n",
      "Lengths of first few true label sequences: [46, 56, 20, 18, 24]\n",
      "Epoch 57/100:\n",
      "  Train Loss: 0.0471\n",
      "  Val F1: 0.8805\n",
      "  Val Precision: 0.8779\n",
      "  Val Recall: 0.8832\n"
     ]
    },
    {
     "name": "stderr",
     "output_type": "stream",
     "text": [
      "Epoch 58/100: 100%|█████████████████████████████████████████████████████| 176/176 [03:27<00:00,  1.18s/it, loss=0.0022]\n"
     ]
    },
    {
     "name": "stdout",
     "output_type": "stream",
     "text": [
      "Number of predicted sequences: 813\n",
      "Number of true label sequences: 813\n",
      "Lengths of first few predicted sequences: [46, 56, 20, 18, 24]\n",
      "Lengths of first few true label sequences: [46, 56, 20, 18, 24]\n",
      "Epoch 58/100:\n",
      "  Train Loss: 0.0473\n",
      "  Val F1: 0.8824\n",
      "  Val Precision: 0.8796\n",
      "  Val Recall: 0.8852\n"
     ]
    },
    {
     "name": "stderr",
     "output_type": "stream",
     "text": [
      "Epoch 59/100: 100%|█████████████████████████████████████████████████████| 176/176 [03:27<00:00,  1.18s/it, loss=0.0011]\n"
     ]
    },
    {
     "name": "stdout",
     "output_type": "stream",
     "text": [
      "Number of predicted sequences: 813\n",
      "Number of true label sequences: 813\n",
      "Lengths of first few predicted sequences: [46, 56, 20, 18, 24]\n",
      "Lengths of first few true label sequences: [46, 56, 20, 18, 24]\n",
      "Epoch 59/100:\n",
      "  Train Loss: 0.0367\n",
      "  Val F1: 0.8817\n",
      "  Val Precision: 0.8745\n",
      "  Val Recall: 0.8891\n"
     ]
    },
    {
     "name": "stderr",
     "output_type": "stream",
     "text": [
      "Epoch 60/100: 100%|█████████████████████████████████████████████████████| 176/176 [03:29<00:00,  1.19s/it, loss=0.0024]\n"
     ]
    },
    {
     "name": "stdout",
     "output_type": "stream",
     "text": [
      "Number of predicted sequences: 813\n",
      "Number of true label sequences: 813\n",
      "Lengths of first few predicted sequences: [46, 56, 20, 18, 24]\n",
      "Lengths of first few true label sequences: [46, 56, 20, 18, 24]\n",
      "Epoch 60/100:\n",
      "  Train Loss: 0.0365\n",
      "  Val F1: 0.8833\n",
      "  Val Precision: 0.8789\n",
      "  Val Recall: 0.8877\n"
     ]
    },
    {
     "name": "stderr",
     "output_type": "stream",
     "text": [
      "Epoch 61/100: 100%|█████████████████████████████████████████████████████| 176/176 [03:30<00:00,  1.19s/it, loss=0.0013]\n"
     ]
    },
    {
     "name": "stdout",
     "output_type": "stream",
     "text": [
      "Number of predicted sequences: 813\n",
      "Number of true label sequences: 813\n",
      "Lengths of first few predicted sequences: [46, 56, 20, 18, 24]\n",
      "Lengths of first few true label sequences: [46, 56, 20, 18, 24]\n",
      "Epoch 61/100:\n",
      "  Train Loss: 0.0334\n",
      "  Val F1: 0.8842\n",
      "  Val Precision: 0.8854\n",
      "  Val Recall: 0.8830\n"
     ]
    },
    {
     "name": "stderr",
     "output_type": "stream",
     "text": [
      "Epoch 62/100: 100%|█████████████████████████████████████████████████████| 176/176 [03:29<00:00,  1.19s/it, loss=0.0029]\n"
     ]
    },
    {
     "name": "stdout",
     "output_type": "stream",
     "text": [
      "Number of predicted sequences: 813\n",
      "Number of true label sequences: 813\n",
      "Lengths of first few predicted sequences: [46, 56, 20, 18, 24]\n",
      "Lengths of first few true label sequences: [46, 56, 20, 18, 24]\n",
      "Epoch 62/100:\n",
      "  Train Loss: 0.0363\n",
      "  Val F1: 0.8868\n",
      "  Val Precision: 0.8810\n",
      "  Val Recall: 0.8926\n"
     ]
    },
    {
     "name": "stderr",
     "output_type": "stream",
     "text": [
      "Epoch 63/100: 100%|█████████████████████████████████████████████████████| 176/176 [03:28<00:00,  1.18s/it, loss=0.0036]\n"
     ]
    },
    {
     "name": "stdout",
     "output_type": "stream",
     "text": [
      "Number of predicted sequences: 813\n",
      "Number of true label sequences: 813\n",
      "Lengths of first few predicted sequences: [46, 56, 20, 18, 24]\n",
      "Lengths of first few true label sequences: [46, 56, 20, 18, 24]\n",
      "Epoch 63/100:\n",
      "  Train Loss: 0.0442\n",
      "  Val F1: 0.8825\n",
      "  Val Precision: 0.8757\n",
      "  Val Recall: 0.8893\n"
     ]
    },
    {
     "name": "stderr",
     "output_type": "stream",
     "text": [
      "Epoch 64/100: 100%|█████████████████████████████████████████████████████| 176/176 [03:28<00:00,  1.18s/it, loss=0.2023]\n"
     ]
    },
    {
     "name": "stdout",
     "output_type": "stream",
     "text": [
      "Number of predicted sequences: 813\n",
      "Number of true label sequences: 813\n",
      "Lengths of first few predicted sequences: [46, 56, 20, 18, 24]\n",
      "Lengths of first few true label sequences: [46, 56, 20, 18, 24]\n",
      "Epoch 64/100:\n",
      "  Train Loss: 0.0341\n",
      "  Val F1: 0.8836\n",
      "  Val Precision: 0.8732\n",
      "  Val Recall: 0.8944\n"
     ]
    },
    {
     "name": "stderr",
     "output_type": "stream",
     "text": [
      "Epoch 65/100: 100%|█████████████████████████████████████████████████████| 176/176 [03:29<00:00,  1.19s/it, loss=0.0009]\n"
     ]
    },
    {
     "name": "stdout",
     "output_type": "stream",
     "text": [
      "Number of predicted sequences: 813\n",
      "Number of true label sequences: 813\n",
      "Lengths of first few predicted sequences: [46, 56, 20, 18, 24]\n",
      "Lengths of first few true label sequences: [46, 56, 20, 18, 24]\n",
      "Epoch 65/100:\n",
      "  Train Loss: 0.0304\n",
      "  Val F1: 0.8854\n",
      "  Val Precision: 0.8820\n",
      "  Val Recall: 0.8889\n"
     ]
    },
    {
     "name": "stderr",
     "output_type": "stream",
     "text": [
      "Epoch 66/100: 100%|█████████████████████████████████████████████████████| 176/176 [03:28<00:00,  1.18s/it, loss=0.0035]\n"
     ]
    },
    {
     "name": "stdout",
     "output_type": "stream",
     "text": [
      "Number of predicted sequences: 813\n",
      "Number of true label sequences: 813\n",
      "Lengths of first few predicted sequences: [46, 56, 20, 18, 24]\n",
      "Lengths of first few true label sequences: [46, 56, 20, 18, 24]\n",
      "Epoch 66/100:\n",
      "  Train Loss: 0.0325\n",
      "  Val F1: 0.8849\n",
      "  Val Precision: 0.8778\n",
      "  Val Recall: 0.8922\n"
     ]
    },
    {
     "name": "stderr",
     "output_type": "stream",
     "text": [
      "Epoch 67/100: 100%|█████████████████████████████████████████████████████| 176/176 [03:29<00:00,  1.19s/it, loss=0.0008]\n"
     ]
    },
    {
     "name": "stdout",
     "output_type": "stream",
     "text": [
      "Number of predicted sequences: 813\n",
      "Number of true label sequences: 813\n",
      "Lengths of first few predicted sequences: [46, 56, 20, 18, 24]\n",
      "Lengths of first few true label sequences: [46, 56, 20, 18, 24]\n",
      "Epoch 67/100:\n",
      "  Train Loss: 0.0219\n",
      "  Val F1: 0.8810\n",
      "  Val Precision: 0.8902\n",
      "  Val Recall: 0.8720\n"
     ]
    },
    {
     "name": "stderr",
     "output_type": "stream",
     "text": [
      "Epoch 68/100: 100%|█████████████████████████████████████████████████████| 176/176 [03:29<00:00,  1.19s/it, loss=0.0022]\n"
     ]
    },
    {
     "name": "stdout",
     "output_type": "stream",
     "text": [
      "Number of predicted sequences: 813\n",
      "Number of true label sequences: 813\n",
      "Lengths of first few predicted sequences: [46, 56, 20, 18, 24]\n",
      "Lengths of first few true label sequences: [46, 56, 20, 18, 24]\n",
      "Epoch 68/100:\n",
      "  Train Loss: 0.0241\n",
      "  Val F1: 0.8874\n",
      "  Val Precision: 0.8836\n",
      "  Val Recall: 0.8912\n"
     ]
    },
    {
     "name": "stderr",
     "output_type": "stream",
     "text": [
      "Epoch 69/100: 100%|█████████████████████████████████████████████████████| 176/176 [03:29<00:00,  1.19s/it, loss=0.0007]\n"
     ]
    },
    {
     "name": "stdout",
     "output_type": "stream",
     "text": [
      "Number of predicted sequences: 813\n",
      "Number of true label sequences: 813\n",
      "Lengths of first few predicted sequences: [46, 56, 20, 18, 24]\n",
      "Lengths of first few true label sequences: [46, 56, 20, 18, 24]\n",
      "Epoch 69/100:\n",
      "  Train Loss: 0.0225\n",
      "  Val F1: 0.8857\n",
      "  Val Precision: 0.8842\n",
      "  Val Recall: 0.8871\n"
     ]
    },
    {
     "name": "stderr",
     "output_type": "stream",
     "text": [
      "Epoch 70/100: 100%|█████████████████████████████████████████████████████| 176/176 [03:28<00:00,  1.18s/it, loss=0.0009]\n"
     ]
    },
    {
     "name": "stdout",
     "output_type": "stream",
     "text": [
      "Number of predicted sequences: 813\n",
      "Number of true label sequences: 813\n",
      "Lengths of first few predicted sequences: [46, 56, 20, 18, 24]\n",
      "Lengths of first few true label sequences: [46, 56, 20, 18, 24]\n",
      "Epoch 70/100:\n",
      "  Train Loss: 0.0218\n",
      "  Val F1: 0.8870\n",
      "  Val Precision: 0.8842\n",
      "  Val Recall: 0.8899\n"
     ]
    },
    {
     "name": "stderr",
     "output_type": "stream",
     "text": [
      "Epoch 71/100: 100%|█████████████████████████████████████████████████████| 176/176 [03:28<00:00,  1.18s/it, loss=0.0041]\n"
     ]
    },
    {
     "name": "stdout",
     "output_type": "stream",
     "text": [
      "Number of predicted sequences: 813\n",
      "Number of true label sequences: 813\n",
      "Lengths of first few predicted sequences: [46, 56, 20, 18, 24]\n",
      "Lengths of first few true label sequences: [46, 56, 20, 18, 24]\n",
      "Epoch 71/100:\n",
      "  Train Loss: 0.0197\n",
      "  Val F1: 0.8860\n",
      "  Val Precision: 0.8791\n",
      "  Val Recall: 0.8930\n"
     ]
    },
    {
     "name": "stderr",
     "output_type": "stream",
     "text": [
      "Epoch 72/100: 100%|█████████████████████████████████████████████████████| 176/176 [03:26<00:00,  1.17s/it, loss=0.0026]\n"
     ]
    },
    {
     "name": "stdout",
     "output_type": "stream",
     "text": [
      "Number of predicted sequences: 813\n",
      "Number of true label sequences: 813\n",
      "Lengths of first few predicted sequences: [46, 56, 20, 18, 24]\n",
      "Lengths of first few true label sequences: [46, 56, 20, 18, 24]\n",
      "Epoch 72/100:\n",
      "  Train Loss: 0.0345\n",
      "  Val F1: 0.8877\n",
      "  Val Precision: 0.8815\n",
      "  Val Recall: 0.8940\n"
     ]
    },
    {
     "name": "stderr",
     "output_type": "stream",
     "text": [
      "Epoch 73/100: 100%|█████████████████████████████████████████████████████| 176/176 [03:26<00:00,  1.18s/it, loss=0.0574]\n"
     ]
    },
    {
     "name": "stdout",
     "output_type": "stream",
     "text": [
      "Number of predicted sequences: 813\n",
      "Number of true label sequences: 813\n",
      "Lengths of first few predicted sequences: [46, 56, 20, 18, 24]\n",
      "Lengths of first few true label sequences: [46, 56, 20, 18, 24]\n",
      "Epoch 73/100:\n",
      "  Train Loss: 0.0306\n",
      "  Val F1: 0.8883\n",
      "  Val Precision: 0.8797\n",
      "  Val Recall: 0.8971\n"
     ]
    },
    {
     "name": "stderr",
     "output_type": "stream",
     "text": [
      "Epoch 74/100: 100%|█████████████████████████████████████████████████████| 176/176 [03:26<00:00,  1.17s/it, loss=0.0010]\n"
     ]
    },
    {
     "name": "stdout",
     "output_type": "stream",
     "text": [
      "Number of predicted sequences: 813\n",
      "Number of true label sequences: 813\n",
      "Lengths of first few predicted sequences: [46, 56, 20, 18, 24]\n",
      "Lengths of first few true label sequences: [46, 56, 20, 18, 24]\n",
      "Epoch 74/100:\n",
      "  Train Loss: 0.0222\n",
      "  Val F1: 0.8865\n",
      "  Val Precision: 0.8842\n",
      "  Val Recall: 0.8889\n"
     ]
    },
    {
     "name": "stderr",
     "output_type": "stream",
     "text": [
      "Epoch 75/100: 100%|█████████████████████████████████████████████████████| 176/176 [03:27<00:00,  1.18s/it, loss=0.0031]\n"
     ]
    },
    {
     "name": "stdout",
     "output_type": "stream",
     "text": [
      "Number of predicted sequences: 813\n",
      "Number of true label sequences: 813\n",
      "Lengths of first few predicted sequences: [46, 56, 20, 18, 24]\n",
      "Lengths of first few true label sequences: [46, 56, 20, 18, 24]\n",
      "Epoch 75/100:\n",
      "  Train Loss: 0.0182\n",
      "  Val F1: 0.8839\n",
      "  Val Precision: 0.8795\n",
      "  Val Recall: 0.8883\n"
     ]
    },
    {
     "name": "stderr",
     "output_type": "stream",
     "text": [
      "Epoch 76/100: 100%|█████████████████████████████████████████████████████| 176/176 [03:27<00:00,  1.18s/it, loss=0.0011]\n"
     ]
    },
    {
     "name": "stdout",
     "output_type": "stream",
     "text": [
      "Number of predicted sequences: 813\n",
      "Number of true label sequences: 813\n",
      "Lengths of first few predicted sequences: [46, 56, 20, 18, 24]\n",
      "Lengths of first few true label sequences: [46, 56, 20, 18, 24]\n",
      "Epoch 76/100:\n",
      "  Train Loss: 0.0301\n",
      "  Val F1: 0.8844\n",
      "  Val Precision: 0.8835\n",
      "  Val Recall: 0.8854\n"
     ]
    },
    {
     "name": "stderr",
     "output_type": "stream",
     "text": [
      "Epoch 77/100: 100%|█████████████████████████████████████████████████████| 176/176 [03:27<00:00,  1.18s/it, loss=0.0023]\n"
     ]
    },
    {
     "name": "stdout",
     "output_type": "stream",
     "text": [
      "Number of predicted sequences: 813\n",
      "Number of true label sequences: 813\n",
      "Lengths of first few predicted sequences: [46, 56, 20, 18, 24]\n",
      "Lengths of first few true label sequences: [46, 56, 20, 18, 24]\n",
      "Epoch 77/100:\n",
      "  Train Loss: 0.0305\n",
      "  Val F1: 0.8845\n",
      "  Val Precision: 0.8748\n",
      "  Val Recall: 0.8944\n"
     ]
    },
    {
     "name": "stderr",
     "output_type": "stream",
     "text": [
      "Epoch 78/100: 100%|█████████████████████████████████████████████████████| 176/176 [03:27<00:00,  1.18s/it, loss=0.0017]\n"
     ]
    },
    {
     "name": "stdout",
     "output_type": "stream",
     "text": [
      "Number of predicted sequences: 813\n",
      "Number of true label sequences: 813\n",
      "Lengths of first few predicted sequences: [46, 56, 20, 18, 24]\n",
      "Lengths of first few true label sequences: [46, 56, 20, 18, 24]\n",
      "Epoch 78/100:\n",
      "  Train Loss: 0.0223\n",
      "  Val F1: 0.8821\n",
      "  Val Precision: 0.8782\n",
      "  Val Recall: 0.8859\n"
     ]
    },
    {
     "name": "stderr",
     "output_type": "stream",
     "text": [
      "Epoch 79/100: 100%|█████████████████████████████████████████████████████| 176/176 [03:39<00:00,  1.25s/it, loss=0.0016]\n"
     ]
    },
    {
     "name": "stdout",
     "output_type": "stream",
     "text": [
      "Number of predicted sequences: 813\n",
      "Number of true label sequences: 813\n",
      "Lengths of first few predicted sequences: [46, 56, 20, 18, 24]\n",
      "Lengths of first few true label sequences: [46, 56, 20, 18, 24]\n",
      "Epoch 79/100:\n",
      "  Train Loss: 0.0212\n",
      "  Val F1: 0.8836\n",
      "  Val Precision: 0.8804\n",
      "  Val Recall: 0.8869\n"
     ]
    },
    {
     "name": "stderr",
     "output_type": "stream",
     "text": [
      "Epoch 80/100: 100%|█████████████████████████████████████████████████████| 176/176 [03:45<00:00,  1.28s/it, loss=0.0018]\n"
     ]
    },
    {
     "name": "stdout",
     "output_type": "stream",
     "text": [
      "Number of predicted sequences: 813\n",
      "Number of true label sequences: 813\n",
      "Lengths of first few predicted sequences: [46, 56, 20, 18, 24]\n",
      "Lengths of first few true label sequences: [46, 56, 20, 18, 24]\n",
      "Epoch 80/100:\n",
      "  Train Loss: 0.0275\n",
      "  Val F1: 0.8854\n",
      "  Val Precision: 0.8761\n",
      "  Val Recall: 0.8950\n"
     ]
    },
    {
     "name": "stderr",
     "output_type": "stream",
     "text": [
      "Epoch 81/100: 100%|█████████████████████████████████████████████████████| 176/176 [03:50<00:00,  1.31s/it, loss=0.0008]\n"
     ]
    },
    {
     "name": "stdout",
     "output_type": "stream",
     "text": [
      "Number of predicted sequences: 813\n",
      "Number of true label sequences: 813\n",
      "Lengths of first few predicted sequences: [46, 56, 20, 18, 24]\n",
      "Lengths of first few true label sequences: [46, 56, 20, 18, 24]\n",
      "Epoch 81/100:\n",
      "  Train Loss: 0.0164\n",
      "  Val F1: 0.8828\n",
      "  Val Precision: 0.8842\n",
      "  Val Recall: 0.8814\n"
     ]
    },
    {
     "name": "stderr",
     "output_type": "stream",
     "text": [
      "Epoch 82/100: 100%|█████████████████████████████████████████████████████| 176/176 [03:40<00:00,  1.25s/it, loss=0.0018]\n"
     ]
    },
    {
     "name": "stdout",
     "output_type": "stream",
     "text": [
      "Number of predicted sequences: 813\n",
      "Number of true label sequences: 813\n",
      "Lengths of first few predicted sequences: [46, 56, 20, 18, 24]\n",
      "Lengths of first few true label sequences: [46, 56, 20, 18, 24]\n",
      "Epoch 82/100:\n",
      "  Train Loss: 0.0107\n",
      "  Val F1: 0.8827\n",
      "  Val Precision: 0.8811\n",
      "  Val Recall: 0.8844\n"
     ]
    },
    {
     "name": "stderr",
     "output_type": "stream",
     "text": [
      "Epoch 83/100: 100%|█████████████████████████████████████████████████████| 176/176 [03:27<00:00,  1.18s/it, loss=0.0009]\n"
     ]
    },
    {
     "name": "stdout",
     "output_type": "stream",
     "text": [
      "Number of predicted sequences: 813\n",
      "Number of true label sequences: 813\n",
      "Lengths of first few predicted sequences: [46, 56, 20, 18, 24]\n",
      "Lengths of first few true label sequences: [46, 56, 20, 18, 24]\n",
      "Epoch 83/100:\n",
      "  Train Loss: 0.0259\n",
      "  Val F1: 0.8836\n",
      "  Val Precision: 0.8776\n",
      "  Val Recall: 0.8897\n"
     ]
    },
    {
     "name": "stderr",
     "output_type": "stream",
     "text": [
      "Epoch 84/100: 100%|█████████████████████████████████████████████████████| 176/176 [03:39<00:00,  1.25s/it, loss=0.0011]\n"
     ]
    },
    {
     "name": "stdout",
     "output_type": "stream",
     "text": [
      "Number of predicted sequences: 813\n",
      "Number of true label sequences: 813\n",
      "Lengths of first few predicted sequences: [46, 56, 20, 18, 24]\n",
      "Lengths of first few true label sequences: [46, 56, 20, 18, 24]\n",
      "Epoch 84/100:\n",
      "  Train Loss: 0.0209\n",
      "  Val F1: 0.8872\n",
      "  Val Precision: 0.8784\n",
      "  Val Recall: 0.8961\n"
     ]
    },
    {
     "name": "stderr",
     "output_type": "stream",
     "text": [
      "Epoch 85/100: 100%|█████████████████████████████████████████████████████| 176/176 [03:42<00:00,  1.27s/it, loss=0.0008]\n"
     ]
    },
    {
     "name": "stdout",
     "output_type": "stream",
     "text": [
      "Number of predicted sequences: 813\n",
      "Number of true label sequences: 813\n",
      "Lengths of first few predicted sequences: [46, 56, 20, 18, 24]\n",
      "Lengths of first few true label sequences: [46, 56, 20, 18, 24]\n",
      "Epoch 85/100:\n",
      "  Train Loss: 0.0257\n",
      "  Val F1: 0.8867\n",
      "  Val Precision: 0.8853\n",
      "  Val Recall: 0.8881\n"
     ]
    },
    {
     "name": "stderr",
     "output_type": "stream",
     "text": [
      "Epoch 86/100: 100%|█████████████████████████████████████████████████████| 176/176 [03:59<00:00,  1.36s/it, loss=0.0017]\n"
     ]
    },
    {
     "name": "stdout",
     "output_type": "stream",
     "text": [
      "Number of predicted sequences: 813\n",
      "Number of true label sequences: 813\n",
      "Lengths of first few predicted sequences: [46, 56, 20, 18, 24]\n",
      "Lengths of first few true label sequences: [46, 56, 20, 18, 24]\n",
      "Epoch 86/100:\n",
      "  Train Loss: 0.0173\n",
      "  Val F1: 0.8853\n",
      "  Val Precision: 0.8810\n",
      "  Val Recall: 0.8897\n"
     ]
    },
    {
     "name": "stderr",
     "output_type": "stream",
     "text": [
      "Epoch 87/100: 100%|█████████████████████████████████████████████████████| 176/176 [03:43<00:00,  1.27s/it, loss=0.0022]\n"
     ]
    },
    {
     "name": "stdout",
     "output_type": "stream",
     "text": [
      "Number of predicted sequences: 813\n",
      "Number of true label sequences: 813\n",
      "Lengths of first few predicted sequences: [46, 56, 20, 18, 24]\n",
      "Lengths of first few true label sequences: [46, 56, 20, 18, 24]\n",
      "Epoch 87/100:\n",
      "  Train Loss: 0.0171\n",
      "  Val F1: 0.8866\n",
      "  Val Precision: 0.8809\n",
      "  Val Recall: 0.8924\n"
     ]
    },
    {
     "name": "stderr",
     "output_type": "stream",
     "text": [
      "Epoch 88/100: 100%|█████████████████████████████████████████████████████| 176/176 [03:45<00:00,  1.28s/it, loss=0.0024]\n"
     ]
    },
    {
     "name": "stdout",
     "output_type": "stream",
     "text": [
      "Number of predicted sequences: 813\n",
      "Number of true label sequences: 813\n",
      "Lengths of first few predicted sequences: [46, 56, 20, 18, 24]\n",
      "Lengths of first few true label sequences: [46, 56, 20, 18, 24]\n",
      "Epoch 88/100:\n",
      "  Train Loss: 0.0140\n",
      "  Val F1: 0.8860\n",
      "  Val Precision: 0.8833\n",
      "  Val Recall: 0.8887\n"
     ]
    },
    {
     "name": "stderr",
     "output_type": "stream",
     "text": [
      "Epoch 89/100: 100%|█████████████████████████████████████████████████████| 176/176 [04:05<00:00,  1.39s/it, loss=0.0010]\n"
     ]
    },
    {
     "name": "stdout",
     "output_type": "stream",
     "text": [
      "Number of predicted sequences: 813\n",
      "Number of true label sequences: 813\n",
      "Lengths of first few predicted sequences: [46, 56, 20, 18, 24]\n",
      "Lengths of first few true label sequences: [46, 56, 20, 18, 24]\n",
      "Epoch 89/100:\n",
      "  Train Loss: 0.0218\n",
      "  Val F1: 0.8853\n",
      "  Val Precision: 0.8806\n",
      "  Val Recall: 0.8901\n"
     ]
    },
    {
     "name": "stderr",
     "output_type": "stream",
     "text": [
      "Epoch 90/100: 100%|█████████████████████████████████████████████████████| 176/176 [03:51<00:00,  1.32s/it, loss=0.0007]\n"
     ]
    },
    {
     "name": "stdout",
     "output_type": "stream",
     "text": [
      "Number of predicted sequences: 813\n",
      "Number of true label sequences: 813\n",
      "Lengths of first few predicted sequences: [46, 56, 20, 18, 24]\n",
      "Lengths of first few true label sequences: [46, 56, 20, 18, 24]\n",
      "Epoch 90/100:\n",
      "  Train Loss: 0.0176\n",
      "  Val F1: 0.8844\n",
      "  Val Precision: 0.8836\n",
      "  Val Recall: 0.8852\n"
     ]
    },
    {
     "name": "stderr",
     "output_type": "stream",
     "text": [
      "Epoch 91/100: 100%|█████████████████████████████████████████████████████| 176/176 [03:45<00:00,  1.28s/it, loss=0.0010]\n"
     ]
    },
    {
     "name": "stdout",
     "output_type": "stream",
     "text": [
      "Number of predicted sequences: 813\n",
      "Number of true label sequences: 813\n",
      "Lengths of first few predicted sequences: [46, 56, 20, 18, 24]\n",
      "Lengths of first few true label sequences: [46, 56, 20, 18, 24]\n",
      "Epoch 91/100:\n",
      "  Train Loss: 0.0160\n",
      "  Val F1: 0.8869\n",
      "  Val Precision: 0.8791\n",
      "  Val Recall: 0.8948\n"
     ]
    },
    {
     "name": "stderr",
     "output_type": "stream",
     "text": [
      "Epoch 92/100: 100%|█████████████████████████████████████████████████████| 176/176 [03:34<00:00,  1.22s/it, loss=0.0017]\n"
     ]
    },
    {
     "name": "stdout",
     "output_type": "stream",
     "text": [
      "Number of predicted sequences: 813\n",
      "Number of true label sequences: 813\n",
      "Lengths of first few predicted sequences: [46, 56, 20, 18, 24]\n",
      "Lengths of first few true label sequences: [46, 56, 20, 18, 24]\n",
      "Epoch 92/100:\n",
      "  Train Loss: 0.0180\n",
      "  Val F1: 0.8872\n",
      "  Val Precision: 0.8789\n",
      "  Val Recall: 0.8957\n"
     ]
    },
    {
     "name": "stderr",
     "output_type": "stream",
     "text": [
      "Epoch 93/100: 100%|█████████████████████████████████████████████████████| 176/176 [03:26<00:00,  1.17s/it, loss=0.0008]\n"
     ]
    },
    {
     "name": "stdout",
     "output_type": "stream",
     "text": [
      "Number of predicted sequences: 813\n",
      "Number of true label sequences: 813\n",
      "Lengths of first few predicted sequences: [46, 56, 20, 18, 24]\n",
      "Lengths of first few true label sequences: [46, 56, 20, 18, 24]\n",
      "Epoch 93/100:\n",
      "  Train Loss: 0.0153\n",
      "  Val F1: 0.8871\n",
      "  Val Precision: 0.8799\n",
      "  Val Recall: 0.8944\n"
     ]
    },
    {
     "name": "stderr",
     "output_type": "stream",
     "text": [
      "Epoch 94/100: 100%|█████████████████████████████████████████████████████| 176/176 [03:25<00:00,  1.17s/it, loss=0.0019]\n"
     ]
    },
    {
     "name": "stdout",
     "output_type": "stream",
     "text": [
      "Number of predicted sequences: 813\n",
      "Number of true label sequences: 813\n",
      "Lengths of first few predicted sequences: [46, 56, 20, 18, 24]\n",
      "Lengths of first few true label sequences: [46, 56, 20, 18, 24]\n",
      "Epoch 94/100:\n",
      "  Train Loss: 0.0148\n",
      "  Val F1: 0.8865\n",
      "  Val Precision: 0.8787\n",
      "  Val Recall: 0.8944\n"
     ]
    },
    {
     "name": "stderr",
     "output_type": "stream",
     "text": [
      "Epoch 95/100: 100%|█████████████████████████████████████████████████████| 176/176 [03:25<00:00,  1.17s/it, loss=0.0012]\n"
     ]
    },
    {
     "name": "stdout",
     "output_type": "stream",
     "text": [
      "Number of predicted sequences: 813\n",
      "Number of true label sequences: 813\n",
      "Lengths of first few predicted sequences: [46, 56, 20, 18, 24]\n",
      "Lengths of first few true label sequences: [46, 56, 20, 18, 24]\n",
      "Epoch 95/100:\n",
      "  Train Loss: 0.0125\n",
      "  Val F1: 0.8862\n",
      "  Val Precision: 0.8791\n",
      "  Val Recall: 0.8934\n"
     ]
    },
    {
     "name": "stderr",
     "output_type": "stream",
     "text": [
      "Epoch 96/100: 100%|█████████████████████████████████████████████████████| 176/176 [03:23<00:00,  1.16s/it, loss=0.0014]\n"
     ]
    },
    {
     "name": "stdout",
     "output_type": "stream",
     "text": [
      "Number of predicted sequences: 813\n",
      "Number of true label sequences: 813\n",
      "Lengths of first few predicted sequences: [46, 56, 20, 18, 24]\n",
      "Lengths of first few true label sequences: [46, 56, 20, 18, 24]\n",
      "Epoch 96/100:\n",
      "  Train Loss: 0.0153\n",
      "  Val F1: 0.8867\n",
      "  Val Precision: 0.8827\n",
      "  Val Recall: 0.8907\n"
     ]
    },
    {
     "name": "stderr",
     "output_type": "stream",
     "text": [
      "Epoch 97/100: 100%|█████████████████████████████████████████████████████| 176/176 [03:24<00:00,  1.16s/it, loss=0.0005]\n"
     ]
    },
    {
     "name": "stdout",
     "output_type": "stream",
     "text": [
      "Number of predicted sequences: 813\n",
      "Number of true label sequences: 813\n",
      "Lengths of first few predicted sequences: [46, 56, 20, 18, 24]\n",
      "Lengths of first few true label sequences: [46, 56, 20, 18, 24]\n",
      "Epoch 97/100:\n",
      "  Train Loss: 0.0158\n",
      "  Val F1: 0.8863\n",
      "  Val Precision: 0.8814\n",
      "  Val Recall: 0.8912\n"
     ]
    },
    {
     "name": "stderr",
     "output_type": "stream",
     "text": [
      "Epoch 98/100: 100%|█████████████████████████████████████████████████████| 176/176 [03:25<00:00,  1.17s/it, loss=0.0008]\n"
     ]
    },
    {
     "name": "stdout",
     "output_type": "stream",
     "text": [
      "Number of predicted sequences: 813\n",
      "Number of true label sequences: 813\n",
      "Lengths of first few predicted sequences: [46, 56, 20, 18, 24]\n",
      "Lengths of first few true label sequences: [46, 56, 20, 18, 24]\n",
      "Epoch 98/100:\n",
      "  Train Loss: 0.0145\n",
      "  Val F1: 0.8865\n",
      "  Val Precision: 0.8825\n",
      "  Val Recall: 0.8905\n"
     ]
    },
    {
     "name": "stderr",
     "output_type": "stream",
     "text": [
      "Epoch 99/100: 100%|█████████████████████████████████████████████████████| 176/176 [03:25<00:00,  1.17s/it, loss=0.0011]\n"
     ]
    },
    {
     "name": "stdout",
     "output_type": "stream",
     "text": [
      "Number of predicted sequences: 813\n",
      "Number of true label sequences: 813\n",
      "Lengths of first few predicted sequences: [46, 56, 20, 18, 24]\n",
      "Lengths of first few true label sequences: [46, 56, 20, 18, 24]\n",
      "Epoch 99/100:\n",
      "  Train Loss: 0.0130\n",
      "  Val F1: 0.8865\n",
      "  Val Precision: 0.8819\n",
      "  Val Recall: 0.8912\n"
     ]
    },
    {
     "name": "stderr",
     "output_type": "stream",
     "text": [
      "Epoch 100/100: 100%|████████████████████████████████████████████████████| 176/176 [03:24<00:00,  1.16s/it, loss=0.0010]\n"
     ]
    },
    {
     "name": "stdout",
     "output_type": "stream",
     "text": [
      "Number of predicted sequences: 813\n",
      "Number of true label sequences: 813\n",
      "Lengths of first few predicted sequences: [46, 56, 20, 18, 24]\n",
      "Lengths of first few true label sequences: [46, 56, 20, 18, 24]\n",
      "Epoch 100/100:\n",
      "  Train Loss: 0.0117\n",
      "  Val F1: 0.8865\n",
      "  Val Precision: 0.8819\n",
      "  Val Recall: 0.8912\n",
      "Number of predicted sequences: 748\n",
      "Number of true label sequences: 748\n",
      "Lengths of first few predicted sequences: [17, 8, 59, 48, 23]\n",
      "Lengths of first few true label sequences: [17, 8, 59, 48, 23]\n",
      "Test F1-score: 0.8684\n",
      "Test Precision: 0.8604\n",
      "Test Recall: 0.8765\n"
     ]
    }
   ],
   "source": [
    "epochs = 100\n",
    "learning_rate = 2e-5\n",
    "accumulation_steps = 4  # Adjust as needed\n",
    "\n",
    "best_val_f1, test_f1, test_precision, test_recall = train(\n",
    "    model, \n",
    "    train_loader, \n",
    "    valid_loader, \n",
    "    test_loader, \n",
    "    epochs, \n",
    "    learning_rate, \n",
    "    entity_label_map,\n",
    "    device,\n",
    "    accumulation_steps\n",
    ")"
   ]
  },
  {
   "cell_type": "code",
   "execution_count": 38,
   "id": "9a073af3-bc15-40a3-94eb-e596c4976ade",
   "metadata": {
    "scrolled": true
   },
   "outputs": [],
   "source": [
    "import torch\n",
    "import torch.nn as nn\n",
    "from transformers import ElectraModel, ElectraTokenizer\n",
    "from TorchCRF import CRF\n",
    "\n",
    "# Define entity types and label mappings (as before)\n",
    "entity_types = [\"Corporation\", \"Locale\", \"Application\", \"Malware\", \"Vulnerability\", \"Assault_technique\",\n",
    "                \"Infected_file\", \"APT_group\", \"Ransomware\", \"Campaign\", \"Algorithm\", \"System\", \"Organization\", \"Indicator\"]\n",
    "\n",
    "entity_tags = ([\"O\"] + \n",
    "               [f\"B-{entity}\" for entity in entity_types] + \n",
    "               [f\"I-{entity}\" for entity in entity_types] + \n",
    "               [f\"E-{entity}\" for entity in entity_types] + \n",
    "               [f\"S-{entity}\" for entity in entity_types])\n",
    "\n",
    "entity_label_map = {tag: idx for idx, tag in enumerate(entity_tags)}\n",
    "entity_label_map['<start>'] = len(entity_label_map)\n",
    "entity_label_map['<end>'] = len(entity_label_map)\n",
    "entity_label_map['<pad>'] = len(entity_label_map)\n",
    "\n",
    "# Reverse mapping for decoding\n",
    "id2label = {v: k for k, v in entity_label_map.items()}\n",
    "\n",
    "# Define the JointExtractionModel\n",
    "class JointExtractionModel(nn.Module):\n",
    "    def __init__(self, num_labels, hidden_size, num_layers, device):\n",
    "        super(JointExtractionModel, self).__init__()\n",
    "        self.device = device\n",
    "        self.electra = ElectraModel.from_pretrained('google/electra-base-discriminator')\n",
    "        self.gru = nn.GRU(768, hidden_size, num_layers=num_layers, bidirectional=True, batch_first=True)\n",
    "        self.linear = nn.Linear(hidden_size * 2, num_labels)\n",
    "        self.crf = CRF(num_labels)\n",
    "\n",
    "    def forward(self, input_ids, attention_mask):\n",
    "        electra_output = self.electra(input_ids=input_ids, attention_mask=attention_mask)\n",
    "        hidden = electra_output.last_hidden_state\n",
    "        gru_output, _ = self.gru(hidden)\n",
    "        logits = self.linear(gru_output)\n",
    "        return logits\n",
    "\n",
    "    def decode(self, input_ids, attention_mask):\n",
    "        logits = self.forward(input_ids, attention_mask)\n",
    "        return self.crf.viterbi_decode(logits, mask=attention_mask.bool())\n",
    "\n",
    "# Initialize model and load weights\n",
    "device = torch.device('cuda' if torch.cuda.is_available() else 'cpu')\n",
    "hidden_size = 256\n",
    "num_layers = 2\n",
    "num_labels = len(entity_label_map)\n",
    "\n",
    "model = JointExtractionModel(num_labels, hidden_size, num_layers, device)\n",
    "model.load_state_dict(torch.load('best_electra_ner_model_16.pt', map_location=device))\n",
    "model.to(device)\n",
    "model.eval()\n",
    "\n",
    "# Initialize tokenizer\n",
    "tokenizer = ElectraTokenizer.from_pretrained('google/electra-base-discriminator')\n",
    "\n",
    "def preprocess_text(text, max_length=512):\n",
    "    words = ['<start>'] + text.split() + ['<end>']\n",
    "    tokenized_words = [tokenizer.tokenize(word) for word in words]\n",
    "    tokens = [token for word in tokenized_words for token in word]\n",
    "    \n",
    "    input_ids = tokenizer.convert_tokens_to_ids(tokens)\n",
    "    attention_mask = [1] * len(input_ids)\n",
    "    \n",
    "    if len(input_ids) < max_length:\n",
    "        padding_length = max_length - len(input_ids)\n",
    "        input_ids = input_ids + [tokenizer.pad_token_id] * padding_length\n",
    "        attention_mask = attention_mask + [0] * padding_length\n",
    "    else:\n",
    "        input_ids = input_ids[:max_length]\n",
    "        attention_mask = attention_mask[:max_length]\n",
    "    \n",
    "    return tokens, torch.tensor([input_ids]).to(device), torch.tensor([attention_mask]).to(device)"
   ]
  },
  {
   "cell_type": "code",
   "execution_count": 42,
   "id": "673151fa-f166-479f-9084-0eb354f1c631",
   "metadata": {},
   "outputs": [],
   "source": [
    "def predict(text):\n",
    "    tokens, input_ids, attention_mask = preprocess_text(text)\n",
    "    \n",
    "    with torch.no_grad():\n",
    "        predicted_labels = model.decode(input_ids, attention_mask)[0]\n",
    "    \n",
    "    predicted_tags = [id2label[label] for label in predicted_labels]\n",
    "    \n",
    "    # Remove special tokens and their predictions\n",
    "    words = text.split()\n",
    "    predicted_tags = predicted_tags[1:-1]  # Remove <start> and <end> predictions\n",
    "    \n",
    "    # Align predictions with original words\n",
    "    aligned_labels = []\n",
    "    token_index = 0\n",
    "    for word in words:\n",
    "        word_tokens = tokenizer.tokenize(word)\n",
    "        if token_index < len(predicted_tags):\n",
    "            word_label = predicted_tags[token_index]\n",
    "            aligned_labels.append(word_label)\n",
    "            token_index += len(word_tokens)\n",
    "        else:\n",
    "            aligned_labels.append('O')  # Default to 'O' if we run out of predictions\n",
    "    \n",
    "    return list(zip(words, aligned_labels))\n",
    "\n",
    "def process_file(input_file, output_file):\n",
    "    with open(input_file, 'r', encoding='utf-8') as f_in, open(output_file, 'w', encoding='utf-8') as f_out:\n",
    "        for line in f_in:\n",
    "            line = line.strip()\n",
    "            if line:\n",
    "                results = predict(line)\n",
    "                for word, label in results:\n",
    "                    f_out.write(f\"{word}\\t{label}\\n\")\n",
    "                f_out.write(\"\\n\")  # Empty line between sentences\n",
    "            else:\n",
    "                f_out.write(\"\\n\")  # Preserve empty lines from input"
   ]
  },
  {
   "cell_type": "code",
   "execution_count": 43,
   "id": "c8cc4a46-5108-42d1-952d-c995529ec5d2",
   "metadata": {},
   "outputs": [
    {
     "name": "stdout",
     "output_type": "stream",
     "text": [
      "Predictions saved to predictions_sample.txt\n"
     ]
    }
   ],
   "source": [
    "if __name__ == \"__main__\":\n",
    "    input_file = r\"C:\\Users\\Admin\\Desktop\\nitt\\sample_test_dataset_NITT_project.txt\" \n",
    "    output_file = \"predictions_sample.txt\"\n",
    "    process_file(input_file, output_file)\n",
    "    print(f\"Predictions saved to {output_file}\")"
   ]
  },
  {
   "cell_type": "code",
   "execution_count": 33,
   "id": "4245f242-19b2-4dbb-bd7f-605a13f3c5ee",
   "metadata": {},
   "outputs": [],
   "source": [
    "# def save_results(results, output_file):\n",
    "#     with open(output_file, 'w', encoding='utf-8') as f:\n",
    "#         for sentence_num, sentence_result in enumerate(results, 1):\n",
    "#             f.write(f\"# Sentence {sentence_num}\\n\")\n",
    "#             for word, label in sentence_result:\n",
    "#                 f.write(f\"{word}\\t{label}\\n\")\n",
    "#             f.write(\"\\n\")  # Empty line between sentences"
   ]
  },
  {
   "cell_type": "code",
   "execution_count": 34,
   "id": "d4546789-2295-4e39-a94d-f3afa1486620",
   "metadata": {},
   "outputs": [],
   "source": [
    "def preprocess_text(text, max_length=512):\n",
    "    words = ['<start>'] + text.split() + ['<end>']\n",
    "    tokenized_words = [tokenizer.tokenize(word) for word in words]\n",
    "    tokens = [token for word in tokenized_words for token in word]\n",
    "    \n",
    "    input_ids = tokenizer.convert_tokens_to_ids(tokens)\n",
    "    attention_mask = [1] * len(input_ids)\n",
    "    \n",
    "    if len(input_ids) < max_length:\n",
    "        padding_length = max_length - len(input_ids)\n",
    "        input_ids = input_ids + [tokenizer.pad_token_id] * padding_length\n",
    "        attention_mask = attention_mask + [0] * padding_length\n",
    "    else:\n",
    "        input_ids = input_ids[:max_length]\n",
    "        attention_mask = attention_mask[:max_length]\n",
    "    \n",
    "    return words, tokens, torch.tensor([input_ids]).to(device), torch.tensor([attention_mask]).to(device)"
   ]
  },
  {
   "cell_type": "code",
   "execution_count": 36,
   "id": "f7ea4e54-61e6-4c18-8b67-8fd774bb0f97",
   "metadata": {},
   "outputs": [],
   "source": [
    "def process_file(input_file, output_file):\n",
    "    with open(input_file, 'r', encoding='utf-8') as f:\n",
    "        sentences = f.readlines()\n",
    "    \n",
    "    all_predictions = []\n",
    "    for sentence in sentences:\n",
    "        sentence = sentence.strip()\n",
    "        if sentence:\n",
    "            result = predict(sentence)\n",
    "            all_predictions.extend([label for _, label in result])\n",
    "            print(f\"Processed: {sentence}\")\n",
    "            print(f\"Predictions: {[label for _, label in result]}\")\n",
    "            print()\n",
    "    \n",
    "    # Analyze predictions\n",
    "    label_counts = Counter(all_predictions)\n",
    "    total_predictions = len(all_predictions)\n",
    "    \n",
    "    print(\"\\nPrediction Analysis:\")\n",
    "    print(f\"Total predictions: {total_predictions}\")\n",
    "    for label, count in label_counts.items():\n",
    "        percentage = (count / total_predictions) * 100\n",
    "        print(f\"{label}: {count} ({percentage:.2f}%)\")\n",
    "    \n",
    "    # Save detailed results to file\n",
    "    with open(output_file, 'w', encoding='utf-8') as f:\n",
    "        for sentence, result in zip(sentences, all_predictions):\n",
    "            f.write(f\"Sentence: {sentence.strip()}\\n\")\n",
    "            f.write(f\"Predictions: {' '.join(result)}\\n\\n\")\n",
    "    \n",
    "    print(f\"\\nDetailed results saved to {output_file}\")\n",
    "\n",
    "def predict(text):\n",
    "    words, tokens, input_ids, attention_mask = preprocess_text(text)\n",
    "    \n",
    "    print(\"Debug - Tokens:\", tokens)\n",
    "    \n",
    "    with torch.no_grad():\n",
    "        predicted_labels = model.decode(input_ids, attention_mask)[0]\n",
    "    \n",
    "    predicted_tags = [id2label[label] for label in predicted_labels]\n",
    "    \n",
    "    print(\"Debug - Raw predicted tags:\", predicted_tags)\n",
    "    \n",
    "    # Remove special tokens and their predictions\n",
    "    tokens = tokens[1:-1]  # Remove <start> and <end>\n",
    "    predicted_tags = predicted_tags[1:-1]  # Remove corresponding predictions\n",
    "    \n",
    "    aligned_labels = []\n",
    "    word_index = 0\n",
    "    token_index = 0\n",
    "    \n",
    "    while word_index < len(words) and token_index < len(tokens):\n",
    "        word = words[word_index]\n",
    "        word_tokens = tokenizer.tokenize(word)\n",
    "        word_label = predicted_tags[token_index]\n",
    "        \n",
    "        # For words split into subwords, use the label of the first subword\n",
    "        aligned_labels.append(word_label)\n",
    "        \n",
    "        word_index += 1\n",
    "        token_index += len(word_tokens)\n",
    "    \n",
    "    # Ensure we have a label for each word\n",
    "    while len(aligned_labels) < len(words):\n",
    "        aligned_labels.append('O')\n",
    "    \n",
    "    result = list(zip(words, aligned_labels))\n",
    "    print(\"Debug - Aligned result:\", result)\n",
    "    \n",
    "    return result"
   ]
  },
  {
   "cell_type": "code",
   "execution_count": 37,
   "id": "5758264e-0806-497f-8841-f5d8c8a0fca4",
   "metadata": {},
   "outputs": [
    {
     "name": "stdout",
     "output_type": "stream",
     "text": [
      "Debug - Tokens: ['<', 'start', '>', 'open', '##pg', '##p', 'is', 'the', 'protocol', 'in', 'pg', '##p', '(', 'pretty', 'good', 'privacy', ')', '.', '<', 'end', '>']\n",
      "Debug - Raw predicted tags: ['<start>', '<start>', '<start>', 'O', 'O', 'O', 'O', 'O', 'O', 'O', 'O', 'O', 'O', 'O', 'O', 'O', 'O', 'O', '<end>', '<end>', '<end>']\n",
      "Debug - Aligned result: [('<start>', '<start>'), ('OpenPGP', 'O'), ('is', 'O'), ('the', 'O'), ('protocol', 'O'), ('in', 'O'), ('PGP', 'O'), ('(', 'O'), ('Pretty', 'O'), ('Good', 'O'), ('Privacy', 'O'), (')', 'O'), ('.', '<end>'), ('<end>', '<end>')]\n",
      "Processed: OpenPGP is the protocol in PGP ( Pretty Good Privacy ) .\n",
      "Predictions: ['<start>', 'O', 'O', 'O', 'O', 'O', 'O', 'O', 'O', 'O', 'O', 'O', '<end>', '<end>']\n",
      "\n",
      "Debug - Tokens: ['<', 'start', '>', 'they', 'use', 'implant', '##s', 'and', 'c2', '(', 'command', 'and', 'control', ')', 'code', 'that', 'shared', 'across', 'multiple', 'chinese', '-', 'speaking', 'apt', '##s', '.', '<', 'end', '>']\n",
      "Debug - Raw predicted tags: ['<start>', '<start>', '<start>', 'O', 'O', 'O', 'O', 'O', 'O', 'O', 'O', 'O', 'O', 'O', 'O', 'O', 'O', 'O', 'O', 'O', 'O', 'O', 'O', 'O', 'O', '<end>', '<end>', '<end>']\n",
      "Debug - Aligned result: [('<start>', '<start>'), ('They', 'O'), ('use', 'O'), ('implants', 'O'), ('and', 'O'), ('C2', 'O'), ('(', 'O'), ('Command', 'O'), ('and', 'O'), ('Control', 'O'), (')', 'O'), ('code', 'O'), ('that', 'O'), ('shared', 'O'), ('across', 'O'), ('multiple', 'O'), ('Chinese-speaking', 'O'), ('APTs', 'O'), ('.', '<end>'), ('<end>', '<end>')]\n",
      "Processed: They use implants and C2 ( Command and Control ) code that shared across multiple Chinese-speaking APTs .\n",
      "Predictions: ['<start>', 'O', 'O', 'O', 'O', 'O', 'O', 'O', 'O', 'O', 'O', 'O', 'O', 'O', 'O', 'O', 'O', 'O', '<end>', '<end>']\n",
      "\n",
      "Debug - Tokens: ['<', 'start', '>', 'it', 'claims', 'to', 'be', 'linked', 'to', 'the', 'islamic', 'state', 'of', 'iraq', 'and', 'syria', '(', 'isis', ')', '.', '<', 'end', '>']\n",
      "Debug - Raw predicted tags: ['<start>', '<start>', '<start>', 'O', 'O', 'O', 'O', 'O', 'O', 'O', 'B-Organization', 'I-System', 'I-System', 'I-System', 'I-System', 'I-System', 'O', 'O', 'O', 'O', '<end>', '<end>', '<end>']\n",
      "Debug - Aligned result: [('<start>', '<start>'), ('It', 'O'), ('claims', 'O'), ('to', 'O'), ('be', 'O'), ('linked', 'O'), ('to', 'O'), ('the', 'B-Organization'), ('Islamic', 'I-System'), ('State', 'I-System'), ('of', 'I-System'), ('Iraq', 'I-System'), ('and', 'I-System'), ('Syria', 'O'), ('(', 'O'), ('ISIS', 'O'), (')', 'O'), ('.', '<end>'), ('<end>', '<end>')]\n",
      "Processed: It claims to be linked to the Islamic State of Iraq and Syria ( ISIS ) .\n",
      "Predictions: ['<start>', 'O', 'O', 'O', 'O', 'O', 'O', 'B-Organization', 'I-System', 'I-System', 'I-System', 'I-System', 'I-System', 'O', 'O', 'O', 'O', '<end>', '<end>']\n",
      "\n",
      "Debug - Tokens: ['<', 'start', '>', 'it', 'also', 'execute', '##s', 'a', 'process', 'named', 'h', '##hc', '.', 'ex', '##e', 'which', 'is', 'a', 'legitimate', 'html', 'help', '(', 'hc', '##p', ')', 'help', 'compiler', 'process', '.', '<', 'end', '>']\n",
      "Debug - Raw predicted tags: ['<start>', '<start>', '<start>', 'O', 'O', 'O', 'O', 'O', 'O', 'O', 'B-Indicator', 'B-Indicator', 'B-Indicator', 'B-Indicator', 'B-Indicator', 'O', 'O', 'O', 'O', 'O', 'O', 'O', 'O', 'O', 'O', 'O', 'O', 'O', 'O', '<end>', '<end>', '<end>']\n",
      "Debug - Aligned result: [('<start>', '<start>'), ('It', 'O'), ('also', 'O'), ('executes', 'O'), ('a', 'O'), ('process', 'O'), ('named', 'B-Indicator'), ('hhc.exe', 'B-Indicator'), ('which', 'O'), ('is', 'O'), ('a', 'O'), ('legitimate', 'O'), ('HTML', 'O'), ('Help', 'O'), ('(', 'O'), ('HCP', 'O'), (')', 'O'), ('Help', 'O'), ('Compiler', 'O'), ('process', 'O'), ('.', '<end>'), ('<end>', '<end>')]\n",
      "Processed: It also executes a process named hhc.exe which is a legitimate HTML Help ( HCP ) Help Compiler process .\n",
      "Predictions: ['<start>', 'O', 'O', 'O', 'O', 'O', 'B-Indicator', 'B-Indicator', 'O', 'O', 'O', 'O', 'O', 'O', 'O', 'O', 'O', 'O', 'O', 'O', '<end>', '<end>']\n",
      "\n",
      "Debug - Tokens: ['<', 'start', '>', 'multi', '-', 'purpose', 'internet', 'mail', 'extensions', 'protocol', '(', 'mi', '##me', ')', 'an', 'extension', 'to', 'the', 'internet', 'email', 'protocol', '.', '<', 'end', '>']\n",
      "Debug - Raw predicted tags: ['<start>', '<start>', '<start>', 'O', 'O', 'O', 'B-System', 'I-System', 'I-System', 'O', 'O', 'O', 'O', 'O', 'O', 'O', 'O', 'O', 'O', 'O', 'O', 'O', '<end>', '<end>', '<end>']\n",
      "Debug - Aligned result: [('<start>', '<start>'), ('Multi-Purpose', 'O'), ('Internet', 'I-System'), ('Mail', 'I-System'), ('Extensions', 'O'), ('protocol', 'O'), ('(', 'O'), ('MIME', 'O'), (')', 'O'), ('an', 'O'), ('extension', 'O'), ('to', 'O'), ('the', 'O'), ('Internet', 'O'), ('email', 'O'), ('protocol', 'O'), ('.', '<end>'), ('<end>', '<end>')]\n",
      "Processed: Multi-Purpose Internet Mail Extensions protocol ( MIME )  an extension to the Internet email protocol .\n",
      "Predictions: ['<start>', 'O', 'I-System', 'I-System', 'O', 'O', 'O', 'O', 'O', 'O', 'O', 'O', 'O', 'O', 'O', 'O', '<end>', '<end>']\n",
      "\n",
      "Debug - Tokens: ['<', 'start', '>', 'in', 'february', '2013', ',', 'privacy', 'international', ',', 'the', 'european', 'centre', 'for', 'constitutional', 'and', 'human', 'rights', '(', 'ec', '##ch', '##r', ')', '.', '<', 'end', '>']\n",
      "Debug - Raw predicted tags: ['<start>', '<start>', '<start>', 'O', 'O', 'O', 'O', 'B-Organization', 'I-Organization', 'O', 'O', 'O', 'O', 'O', 'O', 'O', 'O', 'O', 'O', 'O', 'O', 'O', 'O', 'O', '<end>', '<end>', '<end>']\n",
      "Debug - Aligned result: [('<start>', '<start>'), ('In', 'O'), ('February', 'O'), ('2013,', 'O'), ('Privacy', 'I-Organization'), ('International,', 'O'), ('the', 'O'), ('European', 'O'), ('Centre', 'O'), ('for', 'O'), ('Constitutional', 'O'), ('and', 'O'), ('Human', 'O'), ('Rights', 'O'), ('(', 'O'), ('ECCHR', 'O'), (')', 'O'), ('.', '<end>'), ('<end>', '<end>')]\n",
      "Processed: In February 2013, Privacy International, the European Centre for Constitutional and Human Rights ( ECCHR ) .\n",
      "Predictions: ['<start>', 'O', 'O', 'O', 'I-Organization', 'O', 'O', 'O', 'O', 'O', 'O', 'O', 'O', 'O', 'O', 'O', 'O', '<end>', '<end>']\n",
      "\n",
      "Debug - Tokens: ['<', 'start', '>', 'reporters', 'without', 'borders', 'filed', 'a', 'complaint', 'with', 'the', 'organization', 'for', 'economic', 'cooperation', 'and', 'development', '(', 'o', '##ec', '##d', ')', '.', '<', 'end', '>']\n",
      "Debug - Raw predicted tags: ['<start>', '<start>', '<start>', 'B-Organization', 'O', 'O', 'O', 'O', 'O', 'O', 'O', 'O', 'O', 'O', 'O', 'O', 'O', 'O', 'O', 'O', 'O', 'O', 'O', '<end>', '<end>', '<end>']\n",
      "Debug - Aligned result: [('<start>', '<start>'), ('Reporters', 'O'), ('Without', 'O'), ('Borders', 'O'), ('filed', 'O'), ('a', 'O'), ('complaint', 'O'), ('with', 'O'), ('the', 'O'), ('Organization', 'O'), ('for', 'O'), ('Economic', 'O'), ('Cooperation', 'O'), ('and', 'O'), ('Development', 'O'), ('(', 'O'), ('OECD', 'O'), (')', 'O'), ('.', '<end>'), ('<end>', '<end>')]\n",
      "Processed: Reporters Without Borders filed a complaint with the Organization for Economic Cooperation and Development ( OECD ) .\n",
      "Predictions: ['<start>', 'O', 'O', 'O', 'O', 'O', 'O', 'O', 'O', 'O', 'O', 'O', 'O', 'O', 'O', 'O', 'O', 'O', '<end>', '<end>']\n",
      "\n",
      "Debug - Tokens: ['<', 'start', '>', 'we', \"'\", 'd', 'like', 'to', 'thank', 'eva', 'gal', '##per', '##in', 'and', 'the', 'electronic', 'frontier', 'foundation', '(', 'e', '##ff', ')', '.', '<', 'end', '>']\n",
      "Debug - Raw predicted tags: ['<start>', '<start>', '<start>', 'O', 'O', 'O', 'O', 'O', 'O', 'O', 'O', 'O', 'O', 'O', 'O', 'B-System', 'O', 'O', 'O', 'O', 'O', 'O', 'O', '<end>', '<end>', '<end>']\n",
      "Debug - Aligned result: [('<start>', '<start>'), (\"We'd\", 'O'), ('like', 'O'), ('to', 'O'), ('thank', 'O'), ('Eva', 'O'), ('Galperin', 'O'), ('and', 'O'), ('the', 'B-System'), ('Electronic', 'O'), ('Frontier', 'O'), ('Foundation', 'O'), ('(', 'O'), ('EFF', 'O'), (')', 'O'), ('.', '<end>'), ('<end>', '<end>')]\n",
      "Processed: We'd like to thank Eva Galperin and the Electronic Frontier Foundation ( EFF ) .\n",
      "Predictions: ['<start>', 'O', 'O', 'O', 'O', 'O', 'O', 'O', 'B-System', 'O', 'O', 'O', 'O', 'O', 'O', '<end>', '<end>']\n",
      "\n",
      "Debug - Tokens: ['<', 'start', '>', 'secure', 'border', 'gateway', 'protocol', '(', 'secure', '-', 'b', '##gp', ')', 'is', 'used', '.', '<', 'end', '>']\n",
      "Debug - Raw predicted tags: ['<start>', '<start>', '<start>', 'O', 'O', 'O', 'O', 'O', 'O', 'O', 'O', 'O', 'O', 'O', 'O', 'O', '<end>', '<end>', '<end>']\n",
      "Debug - Aligned result: [('<start>', '<start>'), ('Secure', 'O'), ('Border', 'O'), ('Gateway', 'O'), ('Protocol', 'O'), ('(', 'O'), ('Secure-BGP', 'O'), (')', 'O'), ('is', 'O'), ('used', 'O'), ('.', '<end>'), ('<end>', '<end>')]\n",
      "Processed: Secure Border Gateway Protocol ( Secure-BGP ) is used .\n",
      "Predictions: ['<start>', 'O', 'O', 'O', 'O', 'O', 'O', 'O', 'O', 'O', '<end>', '<end>']\n",
      "\n",
      "Debug - Tokens: ['<', 'start', '>', 'computer', 'emergency', 'response', 'team', 'india', '(', 'ce', '##rt', '-', 'in', ')', 'reported', 'a', 'new', '##e', 'mal', '##ware', '.', '<', 'end', '>']\n",
      "Debug - Raw predicted tags: ['<start>', '<start>', '<start>', 'O', 'I-System', 'I-System', 'I-Organization', 'I-Organization', 'O', 'B-Organization', 'B-Organization', 'B-Organization', 'B-Organization', 'O', 'O', 'O', 'O', 'O', 'O', 'O', 'O', '<end>', '<end>', '<end>']\n",
      "Debug - Aligned result: [('<start>', '<start>'), ('Computer', 'I-System'), ('Emergency', 'I-System'), ('Response', 'I-Organization'), ('Team', 'I-Organization'), ('India', 'O'), ('(', 'B-Organization'), ('CERT-In', 'B-Organization'), (')', 'O'), ('reported', 'O'), ('a', 'O'), ('newe', 'O'), ('malware', 'O'), ('.', '<end>'), ('<end>', '<end>')]\n",
      "Processed: Computer Emergency Response Team India ( CERT-In ) reported a newe malware .\n",
      "Predictions: ['<start>', 'I-System', 'I-System', 'I-Organization', 'I-Organization', 'O', 'B-Organization', 'B-Organization', 'O', 'O', 'O', 'O', 'O', '<end>', '<end>']\n",
      "\n",
      "Debug - Tokens: ['<', 'start', '>', 'hs', '##pd', '-', '7', '(', 'homeland', 'security', 'presidential', 'directive', '7', ')', 'presented', 'a', 'cyber', 'attack', 'report', '.', '<', 'end', '>']\n",
      "Debug - Raw predicted tags: ['<start>', '<start>', '<start>', 'B-System', 'B-System', 'B-System', 'B-System', 'O', 'B-Organization', 'I-Organization', 'I-System', 'I-System', 'O', 'O', 'O', 'O', 'O', 'O', 'O', 'O', '<end>', '<end>', '<end>']\n",
      "Debug - Aligned result: [('<start>', '<start>'), ('HSPD-7', 'B-System'), ('(', 'B-Organization'), ('Homeland', 'I-Organization'), ('Security', 'I-System'), ('Presidential', 'I-System'), ('Directive', 'O'), ('7', 'O'), (')', 'O'), ('presented', 'O'), ('a', 'O'), ('cyber', 'O'), ('attack', 'O'), ('report', 'O'), ('.', '<end>'), ('<end>', '<end>')]\n",
      "Processed: HSPD-7 ( Homeland Security Presidential Directive 7 ) presented a cyber attack report .\n",
      "Predictions: ['<start>', 'B-System', 'B-Organization', 'I-Organization', 'I-System', 'I-System', 'O', 'O', 'O', 'O', 'O', 'O', 'O', 'O', '<end>', '<end>']\n",
      "\n",
      "Debug - Tokens: ['<', 'start', '>', 'american', 'institute', 'of', 'chemical', 'engineers', '(', 'ai', '##che', ')', 'is', 'in', 'new', 'york', '.', '<', 'end', '>']\n",
      "Debug - Raw predicted tags: ['<start>', '<start>', '<start>', 'B-System', 'I-System', 'O', 'B-System', 'O', 'O', 'O', 'O', 'O', 'O', 'O', 'O', 'O', 'O', '<end>', '<end>', '<end>']\n",
      "Debug - Aligned result: [('<start>', '<start>'), ('American', 'I-System'), ('Institute', 'O'), ('of', 'B-System'), ('Chemical', 'O'), ('Engineers', 'O'), ('(', 'O'), ('AIChE', 'O'), (')', 'O'), ('is', 'O'), ('in', 'O'), ('New', 'O'), ('York', 'O'), ('.', '<end>'), ('<end>', '<end>')]\n",
      "Processed: American Institute of Chemical Engineers ( AIChE ) is in New York .\n",
      "Predictions: ['<start>', 'I-System', 'O', 'B-System', 'O', 'O', 'O', 'O', 'O', 'O', 'O', 'O', 'O', '<end>', '<end>']\n",
      "\n",
      "Debug - Tokens: ['<', 'start', '>', 'azure', 'security', 'center', '(', 'as', '##c', ')', 'detect', '##s', 'this', 'attack', '.', '<', 'end', '>']\n",
      "Debug - Raw predicted tags: ['<start>', '<start>', '<start>', 'B-System', 'I-System', 'I-System', 'O', 'O', 'O', 'O', 'O', 'O', 'O', 'O', 'O', '<end>', '<end>', '<end>']\n",
      "Debug - Aligned result: [('<start>', '<start>'), ('Azure', 'I-System'), ('Security', 'I-System'), ('Center', 'O'), ('(', 'O'), ('ASC', 'O'), (')', 'O'), ('detects', 'O'), ('this', 'O'), ('attack', 'O'), ('.', '<end>'), ('<end>', '<end>')]\n",
      "Processed: Azure Security Center ( ASC ) detects this attack .\n",
      "Predictions: ['<start>', 'I-System', 'I-System', 'O', 'O', 'O', 'O', 'O', 'O', 'O', '<end>', '<end>']\n",
      "\n",
      "Debug - Tokens: ['<', 'start', '>', 'every', 'vertex', 'v', 'is', 'assigned', 'a', 'main', 'chain', 'index', '(', 'mc', '##i', ')', '.', '<', 'end', '>']\n",
      "Debug - Raw predicted tags: ['<start>', '<start>', '<start>', 'O', 'O', 'O', 'O', 'O', 'O', 'O', 'O', 'O', 'O', 'O', 'O', 'O', 'O', '<end>', '<end>', '<end>']\n",
      "Debug - Aligned result: [('<start>', '<start>'), ('Every', 'O'), ('vertex', 'O'), ('v', 'O'), ('is', 'O'), ('assigned', 'O'), ('a', 'O'), ('main', 'O'), ('chain', 'O'), ('index', 'O'), ('(', 'O'), ('MCI', 'O'), (')', 'O'), ('.', '<end>'), ('<end>', '<end>')]\n",
      "Processed: Every vertex v is assigned a main chain index ( MCI ) .\n",
      "Predictions: ['<start>', 'O', 'O', 'O', 'O', 'O', 'O', 'O', 'O', 'O', 'O', 'O', 'O', '<end>', '<end>']\n",
      "\n",
      "Debug - Tokens: ['<', 'start', '>', 'mal', '##ware', 'that', 'target', 'the', 'private', 'branch', 'exchanges', '(', 'p', '##b', '##x', ')', '.', '<', 'end', '>']\n",
      "Debug - Raw predicted tags: ['<start>', '<start>', '<start>', 'O', 'O', 'O', 'O', 'O', 'O', 'O', 'O', 'O', 'O', 'O', 'O', 'O', 'O', '<end>', '<end>', '<end>']\n",
      "Debug - Aligned result: [('<start>', '<start>'), ('malware', 'O'), ('that', 'O'), ('target', 'O'), ('the', 'O'), ('Private', 'O'), ('Branch', 'O'), ('eXchanges', 'O'), ('(', 'O'), ('PBX', 'O'), (')', 'O'), ('.', '<end>'), ('<end>', '<end>')]\n",
      "Processed: malware that target the Private Branch eXchanges ( PBX ) .\n",
      "Predictions: ['<start>', 'O', 'O', 'O', 'O', 'O', 'O', 'O', 'O', 'O', 'O', '<end>', '<end>']\n",
      "\n",
      "Debug - Tokens: ['<', 'start', '>', 'it', 'is', 'similar', 'to', 'node', 'activation', 'multiple', 'access', '(', 'nam', '##a', ')', '.', '<', 'end', '>']\n",
      "Debug - Raw predicted tags: ['<start>', '<start>', '<start>', 'O', 'O', 'O', 'O', 'O', 'O', 'O', 'O', 'O', 'O', 'O', 'O', 'O', '<end>', '<end>', '<end>']\n",
      "Debug - Aligned result: [('<start>', '<start>'), ('It', 'O'), ('is', 'O'), ('similar', 'O'), ('to', 'O'), ('Node', 'O'), ('Activation', 'O'), ('Multiple', 'O'), ('Access', 'O'), ('(', 'O'), ('NAMA', 'O'), (')', 'O'), ('.', '<end>'), ('<end>', '<end>')]\n",
      "Processed: It is similar to Node Activation Multiple Access ( NAMA ) .\n",
      "Predictions: ['<start>', 'O', 'O', 'O', 'O', 'O', 'O', 'O', 'O', 'O', 'O', 'O', '<end>', '<end>']\n",
      "\n",
      "Debug - Tokens: ['<', 'start', '>', 'it', 'is', 'a', 'server', 'side', 'request', 'forge', '##ry', '(', 'ssr', '##f', ')', 'vulnerability', '.', '<', 'end', '>']\n",
      "Debug - Raw predicted tags: ['<start>', '<start>', '<start>', 'O', 'O', 'O', 'O', 'O', 'O', 'O', 'O', 'O', 'O', 'O', 'O', 'O', 'O', '<end>', '<end>', '<end>']\n",
      "Debug - Aligned result: [('<start>', '<start>'), ('It', 'O'), ('is', 'O'), ('a', 'O'), ('server', 'O'), ('side', 'O'), ('request', 'O'), ('forgery', 'O'), ('(', 'O'), ('SSRF', 'O'), (')', 'O'), ('vulnerability', 'O'), ('.', '<end>'), ('<end>', '<end>')]\n",
      "Processed: It is a server side request forgery ( SSRF ) vulnerability .\n",
      "Predictions: ['<start>', 'O', 'O', 'O', 'O', 'O', 'O', 'O', 'O', 'O', 'O', 'O', '<end>', '<end>']\n",
      "\n",
      "Debug - Tokens: ['<', 'start', '>', 'lever', '##s', 'of', 'control', '(', 'lo', '##c', ')', 'framework', 'has', 'four', 'control', 'systems', '.', '<', 'end', '>']\n",
      "Debug - Raw predicted tags: ['<start>', '<start>', '<start>', 'O', 'O', 'O', 'O', 'O', 'O', 'O', 'O', 'O', 'O', 'O', 'O', 'O', 'O', '<end>', '<end>', '<end>']\n",
      "Debug - Aligned result: [('<start>', '<start>'), ('levers', 'O'), ('of', 'O'), ('control', 'O'), ('(', 'O'), ('LOC', 'O'), (')', 'O'), ('framework', 'O'), ('has', 'O'), ('four', 'O'), ('control', 'O'), ('systems', 'O'), ('.', '<end>'), ('<end>', '<end>')]\n",
      "Processed: levers of control ( LOC ) framework has four control systems .\n",
      "Predictions: ['<start>', 'O', 'O', 'O', 'O', 'O', 'O', 'O', 'O', 'O', 'O', 'O', '<end>', '<end>']\n",
      "\n",
      "Debug - Tokens: ['<', 'start', '>', 'swat', 'contains', 'orthogonal', 'defense', 'mechanism', '(', 'o', '##dm', ')', '.', '<', 'end', '>']\n",
      "Debug - Raw predicted tags: ['<start>', '<start>', '<start>', 'B-Malware', 'O', 'O', 'O', 'O', 'O', 'O', 'O', 'O', 'O', '<end>', '<end>', '<end>']\n",
      "Debug - Aligned result: [('<start>', '<start>'), ('SWaT', 'O'), ('contains', 'O'), ('Orthogonal', 'O'), ('Defense', 'O'), ('Mechanism', 'O'), ('(', 'O'), ('ODM', 'O'), (')', 'O'), ('.', '<end>'), ('<end>', '<end>')]\n",
      "Processed: SWaT contains Orthogonal Defense Mechanism ( ODM ) .\n",
      "Predictions: ['<start>', 'O', 'O', 'O', 'O', 'O', 'O', 'O', 'O', '<end>', '<end>']\n",
      "\n",
      "Debug - Tokens: ['<', 'start', '>', 'additional', 'protocol', 'i', '(', 'ap', '-', 'i', ')', 'is', 'a', 'strong', 'indicator', '.', '<', 'end', '>']\n",
      "Debug - Raw predicted tags: ['<start>', '<start>', '<start>', 'O', 'O', 'O', 'O', 'O', 'O', 'O', 'O', 'O', 'O', 'O', 'O', 'O', '<end>', '<end>', '<end>']\n",
      "Debug - Aligned result: [('<start>', '<start>'), ('Additional', 'O'), ('Protocol', 'O'), ('I', 'O'), ('(', 'O'), ('AP-I', 'O'), (')', 'O'), ('is', 'O'), ('a', 'O'), ('strong', 'O'), ('indicator', 'O'), ('.', '<end>'), ('<end>', '<end>')]\n",
      "Processed: Additional Protocol I ( AP-I ) is a strong indicator .\n",
      "Predictions: ['<start>', 'O', 'O', 'O', 'O', 'O', 'O', 'O', 'O', 'O', 'O', '<end>', '<end>']\n",
      "\n",
      "Debug - Tokens: ['<', 'start', '>', 'many', 'sc', '##ada', 'systems', 'use', 'a', 'p', 'hot', 'stand', '##by', '(', 'hs', '##b', ')', 'configuration', '.', '<', 'end', '>']\n",
      "Debug - Raw predicted tags: ['<start>', '<start>', '<start>', 'O', 'O', 'O', 'O', 'O', 'O', 'O', 'O', 'O', 'O', 'O', 'O', 'O', 'O', 'O', 'O', '<end>', '<end>', '<end>']\n",
      "Debug - Aligned result: [('<start>', '<start>'), ('many', 'O'), ('SCADA', 'O'), ('systems', 'O'), ('use', 'O'), ('a', 'O'), ('P', 'O'), ('Hot', 'O'), ('Standby', 'O'), ('(', 'O'), ('HSB', 'O'), (')', 'O'), ('configuration', 'O'), ('.', '<end>'), ('<end>', '<end>')]\n",
      "Processed: many SCADA systems use a P Hot Standby ( HSB ) configuration .\n",
      "Predictions: ['<start>', 'O', 'O', 'O', 'O', 'O', 'O', 'O', 'O', 'O', 'O', 'O', 'O', '<end>', '<end>']\n",
      "\n",
      "Debug - Tokens: ['<', 'start', '>', 'a', 'message', 'integrity', 'code', '(', 'mic', ')', 'is', 'required', 'by', 'the', 'process', '##s', '.', '<', 'end', '>']\n",
      "Debug - Raw predicted tags: ['<start>', '<start>', '<start>', 'O', 'O', 'O', 'O', 'O', 'O', 'O', 'O', 'O', 'O', 'O', 'O', 'O', 'O', '<end>', '<end>', '<end>']\n",
      "Debug - Aligned result: [('<start>', '<start>'), ('a', 'O'), ('Message', 'O'), ('Integrity', 'O'), ('Code', 'O'), ('(', 'O'), ('MIC', 'O'), (')', 'O'), ('is', 'O'), ('required', 'O'), ('by', 'O'), ('the', 'O'), ('processs', 'O'), ('.', '<end>'), ('<end>', '<end>')]\n",
      "Processed: a Message Integrity Code ( MIC ) is required by the processs .\n",
      "Predictions: ['<start>', 'O', 'O', 'O', 'O', 'O', 'O', 'O', 'O', 'O', 'O', 'O', 'O', '<end>', '<end>']\n",
      "\n",
      "Debug - Tokens: ['<', 'start', '>', 'the', 'printed', 'circuit', 'board', '(', 'pc', '##b', ')', 'used', 'ro', 'design', 'the', 'circuits', '.', '<', 'end', '>']\n",
      "Debug - Raw predicted tags: ['<start>', '<start>', '<start>', 'O', 'O', 'O', 'O', 'O', 'O', 'O', 'O', 'O', 'O', 'O', 'O', 'O', 'O', '<end>', '<end>', '<end>']\n",
      "Debug - Aligned result: [('<start>', '<start>'), ('the', 'O'), ('printed', 'O'), ('circuit', 'O'), ('board', 'O'), ('(', 'O'), ('PCB', 'O'), (')', 'O'), ('used', 'O'), ('ro', 'O'), ('design', 'O'), ('the', 'O'), ('circuits', 'O'), ('.', '<end>'), ('<end>', '<end>')]\n",
      "Processed: the printed circuit board ( PCB ) used ro design the circuits .\n",
      "Predictions: ['<start>', 'O', 'O', 'O', 'O', 'O', 'O', 'O', 'O', 'O', 'O', 'O', 'O', '<end>', '<end>']\n",
      "\n",
      "Debug - Tokens: ['<', 'start', '>', 'unified', 'power', 'flow', 'controllers', '(', 'up', '##fc', ')', 'used', 'to', 'regulate', 'power', 'flow', '.', '<', 'end', '>']\n",
      "Debug - Raw predicted tags: ['<start>', '<start>', '<start>', 'O', 'O', 'O', 'O', 'O', 'O', 'O', 'O', 'O', 'O', 'O', 'O', 'O', 'O', '<end>', '<end>', '<end>']\n",
      "Debug - Aligned result: [('<start>', '<start>'), ('Unified', 'O'), ('Power', 'O'), ('Flow', 'O'), ('Controllers', 'O'), ('(', 'O'), ('UPFC', 'O'), (')', 'O'), ('used', 'O'), ('to', 'O'), ('regulate', 'O'), ('power', 'O'), ('flow', 'O'), ('.', '<end>'), ('<end>', '<end>')]\n",
      "Processed: Unified Power Flow Controllers ( UPFC ) used to regulate power flow .\n",
      "Predictions: ['<start>', 'O', 'O', 'O', 'O', 'O', 'O', 'O', 'O', 'O', 'O', 'O', 'O', '<end>', '<end>']\n",
      "\n",
      "Debug - Tokens: ['<', 'start', '>', 'wonderland', 'gas', 'networks', '(', 'w', '##gn', ')', ',', 'a', 'fictitious', 'critical', 'in', '##fra', '##st', '##ru', '##ce', '.', '<', 'end', '>']\n",
      "Debug - Raw predicted tags: ['<start>', '<start>', '<start>', 'B-Malware', 'I-Malware', 'I-Organization', 'O', 'O', 'O', 'O', 'O', 'O', 'O', 'O', 'O', 'O', 'O', 'O', 'O', 'O', '<end>', '<end>', '<end>']\n",
      "Debug - Aligned result: [('<start>', '<start>'), ('Wonderland', 'I-Malware'), ('Gas', 'I-Organization'), ('Networks', 'O'), ('(', 'O'), ('WGN', 'O'), (')', 'O'), (',', 'O'), ('a', 'O'), ('fictitious', 'O'), ('critical', 'O'), ('infrastruce', 'O'), ('.', '<end>'), ('<end>', '<end>')]\n",
      "Processed: Wonderland Gas Networks ( WGN ) , a fictitious critical infrastruce .\n",
      "Predictions: ['<start>', 'I-Malware', 'I-Organization', 'O', 'O', 'O', 'O', 'O', 'O', 'O', 'O', 'O', '<end>', '<end>']\n",
      "\n",
      "Debug - Tokens: ['<', 'start', '>', 'powers', '##hell', 'executed', 'through', 'the', 'in', '##vo', '##ke', 'expression', '(', 'ie', '##x', ')', 'command', '.', '<', 'end', '>']\n",
      "Debug - Raw predicted tags: ['<start>', '<start>', '<start>', 'B-System', 'B-System', 'O', 'O', 'O', 'O', 'O', 'O', 'O', 'O', 'O', 'O', 'O', 'O', 'O', '<end>', '<end>', '<end>']\n",
      "Debug - Aligned result: [('<start>', '<start>'), ('PowerShell', 'B-System'), ('executed', 'O'), ('through', 'O'), ('the', 'O'), ('Invoke', 'O'), ('Expression', 'O'), ('(', 'O'), ('IEX', 'O'), (')', 'O'), ('command', 'O'), ('.', '<end>'), ('<end>', '<end>')]\n",
      "Processed: PowerShell executed through the Invoke Expression ( IEX ) command .\n",
      "Predictions: ['<start>', 'B-System', 'O', 'O', 'O', 'O', 'O', 'O', 'O', 'O', 'O', '<end>', '<end>']\n",
      "\n",
      "Debug - Tokens: ['<', 'start', '>', 'public', 'key', 'crypt', '##ography', '(', 'p', '##k', '##c', ')', 'used', 'to', 'create', 'digital', 'certificates', '.', '<', 'end', '>']\n",
      "Debug - Raw predicted tags: ['<start>', '<start>', '<start>', 'O', 'O', 'O', 'O', 'O', 'O', 'O', 'O', 'O', 'O', 'O', 'O', 'O', 'O', 'O', '<end>', '<end>', '<end>']\n",
      "Debug - Aligned result: [('<start>', '<start>'), ('Public', 'O'), ('Key', 'O'), ('Cryptography', 'O'), ('(', 'O'), ('PKC', 'O'), (')', 'O'), ('used', 'O'), ('to', 'O'), ('create', 'O'), ('digital', 'O'), ('certificates', 'O'), ('.', '<end>'), ('<end>', '<end>')]\n",
      "Processed: Public Key Cryptography ( PKC ) used to create digital certificates .\n",
      "Predictions: ['<start>', 'O', 'O', 'O', 'O', 'O', 'O', 'O', 'O', 'O', 'O', 'O', '<end>', '<end>']\n",
      "\n",
      "Debug - Tokens: ['<', 'start', '>', 'we', 'employ', 'redundant', 'hardware', 'with', 'built', '-', 'in', 'self', 'test', '(', 'bis', '##t', ')', 'logic', '.', '<', 'end', '>']\n",
      "Debug - Raw predicted tags: ['<start>', '<start>', '<start>', 'O', 'O', 'O', 'O', 'O', 'O', 'O', 'O', 'O', 'O', 'O', 'O', 'O', 'O', 'O', 'O', '<end>', '<end>', '<end>']\n",
      "Debug - Aligned result: [('<start>', '<start>'), ('we', 'O'), ('employ', 'O'), ('redundant', 'O'), ('hardware', 'O'), ('with', 'O'), ('built-in', 'O'), ('self', 'O'), ('test', 'O'), ('(', 'O'), ('BIST', 'O'), (')', 'O'), ('logic', 'O'), ('.', '<end>'), ('<end>', '<end>')]\n",
      "Processed: we employ redundant hardware with built-in self test ( BIST ) logic .\n",
      "Predictions: ['<start>', 'O', 'O', 'O', 'O', 'O', 'O', 'O', 'O', 'O', 'O', 'O', 'O', '<end>', '<end>']\n",
      "\n",
      "Debug - Tokens: ['<', 'start', '>', 'it', 'is', 'possible', 'to', 'increase', 'the', 'engine', \"'\", 's', 'revolutions', 'per', 'minute', '(', 'rpm', ')', '.', '<', 'end', '>']\n",
      "Debug - Raw predicted tags: ['<start>', '<start>', '<start>', 'O', 'O', 'O', 'O', 'O', 'O', 'O', 'O', 'O', 'O', 'O', 'O', 'O', 'O', 'O', 'O', '<end>', '<end>', '<end>']\n",
      "Debug - Aligned result: [('<start>', '<start>'), ('it', 'O'), ('is', 'O'), ('possible', 'O'), ('to', 'O'), ('increase', 'O'), ('the', 'O'), (\"engine's\", 'O'), ('Revolutions', 'O'), ('Per', 'O'), ('Minute', 'O'), ('(', 'O'), ('RPM', 'O'), (')', 'O'), ('.', '<end>'), ('<end>', '<end>')]\n",
      "Processed: it is possible to increase the engine's Revolutions Per Minute ( RPM ) .\n",
      "Predictions: ['<start>', 'O', 'O', 'O', 'O', 'O', 'O', 'O', 'O', 'O', 'O', 'O', 'O', 'O', '<end>', '<end>']\n",
      "\n",
      "Debug - Tokens: ['<', 'start', '>', 'the', 'threat', 'actor', 'interacting', 'with', 'call', 'detail', 'record', '(', 'cd', '##r', ')', 'databases', '.', '<', 'end', '>']\n",
      "Debug - Raw predicted tags: ['<start>', '<start>', '<start>', 'O', 'O', 'O', 'O', 'O', 'O', 'O', 'O', 'O', 'O', 'O', 'O', 'O', 'O', '<end>', '<end>', '<end>']\n",
      "Debug - Aligned result: [('<start>', '<start>'), ('the', 'O'), ('threat', 'O'), ('actor', 'O'), ('interacting', 'O'), ('with', 'O'), ('call', 'O'), ('detail', 'O'), ('record', 'O'), ('(', 'O'), ('CDR', 'O'), (')', 'O'), ('databases', 'O'), ('.', '<end>'), ('<end>', '<end>')]\n",
      "Processed: the threat actor interacting with call detail record ( CDR ) databases .\n",
      "Predictions: ['<start>', 'O', 'O', 'O', 'O', 'O', 'O', 'O', 'O', 'O', 'O', 'O', 'O', '<end>', '<end>']\n",
      "\n",
      "Debug - Tokens: ['<', 'start', '>', 'windows', 'server', 'update', 'services', '(', 'w', '##sus', ')', 'is', 'a', 'dual', '-', 'home', '##d', 'update', 'servers', '.', '<', 'end', '>']\n",
      "Debug - Raw predicted tags: ['<start>', '<start>', '<start>', 'B-System', 'I-System', 'I-System', 'I-System', 'O', 'O', 'O', 'O', 'O', 'O', 'O', 'O', 'O', 'O', 'O', 'O', 'O', '<end>', '<end>', '<end>']\n",
      "Debug - Aligned result: [('<start>', '<start>'), ('Windows', 'I-System'), ('Server', 'I-System'), ('Update', 'I-System'), ('Services', 'O'), ('(', 'O'), ('WSUS', 'O'), (')', 'O'), ('is', 'O'), ('a', 'O'), ('dual-homed', 'O'), ('update', 'O'), ('servers', 'O'), ('.', '<end>'), ('<end>', '<end>')]\n",
      "Processed: Windows Server Update Services ( WSUS ) is a dual-homed update servers .\n",
      "Predictions: ['<start>', 'I-System', 'I-System', 'I-System', 'O', 'O', 'O', 'O', 'O', 'O', 'O', 'O', 'O', '<end>', '<end>']\n",
      "\n",
      "Debug - Tokens: ['<', 'start', '>', 'industrial', 'network', 'switches', 'uses', 'a', 'dedicated', 'test', 'access', 'ports', '(', 'tap', ')', '.', '<', 'end', '>']\n",
      "Debug - Raw predicted tags: ['<start>', '<start>', '<start>', 'O', 'O', 'O', 'O', 'O', 'O', 'O', 'O', 'O', 'O', 'O', 'O', 'O', '<end>', '<end>', '<end>']\n",
      "Debug - Aligned result: [('<start>', '<start>'), ('industrial', 'O'), ('network', 'O'), ('switches', 'O'), ('uses', 'O'), ('a', 'O'), ('dedicated', 'O'), ('Test', 'O'), ('Access', 'O'), ('Ports', 'O'), ('(', 'O'), ('TAP', 'O'), (')', 'O'), ('.', '<end>'), ('<end>', '<end>')]\n",
      "Processed: industrial network switches uses a dedicated Test Access Ports ( TAP ) .\n",
      "Predictions: ['<start>', 'O', 'O', 'O', 'O', 'O', 'O', 'O', 'O', 'O', 'O', 'O', 'O', '<end>', '<end>']\n",
      "\n",
      "Debug - Tokens: ['<', 'start', '>', 'packet', 'reception', 'rate', '(', 'pr', '##r', ')', 'is', 'very', 'important', 'in', 'a', 'w', '##st', 'implementation', '.', '<', 'end', '>']\n",
      "Debug - Raw predicted tags: ['<start>', '<start>', '<start>', 'O', 'O', 'O', 'O', 'O', 'O', 'O', 'O', 'O', 'O', 'O', 'O', 'O', 'O', 'O', 'O', '<end>', '<end>', '<end>']\n",
      "Debug - Aligned result: [('<start>', '<start>'), ('Packet', 'O'), ('Reception', 'O'), ('Rate', 'O'), ('(', 'O'), ('PRR', 'O'), (')', 'O'), ('is', 'O'), ('very', 'O'), ('important', 'O'), ('in', 'O'), ('a', 'O'), ('WST', 'O'), ('implementation', 'O'), ('.', '<end>'), ('<end>', '<end>')]\n",
      "Processed: Packet Reception Rate ( PRR ) is very important in a WST implementation .\n",
      "Predictions: ['<start>', 'O', 'O', 'O', 'O', 'O', 'O', 'O', 'O', 'O', 'O', 'O', 'O', 'O', '<end>', '<end>']\n",
      "\n",
      "Debug - Tokens: ['<', 'start', '>', 'it', 'solved', 'using', 'the', 'mixed', '-', 'integer', 'linear', 'programming', '(', 'mil', '##p', ')', 'method', '.', '<', 'end', '>']\n",
      "Debug - Raw predicted tags: ['<start>', '<start>', '<start>', 'O', 'O', 'O', 'O', 'O', 'O', 'O', 'O', 'O', 'O', 'O', 'O', 'O', 'O', 'O', '<end>', '<end>', '<end>']\n",
      "Debug - Aligned result: [('<start>', '<start>'), ('It', 'O'), ('solved', 'O'), ('using', 'O'), ('the', 'O'), ('mixed-integer', 'O'), ('linear', 'O'), ('programming', 'O'), ('(', 'O'), ('MILP', 'O'), (')', 'O'), ('method', 'O'), ('.', '<end>'), ('<end>', '<end>')]\n",
      "Processed: It solved using the mixed-integer linear programming ( MILP ) method .\n",
      "Predictions: ['<start>', 'O', 'O', 'O', 'O', 'O', 'O', 'O', 'O', 'O', 'O', 'O', '<end>', '<end>']\n",
      "\n",
      "Debug - Tokens: ['<', 'start', '>', 'it', 'is', 'needed', 'to', 'compute', 'metric', '##s', 'such', 'as', 'time', 'to', 'lane', 'crossing', '(', 't', '##lc', ')', '.', '<', 'end', '>']\n",
      "Debug - Raw predicted tags: ['<start>', '<start>', '<start>', 'O', 'O', 'O', 'O', 'O', 'O', 'O', 'O', 'O', 'O', 'O', 'O', 'O', 'O', 'O', 'O', 'O', 'O', '<end>', '<end>', '<end>']\n",
      "Debug - Aligned result: [('<start>', '<start>'), ('It', 'O'), ('is', 'O'), ('needed', 'O'), ('to', 'O'), ('compute', 'O'), ('metrics', 'O'), ('such', 'O'), ('as', 'O'), ('Time', 'O'), ('to', 'O'), ('Lane', 'O'), ('Crossing', 'O'), ('(', 'O'), ('TLC', 'O'), (')', 'O'), ('.', '<end>'), ('<end>', '<end>')]\n",
      "Processed: It is needed to compute metrics such as Time to Lane Crossing ( TLC ) .\n",
      "Predictions: ['<start>', 'O', 'O', 'O', 'O', 'O', 'O', 'O', 'O', 'O', 'O', 'O', 'O', 'O', 'O', 'O', '<end>', '<end>']\n",
      "\n",
      "Debug - Tokens: ['<', 'start', '>', 'the', 'trust', 'assertion', 'for', 'certificate', 'keys', '(', 'tack', ')', 'is', 'promoted', 'by', 'google', '.', '<', 'end', '>']\n",
      "Debug - Raw predicted tags: ['<start>', '<start>', '<start>', 'O', 'O', 'O', 'O', 'O', 'O', 'O', 'O', 'O', 'O', 'O', 'O', 'B-Organization', 'O', '<end>', '<end>', '<end>']\n",
      "Debug - Aligned result: [('<start>', '<start>'), ('the', 'O'), ('Trust', 'O'), ('Assertion', 'O'), ('for', 'O'), ('Certificate', 'O'), ('Keys', 'O'), ('(', 'O'), ('TACK', 'O'), (')', 'O'), ('is', 'O'), ('promoted', 'O'), ('by', 'B-Organization'), ('Google', 'O'), ('.', '<end>'), ('<end>', '<end>')]\n",
      "Processed: the Trust Assertion for Certificate Keys ( TACK ) is promoted by Google .\n",
      "Predictions: ['<start>', 'O', 'O', 'O', 'O', 'O', 'O', 'O', 'O', 'O', 'O', 'O', 'B-Organization', 'O', '<end>', '<end>']\n",
      "\n",
      "Debug - Tokens: ['<', 'start', '>', 'apple', \"'\", 's', 'new', 'end', '##point', 'security', 'framework', '(', 'es', '##f', ')', 'can', 'track', 'various', 'events', '.', '<', 'end', '>']\n",
      "Debug - Raw predicted tags: ['<start>', '<start>', '<start>', 'B-Organization', 'O', 'O', 'O', 'O', 'O', 'O', 'O', 'O', 'O', 'O', 'O', 'O', 'O', 'O', 'O', 'O', '<end>', '<end>', '<end>']\n",
      "Debug - Aligned result: [('<start>', '<start>'), (\"Apple's\", 'O'), ('new', 'O'), ('Endpoint', 'O'), ('Security', 'O'), ('Framework', 'O'), ('(', 'O'), ('ESF', 'O'), (')', 'O'), ('can', 'O'), ('track', 'O'), ('various', 'O'), ('events', 'O'), ('.', '<end>'), ('<end>', '<end>')]\n",
      "Processed: Apple's new Endpoint Security Framework ( ESF ) can track various events .\n",
      "Predictions: ['<start>', 'O', 'O', 'O', 'O', 'O', 'O', 'O', 'O', 'O', 'O', 'O', 'O', '<end>', '<end>']\n",
      "\n",
      "Debug - Tokens: ['<', 'start', '>', 'rapid', 'spanning', 'tree', 'protocol', '(', 'rs', '##tp', ')', 'is', 'used', 'to', 'model', 'the', 'attack', 'events', '.', '<', 'end', '>']\n",
      "Debug - Raw predicted tags: ['<start>', '<start>', '<start>', 'O', 'O', 'O', 'O', 'O', 'O', 'O', 'O', 'O', 'O', 'O', 'O', 'O', 'O', 'O', 'O', '<end>', '<end>', '<end>']\n",
      "Debug - Aligned result: [('<start>', '<start>'), ('Rapid', 'O'), ('Spanning', 'O'), ('Tree', 'O'), ('Protocol', 'O'), ('(', 'O'), ('RSTP', 'O'), (')', 'O'), ('is', 'O'), ('used', 'O'), ('to', 'O'), ('model', 'O'), ('the', 'O'), ('attack', 'O'), ('events', 'O'), ('.', '<end>'), ('<end>', '<end>')]\n",
      "Processed: Rapid Spanning Tree Protocol ( RSTP ) is used to model the attack events .\n",
      "Predictions: ['<start>', 'O', 'O', 'O', 'O', 'O', 'O', 'O', 'O', 'O', 'O', 'O', 'O', 'O', 'O', '<end>', '<end>']\n",
      "\n",
      "Debug - Tokens: ['<', 'start', '>', 'privacy', 'preserving', 'data', 'mining', '(', 'pp', '##dm', ')', 'tries', 'to', 'solve', 'the', 'above', 'problem', '.', '<', 'end', '>']\n",
      "Debug - Raw predicted tags: ['<start>', '<start>', '<start>', 'O', 'O', 'O', 'O', 'O', 'O', 'O', 'O', 'O', 'O', 'O', 'O', 'O', 'O', 'O', '<end>', '<end>', '<end>']\n",
      "Debug - Aligned result: [('<start>', '<start>'), ('Privacy', 'O'), ('Preserving', 'O'), ('Data', 'O'), ('Mining', 'O'), ('(', 'O'), ('PPDM', 'O'), (')', 'O'), ('tries', 'O'), ('to', 'O'), ('solve', 'O'), ('the', 'O'), ('above', 'O'), ('problem', 'O'), ('.', '<end>'), ('<end>', '<end>')]\n",
      "Processed: Privacy Preserving Data Mining ( PPDM ) tries to solve the above problem .\n",
      "Predictions: ['<start>', 'O', 'O', 'O', 'O', 'O', 'O', 'O', 'O', 'O', 'O', 'O', 'O', 'O', '<end>', '<end>']\n",
      "\n",
      "Debug - Tokens: ['<', 'start', '>', 'reduce', 'the', 'matrix', 'dime', '##nti', '##on', 'with', 'proper', 'orthogonal', 'decomposition', '(', 'pod', ')', '.', '<', 'end', '>']\n",
      "Debug - Raw predicted tags: ['<start>', '<start>', '<start>', 'O', 'O', 'O', 'O', 'O', 'O', 'O', 'O', 'O', 'O', 'O', 'O', 'O', 'O', '<end>', '<end>', '<end>']\n",
      "Debug - Aligned result: [('<start>', '<start>'), ('reduce', 'O'), ('the', 'O'), ('matrix', 'O'), ('dimention', 'O'), ('with', 'O'), ('proper', 'O'), ('orthogonal', 'O'), ('decomposition', 'O'), ('(', 'O'), ('POD', 'O'), (')', 'O'), ('.', '<end>'), ('<end>', '<end>')]\n",
      "Processed: reduce the matrix dimention with proper orthogonal decomposition ( POD ) .\n",
      "Predictions: ['<start>', 'O', 'O', 'O', 'O', 'O', 'O', 'O', 'O', 'O', 'O', 'O', '<end>', '<end>']\n",
      "\n",
      "Debug - Tokens: ['<', 'start', '>', 'rms', 'allows', 'them', 'to', 'con', '##fi', '##gur', '##e', 'their', 'own', 'remote', 'utilities', '(', 'ru', ')', 'server', '.', '<', 'end', '>']\n",
      "Debug - Raw predicted tags: ['<start>', '<start>', '<start>', 'O', 'O', 'O', 'O', 'O', 'O', 'O', 'O', 'O', 'O', 'O', 'O', 'O', 'O', 'O', 'O', 'O', '<end>', '<end>', '<end>']\n",
      "Debug - Aligned result: [('<start>', '<start>'), ('RMS', 'O'), ('allows', 'O'), ('them', 'O'), ('to', 'O'), ('configure', 'O'), ('their', 'O'), ('own', 'O'), ('Remote', 'O'), ('Utilities', 'O'), ('(', 'O'), ('RU', 'O'), (')', 'O'), ('Server', 'O'), ('.', '<end>'), ('<end>', '<end>')]\n",
      "Processed: RMS allows them to configure their own Remote Utilities ( RU ) Server .\n",
      "Predictions: ['<start>', 'O', 'O', 'O', 'O', 'O', 'O', 'O', 'O', 'O', 'O', 'O', 'O', 'O', '<end>', '<end>']\n",
      "\n",
      "Debug - Tokens: ['<', 'start', '>', 'this', 'command', 'dump', '##s', 'the', 'ex', '##tens', '##ible', 'storage', 'engine', '(', 'es', '##e', ')', 'database', 'format', '.', '<', 'end', '>']\n",
      "Debug - Raw predicted tags: ['<start>', '<start>', '<start>', 'O', 'O', 'O', 'O', 'O', 'O', 'O', 'O', 'O', 'O', 'O', 'O', 'O', 'O', 'O', 'O', 'O', '<end>', '<end>', '<end>']\n",
      "Debug - Aligned result: [('<start>', '<start>'), ('This', 'O'), ('command', 'O'), ('dumps', 'O'), ('the', 'O'), ('Extensible', 'O'), ('Storage', 'O'), ('Engine', 'O'), ('(', 'O'), ('ESE', 'O'), (')', 'O'), ('database', 'O'), ('format', 'O'), ('.', '<end>'), ('<end>', '<end>')]\n",
      "Processed: This command dumps the Extensible Storage Engine ( ESE ) database format .\n",
      "Predictions: ['<start>', 'O', 'O', 'O', 'O', 'O', 'O', 'O', 'O', 'O', 'O', 'O', 'O', '<end>', '<end>']\n",
      "\n",
      "Debug - Tokens: ['<', 'start', '>', 'it', 'uses', 'a', 'cipher', '##text', 'policy', 'attribute', 'based', 'encryption', '(', 'cp', '-', 'abe', ')', 'schemes', '.', '<', 'end', '>']\n",
      "Debug - Raw predicted tags: ['<start>', '<start>', '<start>', 'O', 'O', 'O', 'O', 'O', 'O', 'O', 'O', 'O', 'O', 'O', 'O', 'O', 'O', 'O', 'O', '<end>', '<end>', '<end>']\n",
      "Debug - Aligned result: [('<start>', '<start>'), ('It', 'O'), ('uses', 'O'), ('a', 'O'), ('ciphertext', 'O'), ('policy', 'O'), ('attribute', 'O'), ('based', 'O'), ('encryption', 'O'), ('(', 'O'), ('CP-ABE', 'O'), (')', 'O'), ('schemes', 'O'), ('.', '<end>'), ('<end>', '<end>')]\n",
      "Processed: It uses a ciphertext policy attribute based encryption ( CP-ABE ) schemes .\n",
      "Predictions: ['<start>', 'O', 'O', 'O', 'O', 'O', 'O', 'O', 'O', 'O', 'O', 'O', 'O', '<end>', '<end>']\n",
      "\n",
      "Debug - Tokens: ['<', 'start', '>', 'we', 'expanded', 'the', 'hardware', '-', 'in', '-', 'the', '-', 'loop', '(', 'hai', ')', 'based', 'augmented', 'ic', '##s', 'test', '##bed', '.', '<', 'end', '>']\n",
      "Debug - Raw predicted tags: ['<start>', '<start>', '<start>', 'O', 'O', 'O', 'O', 'O', 'O', 'O', 'O', 'O', 'O', 'O', 'O', 'O', 'O', 'O', 'O', 'O', 'O', 'O', 'O', '<end>', '<end>', '<end>']\n",
      "Debug - Aligned result: [('<start>', '<start>'), ('we', 'O'), ('expanded', 'O'), ('the', 'O'), ('hardware-in-the-loop', 'O'), ('(', 'O'), ('HAI', 'O'), (')', 'O'), ('based', 'O'), ('augmented', 'O'), ('ICS', 'O'), ('testbed', 'O'), ('.', '<end>'), ('<end>', '<end>')]\n",
      "Processed: we expanded the hardware-in-the-loop ( HAI ) based augmented ICS  testbed .\n",
      "Predictions: ['<start>', 'O', 'O', 'O', 'O', 'O', 'O', 'O', 'O', 'O', 'O', 'O', '<end>', '<end>']\n",
      "\n",
      "Debug - Tokens: ['<', 'start', '>', 'user', 'acceptance', 'test', '(', 'ua', '##t', ')', 'is', 'one', 'of', 'the', 'stages', 'of', 'software', 'development', '.', '<', 'end', '>']\n",
      "Debug - Raw predicted tags: ['<start>', '<start>', '<start>', 'O', 'O', 'O', 'O', 'O', 'O', 'O', 'O', 'O', 'O', 'O', 'O', 'O', 'O', 'O', 'O', '<end>', '<end>', '<end>']\n",
      "Debug - Aligned result: [('<start>', '<start>'), ('User', 'O'), ('Acceptance', 'O'), ('Test', 'O'), ('(', 'O'), ('UAT', 'O'), (')', 'O'), ('is', 'O'), ('one', 'O'), ('of', 'O'), ('the', 'O'), ('stages', 'O'), ('of', 'O'), ('software', 'O'), ('development', 'O'), ('.', '<end>'), ('<end>', '<end>')]\n",
      "Processed: User Acceptance Test ( UAT ) is one of the stages of software development .\n",
      "Predictions: ['<start>', 'O', 'O', 'O', 'O', 'O', 'O', 'O', 'O', 'O', 'O', 'O', 'O', 'O', 'O', '<end>', '<end>']\n",
      "\n",
      "Debug - Tokens: ['<', 'start', '>', 'tangle', 'currently', 'employs', 'a', 'marko', '##v', 'chain', 'monte', 'carlo', '(', 'mc', '##mc', ')', 'based', 'scheme', '.', '<', 'end', '>']\n",
      "Debug - Raw predicted tags: ['<start>', '<start>', '<start>', 'B-Malware', 'O', 'O', 'O', 'O', 'O', 'O', 'O', 'O', 'O', 'O', 'O', 'O', 'O', 'O', 'O', '<end>', '<end>', '<end>']\n",
      "Debug - Aligned result: [('<start>', '<start>'), ('Tangle', 'O'), ('currently', 'O'), ('employs', 'O'), ('a', 'O'), ('Markov', 'O'), ('chain', 'O'), ('Monte', 'O'), ('Carlo', 'O'), ('(', 'O'), ('MCMC', 'O'), (')', 'O'), ('based', 'O'), ('scheme', 'O'), ('.', '<end>'), ('<end>', '<end>')]\n",
      "Processed: Tangle currently employs a Markov chain Monte Carlo ( MCMC ) based scheme .\n",
      "Predictions: ['<start>', 'O', 'O', 'O', 'O', 'O', 'O', 'O', 'O', 'O', 'O', 'O', 'O', 'O', '<end>', '<end>']\n",
      "\n",
      "Debug - Tokens: ['<', 'start', '>', 'attention', 'should', 'turn', 'to', 'a', 'concept', 'called', 'key', 'leader', 'enhancement', '(', 'k', '##len', ')', '.', '<', 'end', '>']\n",
      "Debug - Raw predicted tags: ['<start>', '<start>', '<start>', 'O', 'O', 'O', 'O', 'O', 'O', 'O', 'O', 'O', 'O', 'O', 'O', 'O', 'O', 'O', '<end>', '<end>', '<end>']\n",
      "Debug - Aligned result: [('<start>', '<start>'), ('attention', 'O'), ('should', 'O'), ('turn', 'O'), ('to', 'O'), ('a', 'O'), ('concept', 'O'), ('called', 'O'), ('Key', 'O'), ('Leader', 'O'), ('Enhancement', 'O'), ('(', 'O'), ('KLEN', 'O'), (')', 'O'), ('.', '<end>'), ('<end>', '<end>')]\n",
      "Processed: attention should turn to a concept called Key Leader Enhancement  ( KLEN ) .\n",
      "Predictions: ['<start>', 'O', 'O', 'O', 'O', 'O', 'O', 'O', 'O', 'O', 'O', 'O', 'O', 'O', '<end>', '<end>']\n",
      "\n",
      "Debug - Tokens: ['<', 'start', '>', 'the', 'risk', 'reduction', 'factor', '(', 'rr', '##f', ')', 'required', 'to', 'meet', 'the', 'to', '##ler', '##able', 'risk', 'level', '.', '<', 'end', '>']\n",
      "Debug - Raw predicted tags: ['<start>', '<start>', '<start>', 'O', 'O', 'O', 'O', 'O', 'O', 'O', 'O', 'O', 'O', 'O', 'O', 'O', 'O', 'O', 'O', 'O', 'O', '<end>', '<end>', '<end>']\n",
      "Debug - Aligned result: [('<start>', '<start>'), ('the', 'O'), ('Risk', 'O'), ('Reduction', 'O'), ('Factor', 'O'), ('(', 'O'), ('RRF', 'O'), (')', 'O'), ('required', 'O'), ('to', 'O'), ('meet', 'O'), ('the', 'O'), ('tolerable', 'O'), ('risk', 'O'), ('level', 'O'), ('.', '<end>'), ('<end>', '<end>')]\n",
      "Processed: the Risk Reduction Factor ( RRF ) required to meet the tolerable risk level .\n",
      "Predictions: ['<start>', 'O', 'O', 'O', 'O', 'O', 'O', 'O', 'O', 'O', 'O', 'O', 'O', 'O', 'O', '<end>', '<end>']\n",
      "\n",
      "Debug - Tokens: ['<', 'start', '>', 'bit', '##co', '##ins', 'uses', 'practical', 'byzantine', 'fault', 'tolerant', '(', 'p', '##bf', '##t', ')', 'consensus', 'protocol', '.', '<', 'end', '>']\n",
      "Debug - Raw predicted tags: ['<start>', '<start>', '<start>', 'B-System', 'B-System', 'B-System', 'O', 'O', 'O', 'O', 'O', 'O', 'O', 'O', 'O', 'O', 'O', 'O', 'O', '<end>', '<end>', '<end>']\n",
      "Debug - Aligned result: [('<start>', '<start>'), ('Bitcoins', 'B-System'), ('uses', 'O'), ('practical', 'O'), ('Byzantine', 'O'), ('fault', 'O'), ('tolerant', 'O'), ('(', 'O'), ('PBFT', 'O'), (')', 'O'), ('consensus', 'O'), ('protocol', 'O'), ('.', '<end>'), ('<end>', '<end>')]\n",
      "Processed: Bitcoins uses practical Byzantine fault tolerant ( PBFT ) consensus protocol .\n",
      "Predictions: ['<start>', 'B-System', 'O', 'O', 'O', 'O', 'O', 'O', 'O', 'O', 'O', 'O', '<end>', '<end>']\n",
      "\n",
      "Debug - Tokens: ['<', 'start', '>', 'the', 'convergence', 'of', 'operational', 'technology', '(', 'ot', ')', 'and', 'information', 'technology', '(', 'it', ')', 'systems', 'in', 'critical', 'infrastructure', 'creates', 'new', 'cyber', '##se', '##cu', '##rity', 'challenges', 'that', 'require', 'specialized', 'defenses', '.', '<', 'end', '>']\n",
      "Debug - Raw predicted tags: ['<start>', '<start>', '<start>', 'O', 'O', 'O', 'O', 'O', 'O', 'O', 'O', 'O', 'O', 'O', 'O', 'O', 'O', 'O', 'O', 'O', 'O', 'O', 'O', 'O', 'O', 'O', 'O', 'O', 'O', 'O', 'O', 'O', 'O', '<end>', '<end>', '<end>']\n",
      "Debug - Aligned result: [('<start>', '<start>'), ('The', 'O'), ('convergence', 'O'), ('of', 'O'), ('operational', 'O'), ('technology', 'O'), ('(OT)', 'O'), ('and', 'O'), ('information', 'O'), ('technology', 'O'), ('(IT)', 'O'), ('systems', 'O'), ('in', 'O'), ('critical', 'O'), ('infrastructure', 'O'), ('creates', 'O'), ('new', 'O'), ('cybersecurity', 'O'), ('challenges', 'O'), ('that', 'O'), ('require', 'O'), ('specialized', 'O'), ('defenses.', 'O'), ('<end>', '<end>')]\n",
      "Processed: The convergence of operational technology (OT) and information technology (IT) systems in critical infrastructure creates new cybersecurity challenges that require specialized defenses.\n",
      "Predictions: ['<start>', 'O', 'O', 'O', 'O', 'O', 'O', 'O', 'O', 'O', 'O', 'O', 'O', 'O', 'O', 'O', 'O', 'O', 'O', 'O', 'O', 'O', 'O', '<end>']\n",
      "\n",
      "Debug - Tokens: ['<', 'start', '>', 'critical', 'infrastructure', 'sectors', 'are', 'increasingly', 'relying', 'on', 'digital', 'technologies', ',', 'making', 'them', 'more', 'susceptible', 'to', 'cyber', 'intrusion', '##s', 'and', 'attacks', '.', '<', 'end', '>']\n",
      "Debug - Raw predicted tags: ['<start>', '<start>', '<start>', 'O', 'O', 'O', 'O', 'O', 'O', 'O', 'O', 'O', 'O', 'O', 'O', 'O', 'O', 'O', 'O', 'O', 'O', 'O', 'O', 'O', '<end>', '<end>', '<end>']\n",
      "Debug - Aligned result: [('<start>', '<start>'), ('Critical', 'O'), ('infrastructure', 'O'), ('sectors', 'O'), ('are', 'O'), ('increasingly', 'O'), ('relying', 'O'), ('on', 'O'), ('digital', 'O'), ('technologies,', 'O'), ('making', 'O'), ('them', 'O'), ('more', 'O'), ('susceptible', 'O'), ('to', 'O'), ('cyber', 'O'), ('intrusions', 'O'), ('and', 'O'), ('attacks.', 'O'), ('<end>', '<end>')]\n",
      "Processed: Critical infrastructure sectors are increasingly relying on digital technologies, making them more susceptible to cyber intrusions and attacks.\n",
      "Predictions: ['<start>', 'O', 'O', 'O', 'O', 'O', 'O', 'O', 'O', 'O', 'O', 'O', 'O', 'O', 'O', 'O', 'O', 'O', 'O', '<end>']\n",
      "\n",
      "Debug - Tokens: ['<', 'start', '>', 'cyber', '##se', '##cu', '##rity', 'measures', 'for', 'critical', 'infrastructure', 'must', 'be', 'robust', 'to', 'protect', 'against', 'threats', 'such', 'as', 'ransom', '##ware', 'and', 'advanced', 'persistent', 'threats', '(', 'apt', '##s', ')', '.', '<', 'end', '>']\n",
      "Debug - Raw predicted tags: ['<start>', '<start>', '<start>', 'O', 'O', 'O', 'O', 'O', 'O', 'O', 'O', 'O', 'O', 'O', 'O', 'O', 'O', 'O', 'O', 'O', 'O', 'O', 'O', 'O', 'O', 'O', 'O', 'O', 'O', 'O', 'O', '<end>', '<end>', '<end>']\n",
      "Debug - Aligned result: [('<start>', '<start>'), ('Cybersecurity', 'O'), ('measures', 'O'), ('for', 'O'), ('critical', 'O'), ('infrastructure', 'O'), ('must', 'O'), ('be', 'O'), ('robust', 'O'), ('to', 'O'), ('protect', 'O'), ('against', 'O'), ('threats', 'O'), ('such', 'O'), ('as', 'O'), ('ransomware', 'O'), ('and', 'O'), ('advanced', 'O'), ('persistent', 'O'), ('threats', 'O'), ('(APTs).', 'O'), ('<end>', '<end>')]\n",
      "Processed: Cybersecurity measures for critical infrastructure must be robust to protect against threats such as ransomware and advanced persistent threats (APTs).\n",
      "Predictions: ['<start>', 'O', 'O', 'O', 'O', 'O', 'O', 'O', 'O', 'O', 'O', 'O', 'O', 'O', 'O', 'O', 'O', 'O', 'O', 'O', 'O', '<end>']\n",
      "\n",
      "Debug - Tokens: ['<', 'start', '>', 'ic', '##s', 'environments', 'often', 'include', 'supervisory', 'control', 'and', 'data', 'acquisition', '(', 'sc', '##ada', ')', 'systems', ',', 'program', '##mable', 'logic', 'controllers', '(', 'plc', '##s', ')', ',', 'and', 'distributed', 'control', 'systems', '(', 'dc', '##s', ')', '.', '\"', '<', 'end', '>']\n",
      "Debug - Raw predicted tags: ['<start>', '<start>', '<start>', 'O', 'O', 'O', 'O', 'O', 'O', 'O', 'O', 'O', 'O', 'O', 'O', 'O', 'O', 'O', 'O', 'O', 'O', 'O', 'O', 'O', 'O', 'O', 'O', 'O', 'O', 'O', 'O', 'O', 'O', 'O', 'O', 'O', 'O', 'O', '<end>', '<end>', '<end>']\n",
      "Debug - Aligned result: [('<start>', '<start>'), ('ICS', 'O'), ('environments', 'O'), ('often', 'O'), ('include', 'O'), ('Supervisory', 'O'), ('Control', 'O'), ('and', 'O'), ('Data', 'O'), ('Acquisition', 'O'), ('(SCADA)', 'O'), ('systems,', 'O'), ('programmable', 'O'), ('logic', 'O'), ('controllers', 'O'), ('(PLCs),', 'O'), ('and', 'O'), ('distributed', 'O'), ('control', 'O'), ('systems', 'O'), ('(DCS).\"', 'O'), ('<end>', '<end>')]\n",
      "Processed: ICS environments often include Supervisory Control and Data Acquisition (SCADA) systems, programmable logic controllers (PLCs), and distributed control systems (DCS).\"\n",
      "Predictions: ['<start>', 'O', 'O', 'O', 'O', 'O', 'O', 'O', 'O', 'O', 'O', 'O', 'O', 'O', 'O', 'O', 'O', 'O', 'O', 'O', 'O', '<end>']\n",
      "\n",
      "Debug - Tokens: ['<', 'start', '>', 'protecting', 'ic', '##s', 'from', 'cyber', '##att', '##ack', '##s', 'is', 'challenging', 'due', 'to', 'the', 'convergence', 'of', 'operational', 'technology', '(', 'ot', ')', 'and', 'information', 'technology', '(', 'it', ')', 'networks', '.', '<', 'end', '>']\n",
      "Debug - Raw predicted tags: ['<start>', '<start>', '<start>', 'O', 'O', 'O', 'O', 'O', 'O', 'O', 'O', 'O', 'O', 'O', 'O', 'O', 'O', 'O', 'O', 'O', 'O', 'O', 'O', 'O', 'O', 'O', 'O', 'O', 'O', 'O', 'O', '<end>', '<end>', '<end>']\n",
      "Debug - Aligned result: [('<start>', '<start>'), ('Protecting', 'O'), ('ICS', 'O'), ('from', 'O'), ('cyberattacks', 'O'), ('is', 'O'), ('challenging', 'O'), ('due', 'O'), ('to', 'O'), ('the', 'O'), ('convergence', 'O'), ('of', 'O'), ('operational', 'O'), ('technology', 'O'), ('(OT)', 'O'), ('and', 'O'), ('information', 'O'), ('technology', 'O'), ('(IT)', 'O'), ('networks.', 'O'), ('<end>', '<end>')]\n",
      "Processed: Protecting ICS from cyberattacks is challenging due to the convergence of operational technology (OT) and information technology (IT) networks.\n",
      "Predictions: ['<start>', 'O', 'O', 'O', 'O', 'O', 'O', 'O', 'O', 'O', 'O', 'O', 'O', 'O', 'O', 'O', 'O', 'O', 'O', 'O', '<end>']\n",
      "\n",
      "Debug - Tokens: ['<', 'start', '>', 'nuclear', 'power', 'plants', 'rely', 'on', 'ic', '##s', 'for', 'real', '-', 'time', 'monitoring', 'and', 'control', 'of', 'reactors', ',', 'cooling', 'systems', ',', 'and', 'safety', 'mechanisms', ',', 'making', 'ic', '##s', 'res', '##ili', '##ence', 'crucial', 'for', 'preventing', 'potential', 'disasters', '.', '<', 'end', '>']\n",
      "Debug - Raw predicted tags: ['<start>', '<start>', '<start>', 'O', 'O', 'O', 'O', 'O', 'O', 'O', 'O', 'O', 'O', 'O', 'O', 'O', 'O', 'O', 'O', 'O', 'O', 'O', 'O', 'O', 'O', 'O', 'O', 'O', 'O', 'O', 'O', 'O', 'O', 'O', 'O', 'O', 'O', 'O', 'O', '<end>', '<end>', '<end>']\n",
      "Debug - Aligned result: [('<start>', '<start>'), ('Nuclear', 'O'), ('power', 'O'), ('plants', 'O'), ('rely', 'O'), ('on', 'O'), ('ICS', 'O'), ('for', 'O'), ('real-time', 'O'), ('monitoring', 'O'), ('and', 'O'), ('control', 'O'), ('of', 'O'), ('reactors,', 'O'), ('cooling', 'O'), ('systems,', 'O'), ('and', 'O'), ('safety', 'O'), ('mechanisms,', 'O'), ('making', 'O'), ('ICS', 'O'), ('resilience', 'O'), ('crucial', 'O'), ('for', 'O'), ('preventing', 'O'), ('potential', 'O'), ('disasters.', 'O'), ('<end>', '<end>')]\n",
      "Processed: Nuclear power plants rely on ICS for real-time monitoring and control of reactors, cooling systems, and safety mechanisms, making ICS resilience crucial for preventing potential disasters.\n",
      "Predictions: ['<start>', 'O', 'O', 'O', 'O', 'O', 'O', 'O', 'O', 'O', 'O', 'O', 'O', 'O', 'O', 'O', 'O', 'O', 'O', 'O', 'O', 'O', 'O', 'O', 'O', 'O', 'O', '<end>']\n",
      "\n",
      "Debug - Tokens: ['<', 'start', '>', 'industrial', 'control', 'systems', '(', 'ic', '##s', ')', 'play', 'a', 'critical', 'role', 'in', 'managing', 'the', 'operations', 'of', 'nuclear', 'power', 'plants', ',', 'ensuring', 'the', 'safe', 'and', 'efficient', 'generation', 'of', 'electricity', '.', '<', 'end', '>']\n",
      "Debug - Raw predicted tags: ['<start>', '<start>', '<start>', 'O', 'O', 'O', 'O', 'O', 'O', 'O', 'O', 'O', 'O', 'O', 'O', 'O', 'O', 'O', 'O', 'O', 'O', 'O', 'O', 'O', 'O', 'O', 'O', 'O', 'O', 'O', 'O', 'O', '<end>', '<end>', '<end>']\n",
      "Debug - Aligned result: [('<start>', '<start>'), ('Industrial', 'O'), ('Control', 'O'), ('Systems', 'O'), ('(ICS)', 'O'), ('play', 'O'), ('a', 'O'), ('critical', 'O'), ('role', 'O'), ('in', 'O'), ('managing', 'O'), ('the', 'O'), ('operations', 'O'), ('of', 'O'), ('nuclear', 'O'), ('power', 'O'), ('plants,', 'O'), ('ensuring', 'O'), ('the', 'O'), ('safe', 'O'), ('and', 'O'), ('efficient', 'O'), ('generation', 'O'), ('of', 'O'), ('electricity.', 'O'), ('<end>', '<end>')]\n",
      "Processed: Industrial Control Systems (ICS) play a critical role in managing the operations of nuclear power plants, ensuring the safe and efficient generation of electricity.\n",
      "Predictions: ['<start>', 'O', 'O', 'O', 'O', 'O', 'O', 'O', 'O', 'O', 'O', 'O', 'O', 'O', 'O', 'O', 'O', 'O', 'O', 'O', 'O', 'O', 'O', 'O', 'O', '<end>']\n",
      "\n",
      "Debug - Tokens: ['<', 'start', '>', 'the', 'healthcare', 'sector', ',', 'considered', 'critical', 'infrastructure', ',', 'uses', 'ic', '##s', 'to', 'control', 'medical', 'devices', 'and', 'hospital', 'systems', ',', 'under', '##sco', '##ring', 'the', 'importance', 'of', 'securing', 'ic', '##s', 'against', 'cyber', '##att', '##ack', '##s', 'that', 'could', 'affect', 'patient', 'care', '.', '<', 'end', '>']\n",
      "Debug - Raw predicted tags: ['<start>', '<start>', '<start>', 'O', 'O', 'O', 'O', 'O', 'O', 'O', 'O', 'O', 'O', 'O', 'O', 'O', 'O', 'O', 'O', 'O', 'O', 'O', 'O', 'O', 'O', 'O', 'O', 'O', 'O', 'O', 'O', 'O', 'O', 'O', 'O', 'O', 'O', 'O', 'O', 'O', 'O', 'O', '<end>', '<end>', '<end>']\n",
      "Debug - Aligned result: [('<start>', '<start>'), ('The', 'O'), ('healthcare', 'O'), ('sector,', 'O'), ('considered', 'O'), ('critical', 'O'), ('infrastructure,', 'O'), ('uses', 'O'), ('ICS', 'O'), ('to', 'O'), ('control', 'O'), ('medical', 'O'), ('devices', 'O'), ('and', 'O'), ('hospital', 'O'), ('systems,', 'O'), ('underscoring', 'O'), ('the', 'O'), ('importance', 'O'), ('of', 'O'), ('securing', 'O'), ('ICS', 'O'), ('against', 'O'), ('cyberattacks', 'O'), ('that', 'O'), ('could', 'O'), ('affect', 'O'), ('patient', 'O'), ('care.', 'O'), ('<end>', '<end>')]\n",
      "Processed: The healthcare sector, considered critical infrastructure, uses ICS to control medical devices and hospital systems, underscoring the importance of securing ICS against cyberattacks that could affect patient care.\n",
      "Predictions: ['<start>', 'O', 'O', 'O', 'O', 'O', 'O', 'O', 'O', 'O', 'O', 'O', 'O', 'O', 'O', 'O', 'O', 'O', 'O', 'O', 'O', 'O', 'O', 'O', 'O', 'O', 'O', 'O', 'O', '<end>']\n",
      "\n",
      "Debug - Tokens: ['<', 'start', '>', 'the', 'human', '-', 'machine', 'interface', '(', 'hm', '##i', ')', 'allows', 'operators', 'to', 'interact', 'with', 'ic', '##s', 'components', 'like', 'plc', '##s', 'and', 'sc', '##ada', 'systems', ',', 'providing', 'visual', 'feedback', 'on', 'industrial', 'processes', 'and', 'enabling', 'manual', 'control', 'when', 'necessary', '.', '<', 'end', '>']\n",
      "Debug - Raw predicted tags: ['<start>', '<start>', '<start>', 'O', 'O', 'O', 'O', 'O', 'O', 'O', 'O', 'O', 'O', 'O', 'O', 'O', 'O', 'O', 'O', 'O', 'O', 'O', 'O', 'O', 'O', 'O', 'O', 'O', 'O', 'O', 'O', 'O', 'O', 'O', 'O', 'O', 'O', 'O', 'O', 'O', 'O', '<end>', '<end>', '<end>']\n",
      "Debug - Aligned result: [('<start>', '<start>'), ('The', 'O'), ('Human-Machine', 'O'), ('Interface', 'O'), ('(HMI)', 'O'), ('allows', 'O'), ('operators', 'O'), ('to', 'O'), ('interact', 'O'), ('with', 'O'), ('ICS', 'O'), ('components', 'O'), ('like', 'O'), ('PLCs', 'O'), ('and', 'O'), ('SCADA', 'O'), ('systems,', 'O'), ('providing', 'O'), ('visual', 'O'), ('feedback', 'O'), ('on', 'O'), ('industrial', 'O'), ('processes', 'O'), ('and', 'O'), ('enabling', 'O'), ('manual', 'O'), ('control', 'O'), ('when', 'O'), ('necessary.', 'O'), ('<end>', '<end>')]\n",
      "Processed: The Human-Machine Interface (HMI) allows operators to interact with ICS components like PLCs and SCADA systems, providing visual feedback on industrial processes and enabling manual control when necessary.\n",
      "Predictions: ['<start>', 'O', 'O', 'O', 'O', 'O', 'O', 'O', 'O', 'O', 'O', 'O', 'O', 'O', 'O', 'O', 'O', 'O', 'O', 'O', 'O', 'O', 'O', 'O', 'O', 'O', 'O', 'O', 'O', '<end>']\n",
      "\n",
      "Debug - Tokens: ['<', 'start', '>', 'the', 'security', 'of', 'ic', '##s', 'in', 'critical', 'infrastructure', 'is', 'crucial', 'to', 'preventing', 'disruption', '##s', 'in', 'energy', 'supply', ',', 'as', 'power', 'plants', 'and', 'distribution', 'networks', 'depend', 'heavily', 'on', 'automated', 'control', 'systems', '.', '<', 'end', '>']\n",
      "Debug - Raw predicted tags: ['<start>', '<start>', '<start>', 'O', 'O', 'O', 'O', 'O', 'O', 'O', 'O', 'O', 'O', 'O', 'O', 'O', 'O', 'O', 'O', 'O', 'O', 'O', 'O', 'O', 'O', 'O', 'O', 'O', 'O', 'O', 'O', 'O', 'O', 'O', '<end>', '<end>', '<end>']\n",
      "Debug - Aligned result: [('<start>', '<start>'), ('The', 'O'), ('security', 'O'), ('of', 'O'), ('ICS', 'O'), ('in', 'O'), ('critical', 'O'), ('infrastructure', 'O'), ('is', 'O'), ('crucial', 'O'), ('to', 'O'), ('preventing', 'O'), ('disruptions', 'O'), ('in', 'O'), ('energy', 'O'), ('supply,', 'O'), ('as', 'O'), ('power', 'O'), ('plants', 'O'), ('and', 'O'), ('distribution', 'O'), ('networks', 'O'), ('depend', 'O'), ('heavily', 'O'), ('on', 'O'), ('automated', 'O'), ('control', 'O'), ('systems.', 'O'), ('<end>', '<end>')]\n",
      "Processed: The security of ICS in critical infrastructure is crucial to preventing disruptions in energy supply, as power plants and distribution networks depend heavily on automated control systems.\n",
      "Predictions: ['<start>', 'O', 'O', 'O', 'O', 'O', 'O', 'O', 'O', 'O', 'O', 'O', 'O', 'O', 'O', 'O', 'O', 'O', 'O', 'O', 'O', 'O', 'O', 'O', 'O', 'O', 'O', 'O', '<end>']\n",
      "\n",
      "Debug - Tokens: ['<', 'start', '>', 'sc', '##ada', 'systems', 'rely', 'on', 'communication', 'protocols', 'such', 'as', 'mod', '##bus', 'tc', '##p', '/', 'ip', ',', 'prof', '##ib', '##us', ',', 'and', 'ethernet', '/', 'ip', 'to', 'route', 'data', 'between', 'field', 'devices', 'and', 'control', 'centers', 'in', 'ic', '##s', 'environments', '.', '<', 'end', '>']\n",
      "Debug - Raw predicted tags: ['<start>', '<start>', '<start>', 'O', 'O', 'O', 'O', 'O', 'O', 'O', 'O', 'O', 'B-System', 'B-System', 'O', 'O', 'O', 'O', 'O', 'O', 'O', 'O', 'O', 'O', 'O', 'O', 'O', 'O', 'O', 'O', 'O', 'O', 'O', 'O', 'O', 'O', 'O', 'O', 'O', 'O', 'O', '<end>', '<end>', '<end>']\n",
      "Debug - Aligned result: [('<start>', '<start>'), ('SCADA', 'O'), ('systems', 'O'), ('rely', 'O'), ('on', 'O'), ('communication', 'O'), ('protocols', 'O'), ('such', 'O'), ('as', 'B-System'), ('Modbus', 'B-System'), ('TCP/IP,', 'O'), ('Profibus,', 'O'), ('and', 'O'), ('Ethernet/IP', 'O'), ('to', 'O'), ('route', 'O'), ('data', 'O'), ('between', 'O'), ('field', 'O'), ('devices', 'O'), ('and', 'O'), ('control', 'O'), ('centers', 'O'), ('in', 'O'), ('ICS', 'O'), ('environments.', 'O'), ('<end>', '<end>')]\n",
      "Processed: SCADA systems rely on communication protocols such as Modbus TCP/IP, Profibus, and Ethernet/IP to route data between field devices and control centers in ICS environments.\n",
      "Predictions: ['<start>', 'O', 'O', 'O', 'O', 'O', 'O', 'O', 'B-System', 'B-System', 'O', 'O', 'O', 'O', 'O', 'O', 'O', 'O', 'O', 'O', 'O', 'O', 'O', 'O', 'O', 'O', '<end>']\n",
      "\n",
      "Debug - Tokens: ['<', 'start', '>', 'ransom', '##ware', 'attacks', ',', 'like', 'the', 'one', 'on', 'colonial', 'pipeline', ',', 'can', 'cr', '##ip', '##ple', 'critical', 'infrastructure', 'by', 'locking', 'access', 'to', 'essential', 'systems', 'and', 'demanding', 'payment', 'to', 'restore', 'operations', '.', '<', 'end', '>']\n",
      "Debug - Raw predicted tags: ['<start>', '<start>', '<start>', 'O', 'O', 'O', 'O', 'O', 'O', 'O', 'O', 'O', 'O', 'O', 'O', 'O', 'O', 'O', 'O', 'O', 'O', 'O', 'O', 'O', 'O', 'O', 'O', 'O', 'O', 'O', 'O', 'O', 'O', '<end>', '<end>', '<end>']\n",
      "Debug - Aligned result: [('<start>', '<start>'), ('Ransomware', 'O'), ('attacks,', 'O'), ('like', 'O'), ('the', 'O'), ('one', 'O'), ('on', 'O'), ('Colonial', 'O'), ('Pipeline,', 'O'), ('can', 'O'), ('cripple', 'O'), ('critical', 'O'), ('infrastructure', 'O'), ('by', 'O'), ('locking', 'O'), ('access', 'O'), ('to', 'O'), ('essential', 'O'), ('systems', 'O'), ('and', 'O'), ('demanding', 'O'), ('payment', 'O'), ('to', 'O'), ('restore', 'O'), ('operations.', 'O'), ('<end>', '<end>')]\n",
      "Processed: Ransomware attacks, like the one on Colonial Pipeline, can cripple critical infrastructure by locking access to essential systems and demanding payment to restore operations.\n",
      "Predictions: ['<start>', 'O', 'O', 'O', 'O', 'O', 'O', 'O', 'O', 'O', 'O', 'O', 'O', 'O', 'O', 'O', 'O', 'O', 'O', 'O', 'O', 'O', 'O', 'O', 'O', '<end>']\n",
      "\n",
      "Debug - Tokens: ['<', 'start', '>', 'the', 'sham', '##oon', 'mal', '##ware', 'was', 'designed', 'to', 'wipe', 'data', 'from', 'critical', 'infrastructure', 'networks', 'in', 'the', 'middle', 'east', ',', 'causing', 'operational', 'disruption', '##s', 'and', 'long', '-', 'term', 'recovery', 'efforts', '.', '<', 'end', '>']\n",
      "Debug - Raw predicted tags: ['<start>', '<start>', '<start>', 'O', 'B-Malware', 'B-Malware', 'O', 'O', 'O', 'O', 'O', 'O', 'O', 'O', 'O', 'O', 'O', 'O', 'O', 'O', 'O', 'O', 'O', 'O', 'O', 'O', 'O', 'O', 'O', 'O', 'O', 'O', 'O', '<end>', '<end>', '<end>']\n",
      "Debug - Aligned result: [('<start>', '<start>'), ('The', 'B-Malware'), ('Shamoon', 'B-Malware'), ('malware', 'O'), ('was', 'O'), ('designed', 'O'), ('to', 'O'), ('wipe', 'O'), ('data', 'O'), ('from', 'O'), ('critical', 'O'), ('infrastructure', 'O'), ('networks', 'O'), ('in', 'O'), ('the', 'O'), ('Middle', 'O'), ('East,', 'O'), ('causing', 'O'), ('operational', 'O'), ('disruptions', 'O'), ('and', 'O'), ('long-term', 'O'), ('recovery', 'O'), ('efforts.', 'O'), ('<end>', '<end>')]\n",
      "Processed: The Shamoon malware was designed to wipe data from critical infrastructure networks in the Middle East, causing operational disruptions and long-term recovery efforts.\n",
      "Predictions: ['<start>', 'B-Malware', 'B-Malware', 'O', 'O', 'O', 'O', 'O', 'O', 'O', 'O', 'O', 'O', 'O', 'O', 'O', 'O', 'O', 'O', 'O', 'O', 'O', 'O', 'O', '<end>']\n",
      "\n",
      "Debug - Tokens: ['<', 'start', '>', 'critical', 'infrastructure', 'often', 'faces', 'distributed', 'denial', 'of', 'service', '(', 'dd', '##os', ')', 'attacks', ',', 'where', 'mal', '##ware', 'is', 'used', 'to', 'over', '##w', '##helm', 'network', 'systems', ',', 'rendering', 'essential', 'services', 'such', 'as', 'telecommunications', 'and', 'banking', 'in', '##oper', '##able', '.', '<', 'end', '>']\n",
      "Debug - Raw predicted tags: ['<start>', '<start>', '<start>', 'O', 'O', 'O', 'O', 'O', 'O', 'O', 'O', 'O', 'O', 'O', 'O', 'O', 'O', 'O', 'O', 'O', 'O', 'O', 'O', 'O', 'O', 'O', 'O', 'O', 'O', 'O', 'O', 'O', 'O', 'O', 'O', 'O', 'O', 'O', 'O', 'O', 'O', '<end>', '<end>', '<end>']\n",
      "Debug - Aligned result: [('<start>', '<start>'), ('Critical', 'O'), ('infrastructure', 'O'), ('often', 'O'), ('faces', 'O'), ('Distributed', 'O'), ('Denial', 'O'), ('of', 'O'), ('Service', 'O'), ('(DDoS)', 'O'), ('attacks,', 'O'), ('where', 'O'), ('malware', 'O'), ('is', 'O'), ('used', 'O'), ('to', 'O'), ('overwhelm', 'O'), ('network', 'O'), ('systems,', 'O'), ('rendering', 'O'), ('essential', 'O'), ('services', 'O'), ('such', 'O'), ('as', 'O'), ('telecommunications', 'O'), ('and', 'O'), ('banking', 'O'), ('inoperable.', 'O'), ('<end>', '<end>')]\n",
      "Processed: Critical infrastructure often faces Distributed Denial of Service (DDoS) attacks, where malware is used to overwhelm network systems, rendering essential services such as telecommunications and banking inoperable.\n",
      "Predictions: ['<start>', 'O', 'O', 'O', 'O', 'O', 'O', 'O', 'O', 'O', 'O', 'O', 'O', 'O', 'O', 'O', 'O', 'O', 'O', 'O', 'O', 'O', 'O', 'O', 'O', 'O', 'O', 'O', '<end>']\n",
      "\n",
      "Debug - Tokens: ['<', 'start', '>', 'mal', '##ware', 'targeting', 'critical', 'infrastructure', 'has', 'become', 'increasingly', 'sophisticated', ',', 'with', 'attacks', 'such', 'as', 'stu', '##x', '##net', 'designed', 'to', 'sabotage', 'industrial', 'control', 'systems', 'and', 'cause', 'physical', 'damage', 'to', 'essential', 'services', '.', '<', 'end', '>']\n",
      "Debug - Raw predicted tags: ['<start>', '<start>', '<start>', 'O', 'O', 'O', 'O', 'O', 'O', 'O', 'O', 'O', 'O', 'O', 'O', 'O', 'O', 'B-Malware', 'B-Malware', 'B-Malware', 'O', 'O', 'O', 'O', 'O', 'O', 'O', 'O', 'O', 'O', 'O', 'O', 'O', 'O', '<end>', '<end>', '<end>']\n",
      "Debug - Aligned result: [('<start>', '<start>'), ('Malware', 'O'), ('targeting', 'O'), ('critical', 'O'), ('infrastructure', 'O'), ('has', 'O'), ('become', 'O'), ('increasingly', 'O'), ('sophisticated,', 'O'), ('with', 'O'), ('attacks', 'O'), ('such', 'O'), ('as', 'B-Malware'), ('Stuxnet', 'B-Malware'), ('designed', 'O'), ('to', 'O'), ('sabotage', 'O'), ('industrial', 'O'), ('control', 'O'), ('systems', 'O'), ('and', 'O'), ('cause', 'O'), ('physical', 'O'), ('damage', 'O'), ('to', 'O'), ('essential', 'O'), ('services.', 'O'), ('<end>', '<end>')]\n",
      "Processed: Malware targeting critical infrastructure has become increasingly sophisticated, with attacks such as Stuxnet designed to sabotage industrial control systems and cause physical damage to essential services.\n",
      "Predictions: ['<start>', 'O', 'O', 'O', 'O', 'O', 'O', 'O', 'O', 'O', 'O', 'O', 'B-Malware', 'B-Malware', 'O', 'O', 'O', 'O', 'O', 'O', 'O', 'O', 'O', 'O', 'O', 'O', 'O', '<end>']\n",
      "\n",
      "Debug - Tokens: ['<', 'start', '>', 'the', 'black', '##ener', '##gy', 'mal', '##ware', 'was', 'used', 'in', 'a', 'cyber', '##att', '##ack', 'against', 'ukraine', '’', 's', 'power', 'grid', ',', 'demonstrating', 'the', 'potential', 'of', 'cyber', '##att', '##ack', '##s', 'to', 'cause', 'large', '-', 'scale', 'out', '##ages', 'in', 'critical', 'infrastructure', '.', '<', 'end', '>']\n",
      "Debug - Raw predicted tags: ['<start>', '<start>', '<start>', 'O', 'B-Malware', 'B-Malware', 'B-Malware', 'O', 'O', 'O', 'O', 'O', 'O', 'O', 'O', 'O', 'O', 'O', 'O', 'O', 'O', 'O', 'O', 'O', 'O', 'O', 'O', 'O', 'O', 'O', 'O', 'O', 'O', 'O', 'O', 'O', 'O', 'O', 'O', 'O', 'O', 'O', '<end>', '<end>', '<end>']\n",
      "Debug - Aligned result: [('<start>', '<start>'), ('The', 'B-Malware'), ('BlackEnergy', 'B-Malware'), ('malware', 'O'), ('was', 'O'), ('used', 'O'), ('in', 'O'), ('a', 'O'), ('cyberattack', 'O'), ('against', 'O'), ('Ukraine’s', 'O'), ('power', 'O'), ('grid,', 'O'), ('demonstrating', 'O'), ('the', 'O'), ('potential', 'O'), ('of', 'O'), ('cyberattacks', 'O'), ('to', 'O'), ('cause', 'O'), ('large-scale', 'O'), ('outages', 'O'), ('in', 'O'), ('critical', 'O'), ('infrastructure.', 'O'), ('<end>', '<end>')]\n",
      "Processed: The BlackEnergy malware was used in a cyberattack against Ukraine’s power grid, demonstrating the potential of cyberattacks to cause large-scale outages in critical infrastructure.\n",
      "Predictions: ['<start>', 'B-Malware', 'B-Malware', 'O', 'O', 'O', 'O', 'O', 'O', 'O', 'O', 'O', 'O', 'O', 'O', 'O', 'O', 'O', 'O', 'O', 'O', 'O', 'O', 'O', 'O', '<end>']\n",
      "\n",
      "Debug - Tokens: ['<', 'start', '>', 'tri', '##ton', 'mal', '##ware', 'was', 'specifically', 'designed', 'to', 'target', 'the', 'safety', 'systems', 'of', 'critical', 'infrastructure', ',', 'particularly', 'in', 'the', 'energy', 'sector', ',', 'aiming', 'to', 'di', '##sable', 'safety', 'controllers', 'in', 'industrial', 'plants', '.', '<', 'end', '>']\n",
      "Debug - Raw predicted tags: ['<start>', '<start>', '<start>', 'B-Malware', 'B-Malware', 'O', 'O', 'O', 'O', 'O', 'O', 'O', 'O', 'O', 'O', 'O', 'O', 'O', 'O', 'O', 'O', 'O', 'O', 'O', 'O', 'O', 'O', 'O', 'O', 'O', 'O', 'O', 'O', 'O', 'O', '<end>', '<end>', '<end>']\n",
      "Debug - Aligned result: [('<start>', '<start>'), ('Triton', 'B-Malware'), ('malware', 'O'), ('was', 'O'), ('specifically', 'O'), ('designed', 'O'), ('to', 'O'), ('target', 'O'), ('the', 'O'), ('safety', 'O'), ('systems', 'O'), ('of', 'O'), ('critical', 'O'), ('infrastructure,', 'O'), ('particularly', 'O'), ('in', 'O'), ('the', 'O'), ('energy', 'O'), ('sector,', 'O'), ('aiming', 'O'), ('to', 'O'), ('disable', 'O'), ('safety', 'O'), ('controllers', 'O'), ('in', 'O'), ('industrial', 'O'), ('plants.', 'O'), ('<end>', '<end>')]\n",
      "Processed: Triton malware was specifically designed to target the safety systems of critical infrastructure, particularly in the energy sector, aiming to disable safety controllers in industrial plants.\n",
      "Predictions: ['<start>', 'B-Malware', 'O', 'O', 'O', 'O', 'O', 'O', 'O', 'O', 'O', 'O', 'O', 'O', 'O', 'O', 'O', 'O', 'O', 'O', 'O', 'O', 'O', 'O', 'O', 'O', 'O', '<end>']\n",
      "\n",
      "Debug - Tokens: ['<', 'start', '>', 'advanced', 'persistent', 'threat', '(', 'apt', ')', 'groups', 'have', 'been', 'known', 'to', 'launch', 'cyber', '##att', '##ack', '##s', 'against', 'critical', 'infrastructure', 'sectors', ',', 'lever', '##aging', 'mal', '##ware', 'like', 'indus', '##tro', '##yer', 'to', 'disrupt', 'power', 'grid', '##s', 'and', 'other', 'vital', 'services', '.', '<', 'end', '>']\n",
      "Debug - Raw predicted tags: ['<start>', '<start>', '<start>', 'O', 'O', 'O', 'O', 'O', 'O', 'O', 'O', 'O', 'O', 'O', 'O', 'O', 'O', 'O', 'O', 'O', 'O', 'O', 'O', 'O', 'O', 'O', 'O', 'O', 'O', 'O', 'O', 'O', 'O', 'O', 'O', 'O', 'O', 'O', 'O', 'O', 'O', 'O', '<end>', '<end>', '<end>']\n",
      "Debug - Aligned result: [('<start>', '<start>'), ('Advanced', 'O'), ('Persistent', 'O'), ('Threat', 'O'), ('(APT)', 'O'), ('groups', 'O'), ('have', 'O'), ('been', 'O'), ('known', 'O'), ('to', 'O'), ('launch', 'O'), ('cyberattacks', 'O'), ('against', 'O'), ('critical', 'O'), ('infrastructure', 'O'), ('sectors,', 'O'), ('leveraging', 'O'), ('malware', 'O'), ('like', 'O'), ('Industroyer', 'O'), ('to', 'O'), ('disrupt', 'O'), ('power', 'O'), ('grids', 'O'), ('and', 'O'), ('other', 'O'), ('vital', 'O'), ('services.', 'O'), ('<end>', '<end>')]\n",
      "Processed: Advanced Persistent Threat (APT) groups have been known to launch cyberattacks against critical infrastructure sectors, leveraging malware like Industroyer to disrupt power grids and other vital services.\n",
      "Predictions: ['<start>', 'O', 'O', 'O', 'O', 'O', 'O', 'O', 'O', 'O', 'O', 'O', 'O', 'O', 'O', 'O', 'O', 'O', 'O', 'O', 'O', 'O', 'O', 'O', 'O', 'O', 'O', 'O', '<end>']\n",
      "\n",
      "Debug - Tokens: ['<', 'start', '>', 'the', 'national', 'institute', 'of', 'standards', 'and', 'technology', '(', 'ni', '##st', ')', 'provides', 'cyber', '##se', '##cu', '##rity', 'guidelines', 'for', 'industrial', 'control', 'systems', '(', 'ic', '##s', ')', 'through', 'its', 'ni', '##st', 'special', 'publication', '800', '-', '82', ',', 'which', 'outlines', 'best', 'practices', 'for', 'securing', 'ic', '##s', 'within', 'critical', 'infrastructure', '.', '<', 'end', '>']\n",
      "Debug - Raw predicted tags: ['<start>', '<start>', '<start>', 'O', 'O', 'O', 'O', 'O', 'O', 'O', 'O', 'O', 'O', 'O', 'O', 'O', 'O', 'O', 'O', 'O', 'O', 'O', 'O', 'O', 'O', 'O', 'O', 'O', 'O', 'O', 'B-Organization', 'B-Organization', 'O', 'O', 'B-Vulnerability', 'B-Vulnerability', 'B-Vulnerability', 'O', 'O', 'O', 'O', 'O', 'O', 'O', 'O', 'O', 'O', 'O', 'O', 'O', '<end>', '<end>', '<end>']\n",
      "Debug - Aligned result: [('<start>', '<start>'), ('The', 'O'), ('National', 'O'), ('Institute', 'O'), ('of', 'O'), ('Standards', 'O'), ('and', 'O'), ('Technology', 'O'), ('(NIST)', 'O'), ('provides', 'O'), ('cybersecurity', 'O'), ('guidelines', 'O'), ('for', 'O'), ('Industrial', 'O'), ('Control', 'O'), ('Systems', 'O'), ('(ICS)', 'O'), ('through', 'O'), ('its', 'B-Organization'), ('NIST', 'B-Organization'), ('Special', 'O'), ('Publication', 'B-Vulnerability'), ('800-82,', 'B-Vulnerability'), ('which', 'O'), ('outlines', 'O'), ('best', 'O'), ('practices', 'O'), ('for', 'O'), ('securing', 'O'), ('ICS', 'O'), ('within', 'O'), ('critical', 'O'), ('infrastructure.', 'O'), ('<end>', '<end>')]\n",
      "Processed: The National Institute of Standards and Technology (NIST) provides cybersecurity guidelines for Industrial Control Systems (ICS) through its NIST Special Publication 800-82, which outlines best practices for securing ICS within critical infrastructure.\n",
      "Predictions: ['<start>', 'O', 'O', 'O', 'O', 'O', 'O', 'O', 'O', 'O', 'O', 'O', 'O', 'O', 'O', 'O', 'O', 'O', 'B-Organization', 'B-Organization', 'O', 'B-Vulnerability', 'B-Vulnerability', 'O', 'O', 'O', 'O', 'O', 'O', 'O', 'O', 'O', 'O', '<end>']\n",
      "\n",
      "Debug - Tokens: ['<', 'start', '>', 'the', 'department', 'of', 'homeland', 'security', '(', 'dh', '##s', ')', 'plays', 'a', 'key', 'role', 'in', 'overseeing', 'cyber', '##se', '##cu', '##rity', 'for', 'critical', 'infrastructure', ',', 'with', 'its', 'cyber', '##se', '##cu', '##rity', 'and', 'infrastructure', 'security', 'agency', '(', 'cis', '##a', ')', 'responsible', 'for', 'developing', 'security', 'framework', '##s', 'for', 'ic', '##s', '.', '<', 'end', '>']\n",
      "Debug - Raw predicted tags: ['<start>', '<start>', '<start>', 'O', 'O', 'O', 'O', 'O', 'O', 'O', 'B-Organization', 'O', 'O', 'O', 'O', 'O', 'O', 'O', 'O', 'O', 'O', 'O', 'O', 'O', 'O', 'O', 'O', 'O', 'O', 'O', 'O', 'O', 'O', 'O', 'O', 'O', 'O', 'O', 'O', 'O', 'O', 'O', 'O', 'O', 'O', 'O', 'O', 'O', 'O', 'O', '<end>', '<end>', '<end>']\n",
      "Debug - Aligned result: [('<start>', '<start>'), ('The', 'O'), ('Department', 'O'), ('of', 'O'), ('Homeland', 'O'), ('Security', 'O'), ('(DHS)', 'O'), ('plays', 'O'), ('a', 'O'), ('key', 'O'), ('role', 'O'), ('in', 'O'), ('overseeing', 'O'), ('cybersecurity', 'O'), ('for', 'O'), ('critical', 'O'), ('infrastructure,', 'O'), ('with', 'O'), ('its', 'O'), ('Cybersecurity', 'O'), ('and', 'O'), ('Infrastructure', 'O'), ('Security', 'O'), ('Agency', 'O'), ('(CISA)', 'O'), ('responsible', 'O'), ('for', 'O'), ('developing', 'O'), ('security', 'O'), ('frameworks', 'O'), ('for', 'O'), ('ICS.', 'O'), ('<end>', '<end>')]\n",
      "Processed: The Department of Homeland Security (DHS) plays a key role in overseeing cybersecurity for critical infrastructure, with its Cybersecurity and Infrastructure Security Agency (CISA) responsible for developing security frameworks for ICS.\n",
      "Predictions: ['<start>', 'O', 'O', 'O', 'O', 'O', 'O', 'O', 'O', 'O', 'O', 'O', 'O', 'O', 'O', 'O', 'O', 'O', 'O', 'O', 'O', 'O', 'O', 'O', 'O', 'O', 'O', 'O', 'O', 'O', 'O', 'O', '<end>']\n",
      "\n",
      "Debug - Tokens: ['<', 'start', '>', 'the', 'north', 'american', 'electric', 'reliability', 'corporation', '(', 'ne', '##rc', ')', 'enforce', '##s', 'critical', 'infrastructure', 'protection', '(', 'ci', '##p', ')', 'standards', 'to', 'ensure', 'that', 'electric', 'utilities', 'and', 'grid', 'operators', 'implement', 'proper', 'security', 'measures', 'for', 'ic', '##s', '.', '<', 'end', '>']\n",
      "Debug - Raw predicted tags: ['<start>', '<start>', '<start>', 'O', 'O', 'B-System', 'I-System', 'I-System', 'I-System', 'O', 'O', 'O', 'O', 'O', 'O', 'O', 'O', 'O', 'O', 'O', 'O', 'O', 'O', 'O', 'O', 'O', 'O', 'O', 'O', 'O', 'O', 'O', 'O', 'O', 'O', 'O', 'O', 'O', 'O', '<end>', '<end>', '<end>']\n",
      "Debug - Aligned result: [('<start>', '<start>'), ('The', 'O'), ('North', 'B-System'), ('American', 'I-System'), ('Electric', 'I-System'), ('Reliability', 'I-System'), ('Corporation', 'O'), ('(NERC)', 'O'), ('enforces', 'O'), ('critical', 'O'), ('infrastructure', 'O'), ('protection', 'O'), ('(CIP)', 'O'), ('standards', 'O'), ('to', 'O'), ('ensure', 'O'), ('that', 'O'), ('electric', 'O'), ('utilities', 'O'), ('and', 'O'), ('grid', 'O'), ('operators', 'O'), ('implement', 'O'), ('proper', 'O'), ('security', 'O'), ('measures', 'O'), ('for', 'O'), ('ICS.', 'O'), ('<end>', '<end>')]\n",
      "Processed: The North American Electric Reliability Corporation (NERC) enforces critical infrastructure protection (CIP) standards to ensure that electric utilities and grid operators implement proper security measures for ICS.\n",
      "Predictions: ['<start>', 'O', 'B-System', 'I-System', 'I-System', 'I-System', 'O', 'O', 'O', 'O', 'O', 'O', 'O', 'O', 'O', 'O', 'O', 'O', 'O', 'O', 'O', 'O', 'O', 'O', 'O', 'O', 'O', 'O', '<end>']\n",
      "\n",
      "Debug - Tokens: ['<', 'start', '>', 'the', 'international', 'electro', '##tech', '##nical', 'commission', '(', 'iec', ')', 'publishes', 'the', 'iec', '62', '##44', '##3', 'series', 'of', 'standards', ',', 'which', 'provide', 'a', 'comprehensive', 'framework', 'for', 'securing', 'ic', '##s', 'components', 'and', 'networks', 'in', 'critical', 'infrastructure', 'environments', '.', '<', 'end', '>']\n",
      "Debug - Raw predicted tags: ['<start>', '<start>', '<start>', 'O', 'O', 'O', 'O', 'O', 'O', 'O', 'O', 'O', 'O', 'O', 'B-Indicator', 'B-Vulnerability', 'B-Vulnerability', 'I-Indicator', 'O', 'O', 'O', 'O', 'O', 'O', 'O', 'O', 'O', 'O', 'O', 'O', 'O', 'O', 'O', 'O', 'O', 'O', 'O', 'O', 'O', '<end>', '<end>', '<end>']\n",
      "Debug - Aligned result: [('<start>', '<start>'), ('The', 'O'), ('International', 'O'), ('Electrotechnical', 'O'), ('Commission', 'O'), ('(IEC)', 'O'), ('publishes', 'O'), ('the', 'B-Indicator'), ('IEC', 'B-Vulnerability'), ('62443', 'B-Vulnerability'), ('series', 'O'), ('of', 'O'), ('standards,', 'O'), ('which', 'O'), ('provide', 'O'), ('a', 'O'), ('comprehensive', 'O'), ('framework', 'O'), ('for', 'O'), ('securing', 'O'), ('ICS', 'O'), ('components', 'O'), ('and', 'O'), ('networks', 'O'), ('in', 'O'), ('critical', 'O'), ('infrastructure', 'O'), ('environments.', 'O'), ('<end>', '<end>')]\n",
      "Processed: The International Electrotechnical Commission (IEC) publishes the IEC 62443 series of standards, which provide a comprehensive framework for securing ICS components and networks in critical infrastructure environments.\n",
      "Predictions: ['<start>', 'O', 'O', 'O', 'O', 'O', 'O', 'B-Indicator', 'B-Vulnerability', 'B-Vulnerability', 'O', 'O', 'O', 'O', 'O', 'O', 'O', 'O', 'O', 'O', 'O', 'O', 'O', 'O', 'O', 'O', 'O', 'O', '<end>']\n",
      "\n",
      "Debug - Tokens: ['<', 'start', '>', 'in', 'the', 'european', 'union', ',', 'the', 'network', 'and', 'information', 'security', '(', 'ni', '##s', ')', 'directive', 'establishes', 'cyber', '##se', '##cu', '##rity', 'requirements', 'for', 'operators', 'of', 'essential', 'services', ',', 'including', 'ic', '##s', 'used', 'in', 'critical', 'infrastructure', 'sectors', 'like', 'energy', 'and', 'transportation', '.', '<', 'end', '>']\n",
      "Debug - Raw predicted tags: ['<start>', '<start>', '<start>', 'O', 'O', 'O', 'O', 'O', 'O', 'O', 'O', 'O', 'O', 'O', 'O', 'O', 'O', 'O', 'O', 'O', 'O', 'O', 'O', 'O', 'O', 'O', 'O', 'O', 'O', 'O', 'O', 'O', 'O', 'O', 'O', 'O', 'O', 'O', 'O', 'O', 'O', 'O', 'O', '<end>', '<end>', '<end>']\n",
      "Debug - Aligned result: [('<start>', '<start>'), ('In', 'O'), ('the', 'O'), ('European', 'O'), ('Union,', 'O'), ('the', 'O'), ('Network', 'O'), ('and', 'O'), ('Information', 'O'), ('Security', 'O'), ('(NIS)', 'O'), ('Directive', 'O'), ('establishes', 'O'), ('cybersecurity', 'O'), ('requirements', 'O'), ('for', 'O'), ('operators', 'O'), ('of', 'O'), ('essential', 'O'), ('services,', 'O'), ('including', 'O'), ('ICS', 'O'), ('used', 'O'), ('in', 'O'), ('critical', 'O'), ('infrastructure', 'O'), ('sectors', 'O'), ('like', 'O'), ('energy', 'O'), ('and', 'O'), ('transportation.', 'O'), ('<end>', '<end>')]\n",
      "Processed: In the European Union, the Network and Information Security (NIS) Directive establishes cybersecurity requirements for operators of essential services, including ICS used in critical infrastructure sectors like energy and transportation.\n",
      "Predictions: ['<start>', 'O', 'O', 'O', 'O', 'O', 'O', 'O', 'O', 'O', 'O', 'O', 'O', 'O', 'O', 'O', 'O', 'O', 'O', 'O', 'O', 'O', 'O', 'O', 'O', 'O', 'O', 'O', 'O', 'O', 'O', '<end>']\n",
      "\n",
      "Debug - Tokens: ['<', 'start', '>', 'the', 'federal', 'energy', 'regulatory', 'commission', '(', 'fe', '##rc', ')', 'works', 'alongside', 'ne', '##rc', 'to', 'establish', 'regulations', 'that', 'ensure', 'the', 'security', 'of', 'ic', '##s', 'in', 'the', 'energy', 'sector', ',', 'particularly', 'for', 'the', 'protection', 'of', 'power', 'generation', 'and', 'distribution', 'systems', '.', '<', 'end', '>']\n",
      "Debug - Raw predicted tags: ['<start>', '<start>', '<start>', 'O', 'O', 'O', 'O', 'O', 'O', 'O', 'O', 'O', 'O', 'O', 'O', 'O', 'O', 'O', 'O', 'O', 'O', 'O', 'O', 'O', 'O', 'O', 'O', 'O', 'O', 'O', 'O', 'O', 'O', 'O', 'O', 'O', 'O', 'O', 'O', 'O', 'O', 'O', '<end>', '<end>', '<end>']\n",
      "Debug - Aligned result: [('<start>', '<start>'), ('The', 'O'), ('Federal', 'O'), ('Energy', 'O'), ('Regulatory', 'O'), ('Commission', 'O'), ('(FERC)', 'O'), ('works', 'O'), ('alongside', 'O'), ('NERC', 'O'), ('to', 'O'), ('establish', 'O'), ('regulations', 'O'), ('that', 'O'), ('ensure', 'O'), ('the', 'O'), ('security', 'O'), ('of', 'O'), ('ICS', 'O'), ('in', 'O'), ('the', 'O'), ('energy', 'O'), ('sector,', 'O'), ('particularly', 'O'), ('for', 'O'), ('the', 'O'), ('protection', 'O'), ('of', 'O'), ('power', 'O'), ('generation', 'O'), ('and', 'O'), ('distribution', 'O'), ('systems.', 'O'), ('<end>', '<end>')]\n",
      "Processed: The Federal Energy Regulatory Commission (FERC) works alongside NERC to establish regulations that ensure the security of ICS in the energy sector, particularly for the protection of power generation and distribution systems.\n",
      "Predictions: ['<start>', 'O', 'O', 'O', 'O', 'O', 'O', 'O', 'O', 'O', 'O', 'O', 'O', 'O', 'O', 'O', 'O', 'O', 'O', 'O', 'O', 'O', 'O', 'O', 'O', 'O', 'O', 'O', 'O', 'O', 'O', 'O', 'O', '<end>']\n",
      "\n",
      "Debug - Tokens: ['<', 'start', '>', 'the', 'environmental', 'protection', 'agency', '(', 'epa', ')', 'is', 'responsible', 'for', 'developing', 'guidelines', 'to', 'secure', 'ic', '##s', 'within', 'the', 'water', 'and', 'wastewater', 'sectors', ',', 'ensuring', 'that', 'essential', 'services', 'are', 'protected', 'from', 'cyber', '##att', '##ack', '##s', '.', '<', 'end', '>']\n",
      "Debug - Raw predicted tags: ['<start>', '<start>', '<start>', 'O', 'O', 'O', 'I-Organization', 'O', 'O', 'O', 'O', 'O', 'O', 'O', 'O', 'O', 'O', 'O', 'O', 'O', 'O', 'O', 'O', 'O', 'O', 'O', 'O', 'O', 'O', 'O', 'O', 'O', 'O', 'O', 'O', 'O', 'O', 'O', '<end>', '<end>', '<end>']\n",
      "Debug - Aligned result: [('<start>', '<start>'), ('The', 'O'), ('Environmental', 'O'), ('Protection', 'I-Organization'), ('Agency', 'O'), ('(EPA)', 'O'), ('is', 'O'), ('responsible', 'O'), ('for', 'O'), ('developing', 'O'), ('guidelines', 'O'), ('to', 'O'), ('secure', 'O'), ('ICS', 'O'), ('within', 'O'), ('the', 'O'), ('water', 'O'), ('and', 'O'), ('wastewater', 'O'), ('sectors,', 'O'), ('ensuring', 'O'), ('that', 'O'), ('essential', 'O'), ('services', 'O'), ('are', 'O'), ('protected', 'O'), ('from', 'O'), ('cyberattacks.', 'O'), ('<end>', '<end>')]\n",
      "Processed: The Environmental Protection Agency (EPA) is responsible for developing guidelines to secure ICS within the water and wastewater sectors, ensuring that essential services are protected from cyberattacks.\n",
      "Predictions: ['<start>', 'O', 'O', 'I-Organization', 'O', 'O', 'O', 'O', 'O', 'O', 'O', 'O', 'O', 'O', 'O', 'O', 'O', 'O', 'O', 'O', 'O', 'O', 'O', 'O', 'O', 'O', 'O', 'O', '<end>']\n",
      "\n",
      "Debug - Tokens: ['<', 'start', '>', 'the', 'nuclear', 'regulatory', 'commission', '(', 'nr', '##c', ')', 'enforce', '##s', 'cyber', '##se', '##cu', '##rity', 'regulations', 'for', 'nuclear', 'power', 'plants', ',', 'requiring', 'that', 'ic', '##s', 'and', 'sc', '##ada', 'systems', 'within', 'the', 'plants', 'are', 'safeguard', '##ed', 'against', 'both', 'cyber', 'and', 'physical', 'threats', '<', 'end', '>']\n",
      "Debug - Raw predicted tags: ['<start>', '<start>', '<start>', 'O', 'O', 'O', 'O', 'O', 'O', 'O', 'O', 'O', 'O', 'O', 'O', 'O', 'O', 'O', 'O', 'O', 'O', 'O', 'O', 'O', 'O', 'O', 'O', 'O', 'O', 'O', 'O', 'O', 'O', 'O', 'O', 'O', 'O', 'O', 'O', 'O', 'O', 'O', 'O', '<end>', '<end>', '<end>']\n",
      "Debug - Aligned result: [('<start>', '<start>'), ('The', 'O'), ('Nuclear', 'O'), ('Regulatory', 'O'), ('Commission', 'O'), ('(NRC)', 'O'), ('enforces', 'O'), ('cybersecurity', 'O'), ('regulations', 'O'), ('for', 'O'), ('nuclear', 'O'), ('power', 'O'), ('plants,', 'O'), ('requiring', 'O'), ('that', 'O'), ('ICS', 'O'), ('and', 'O'), ('SCADA', 'O'), ('systems', 'O'), ('within', 'O'), ('the', 'O'), ('plants', 'O'), ('are', 'O'), ('safeguarded', 'O'), ('against', 'O'), ('both', 'O'), ('cyber', 'O'), ('and', 'O'), ('physical', 'O'), ('threats', '<end>'), ('<end>', '<end>')]\n",
      "Processed: The Nuclear Regulatory Commission (NRC) enforces cybersecurity regulations for nuclear power plants, requiring that ICS and SCADA systems within the plants are safeguarded against both cyber and physical threats\n",
      "Predictions: ['<start>', 'O', 'O', 'O', 'O', 'O', 'O', 'O', 'O', 'O', 'O', 'O', 'O', 'O', 'O', 'O', 'O', 'O', 'O', 'O', 'O', 'O', 'O', 'O', 'O', 'O', 'O', 'O', 'O', '<end>', '<end>']\n",
      "\n",
      "Debug - Tokens: ['<', 'start', '>', 'the', 'transportation', 'security', 'administration', '(', 'ts', '##a', ')', 'issues', 'cyber', '##se', '##cu', '##rity', 'guidelines', 'for', 'ic', '##s', 'within', 'the', 'transportation', 'sector', ',', 'including', 'pipeline', '##s', ',', 'aviation', ',', 'and', 'rail', 'systems', ',', 'to', 'enhance', 'the', 'res', '##ili', '##ence', 'of', 'critical', 'infrastructure', '.', '<', 'end', '>']\n",
      "Debug - Raw predicted tags: ['<start>', '<start>', '<start>', 'O', 'B-System', 'O', 'O', 'O', 'O', 'O', 'O', 'O', 'O', 'O', 'O', 'O', 'O', 'O', 'O', 'O', 'O', 'O', 'O', 'O', 'O', 'O', 'O', 'O', 'O', 'O', 'O', 'O', 'O', 'O', 'O', 'O', 'O', 'O', 'O', 'O', 'O', 'O', 'O', 'O', 'O', '<end>', '<end>', '<end>']\n",
      "Debug - Aligned result: [('<start>', '<start>'), ('The', 'B-System'), ('Transportation', 'O'), ('Security', 'O'), ('Administration', 'O'), ('(TSA)', 'O'), ('issues', 'O'), ('cybersecurity', 'O'), ('guidelines', 'O'), ('for', 'O'), ('ICS', 'O'), ('within', 'O'), ('the', 'O'), ('transportation', 'O'), ('sector,', 'O'), ('including', 'O'), ('pipelines,', 'O'), ('aviation,', 'O'), ('and', 'O'), ('rail', 'O'), ('systems,', 'O'), ('to', 'O'), ('enhance', 'O'), ('the', 'O'), ('resilience', 'O'), ('of', 'O'), ('critical', 'O'), ('infrastructure.', 'O'), ('<end>', '<end>')]\n",
      "Processed: The Transportation Security Administration (TSA) issues cybersecurity guidelines for ICS within the transportation sector, including pipelines, aviation, and rail systems, to enhance the resilience of critical infrastructure.\n",
      "Predictions: ['<start>', 'B-System', 'O', 'O', 'O', 'O', 'O', 'O', 'O', 'O', 'O', 'O', 'O', 'O', 'O', 'O', 'O', 'O', 'O', 'O', 'O', 'O', 'O', 'O', 'O', 'O', 'O', 'O', '<end>']\n",
      "\n",
      "Debug - Tokens: ['<', 'start', '>', 'the', 'cyber', '##se', '##cu', '##rity', 'information', 'sharing', 'act', '(', 'cis', '##a', ')', 'encourages', 'private', 'and', 'public', 'entities', ',', 'especially', 'those', 'in', 'critical', 'infrastructure', ',', 'to', 'share', 'threat', 'intelligence', 'to', 'better', 'protect', 'ic', '##s', 'from', 'cyber', 'threats', '.', '<', 'end', '>']\n",
      "Debug - Raw predicted tags: ['<start>', '<start>', '<start>', 'O', 'O', 'O', 'O', 'O', 'O', 'O', 'O', 'O', 'O', 'O', 'O', 'O', 'O', 'O', 'O', 'O', 'O', 'O', 'O', 'O', 'O', 'O', 'O', 'O', 'O', 'O', 'O', 'O', 'O', 'O', 'O', 'O', 'O', 'O', 'O', 'O', '<end>', '<end>', '<end>']\n",
      "Debug - Aligned result: [('<start>', '<start>'), ('The', 'O'), ('Cybersecurity', 'O'), ('Information', 'O'), ('Sharing', 'O'), ('Act', 'O'), ('(CISA)', 'O'), ('encourages', 'O'), ('private', 'O'), ('and', 'O'), ('public', 'O'), ('entities,', 'O'), ('especially', 'O'), ('those', 'O'), ('in', 'O'), ('critical', 'O'), ('infrastructure,', 'O'), ('to', 'O'), ('share', 'O'), ('threat', 'O'), ('intelligence', 'O'), ('to', 'O'), ('better', 'O'), ('protect', 'O'), ('ICS', 'O'), ('from', 'O'), ('cyber', 'O'), ('threats.', 'O'), ('<end>', '<end>')]\n",
      "Processed: The Cybersecurity Information Sharing Act (CISA) encourages private and public entities, especially those in critical infrastructure, to share threat intelligence to better protect ICS from cyber threats.\n",
      "Predictions: ['<start>', 'O', 'O', 'O', 'O', 'O', 'O', 'O', 'O', 'O', 'O', 'O', 'O', 'O', 'O', 'O', 'O', 'O', 'O', 'O', 'O', 'O', 'O', 'O', 'O', 'O', 'O', 'O', '<end>']\n",
      "\n",
      "Debug - Tokens: ['<', 'start', '>', '\"', 'in', 'the', 'united', 'states', ',', 'the', 'cyber', '##se', '##cu', '##rity', 'information', 'sharing', 'act', '(', 'cis', '##a', ')', 'facilitates', 'information', 'sharing', 'between', 'government', 'agencies', 'and', 'private', 'companies', 'in', 'critical', 'infrastructure', 'sectors', 'to', 'improve', 'cyber', '##se', '##cu', '##rity', 'defenses', '.', '<', 'end', '>']\n",
      "Debug - Raw predicted tags: ['<start>', '<start>', '<start>', 'O', 'O', 'O', 'O', 'O', 'O', 'O', 'O', 'O', 'O', 'O', 'O', 'O', 'O', 'O', 'O', 'O', 'O', 'O', 'O', 'O', 'O', 'O', 'O', 'O', 'O', 'O', 'O', 'O', 'O', 'O', 'O', 'O', 'O', 'O', 'O', 'O', 'O', 'O', '<end>', '<end>', '<end>']\n",
      "Debug - Aligned result: [('<start>', '<start>'), ('\"In', 'O'), ('the', 'O'), ('United', 'O'), ('States,', 'O'), ('the', 'O'), ('Cybersecurity', 'O'), ('Information', 'O'), ('Sharing', 'O'), ('Act', 'O'), ('(CISA)', 'O'), ('facilitates', 'O'), ('information', 'O'), ('sharing', 'O'), ('between', 'O'), ('government', 'O'), ('agencies', 'O'), ('and', 'O'), ('private', 'O'), ('companies', 'O'), ('in', 'O'), ('critical', 'O'), ('infrastructure', 'O'), ('sectors', 'O'), ('to', 'O'), ('improve', 'O'), ('cybersecurity', 'O'), ('defenses.', 'O'), ('<end>', '<end>')]\n",
      "Processed: \"In the United States, the Cybersecurity Information Sharing Act (CISA) facilitates information sharing between government agencies and private companies in critical infrastructure sectors to improve cybersecurity defenses.\n",
      "Predictions: ['<start>', 'O', 'O', 'O', 'O', 'O', 'O', 'O', 'O', 'O', 'O', 'O', 'O', 'O', 'O', 'O', 'O', 'O', 'O', 'O', 'O', 'O', 'O', 'O', 'O', 'O', 'O', 'O', '<end>']\n",
      "\n",
      "Debug - Tokens: ['<', 'start', '>', 'the', 'critical', 'infrastructure', 'protection', '(', 'ci', '##p', ')', 'standards', 'set', 'by', 'the', 'north', 'american', 'electric', 'reliability', 'corporation', '(', 'ne', '##rc', ')', 'ensure', 'that', 'organizations', 'within', 'the', 'electric', 'power', 'sector', 'follow', 'strict', 'cyber', '##se', '##cu', '##rity', 'protocols', 'to', 'protect', 'industrial', 'control', 'systems', '(', 'ic', '##s', ')', '.', '<', 'end', '>']\n",
      "Debug - Raw predicted tags: ['<start>', '<start>', '<start>', 'O', 'O', 'O', 'O', 'O', 'O', 'O', 'O', 'O', 'O', 'O', 'O', 'O', 'B-System', 'I-System', 'I-System', 'I-System', 'O', 'O', 'O', 'O', 'O', 'O', 'O', 'O', 'O', 'O', 'O', 'O', 'O', 'O', 'O', 'O', 'O', 'O', 'O', 'O', 'O', 'O', 'O', 'O', 'O', 'O', 'O', 'O', 'O', '<end>', '<end>', '<end>']\n",
      "Debug - Aligned result: [('<start>', '<start>'), ('The', 'O'), ('Critical', 'O'), ('Infrastructure', 'O'), ('Protection', 'O'), ('(CIP)', 'O'), ('standards', 'O'), ('set', 'O'), ('by', 'O'), ('the', 'O'), ('North', 'B-System'), ('American', 'I-System'), ('Electric', 'I-System'), ('Reliability', 'I-System'), ('Corporation', 'O'), ('(NERC)', 'O'), ('ensure', 'O'), ('that', 'O'), ('organizations', 'O'), ('within', 'O'), ('the', 'O'), ('electric', 'O'), ('power', 'O'), ('sector', 'O'), ('follow', 'O'), ('strict', 'O'), ('cybersecurity', 'O'), ('protocols', 'O'), ('to', 'O'), ('protect', 'O'), ('Industrial', 'O'), ('Control', 'O'), ('Systems', 'O'), ('(ICS).', 'O'), ('<end>', '<end>')]\n",
      "Processed: The Critical Infrastructure Protection (CIP) standards set by the North American Electric Reliability Corporation (NERC) ensure that organizations within the electric power sector follow strict cybersecurity protocols to protect Industrial Control Systems (ICS).\n",
      "Predictions: ['<start>', 'O', 'O', 'O', 'O', 'O', 'O', 'O', 'O', 'O', 'B-System', 'I-System', 'I-System', 'I-System', 'O', 'O', 'O', 'O', 'O', 'O', 'O', 'O', 'O', 'O', 'O', 'O', 'O', 'O', 'O', 'O', 'O', 'O', 'O', 'O', '<end>']\n",
      "\n",
      "Debug - Tokens: ['<', 'start', '>', 'the', 'national', 'cyber', '##se', '##cu', '##rity', 'protection', 'act', 'mandates', 'that', 'the', 'cyber', '##se', '##cu', '##rity', 'and', 'infrastructure', 'security', 'agency', '(', 'cis', '##a', ')', 'coordinates', 'efforts', 'to', 'secure', 'critical', 'infrastructure', 'from', 'cyber', 'threats', '.', '<', 'end', '>']\n",
      "Debug - Raw predicted tags: ['<start>', '<start>', '<start>', 'O', 'O', 'O', 'O', 'O', 'O', 'O', 'O', 'O', 'O', 'O', 'O', 'O', 'O', 'O', 'O', 'O', 'O', 'O', 'O', 'O', 'O', 'O', 'O', 'O', 'O', 'O', 'O', 'O', 'O', 'O', 'O', 'O', '<end>', '<end>', '<end>']\n",
      "Debug - Aligned result: [('<start>', '<start>'), ('The', 'O'), ('National', 'O'), ('Cybersecurity', 'O'), ('Protection', 'O'), ('Act', 'O'), ('mandates', 'O'), ('that', 'O'), ('the', 'O'), ('Cybersecurity', 'O'), ('and', 'O'), ('Infrastructure', 'O'), ('Security', 'O'), ('Agency', 'O'), ('(CISA)', 'O'), ('coordinates', 'O'), ('efforts', 'O'), ('to', 'O'), ('secure', 'O'), ('critical', 'O'), ('infrastructure', 'O'), ('from', 'O'), ('cyber', 'O'), ('threats.', 'O'), ('<end>', '<end>')]\n",
      "Processed: The National Cybersecurity Protection Act mandates that the Cybersecurity and Infrastructure Security Agency (CISA) coordinates efforts to secure critical infrastructure from cyber threats.\n",
      "Predictions: ['<start>', 'O', 'O', 'O', 'O', 'O', 'O', 'O', 'O', 'O', 'O', 'O', 'O', 'O', 'O', 'O', 'O', 'O', 'O', 'O', 'O', 'O', 'O', 'O', '<end>']\n",
      "\n",
      "Debug - Tokens: ['<', 'start', '>', 'the', 'european', 'union', '’', 's', 'ni', '##s', 'directive', '(', 'directive', 'on', 'security', 'of', 'network', 'and', 'information', 'systems', ')', 'impose', '##s', 'cyber', '##se', '##cu', '##rity', 'requirements', 'on', 'operators', 'of', 'essential', 'services', ',', 'ensuring', 'that', 'critical', 'infrastructure', 'sectors', 'like', 'energy', ',', 'transport', ',', 'and', 'health', 'are', 'well', 'protected', 'from', 'cyber', '##att', '##ack', '##s', '.', '<', 'end', '>']\n",
      "Debug - Raw predicted tags: ['<start>', '<start>', '<start>', 'O', 'O', 'O', 'O', 'O', 'O', 'O', 'O', 'O', 'O', 'O', 'O', 'O', 'O', 'O', 'O', 'O', 'O', 'O', 'O', 'O', 'O', 'O', 'O', 'O', 'O', 'O', 'O', 'O', 'O', 'O', 'O', 'O', 'O', 'O', 'O', 'O', 'O', 'O', 'O', 'O', 'O', 'O', 'O', 'O', 'O', 'O', 'O', 'O', 'O', 'O', 'O', '<end>', '<end>', '<end>']\n",
      "Debug - Aligned result: [('<start>', '<start>'), ('The', 'O'), ('European', 'O'), ('Union’s', 'O'), ('NIS', 'O'), ('Directive', 'O'), ('(Directive', 'O'), ('on', 'O'), ('Security', 'O'), ('of', 'O'), ('Network', 'O'), ('and', 'O'), ('Information', 'O'), ('Systems)', 'O'), ('imposes', 'O'), ('cybersecurity', 'O'), ('requirements', 'O'), ('on', 'O'), ('operators', 'O'), ('of', 'O'), ('essential', 'O'), ('services,', 'O'), ('ensuring', 'O'), ('that', 'O'), ('critical', 'O'), ('infrastructure', 'O'), ('sectors', 'O'), ('like', 'O'), ('energy,', 'O'), ('transport,', 'O'), ('and', 'O'), ('health', 'O'), ('are', 'O'), ('well', 'O'), ('protected', 'O'), ('from', 'O'), ('cyberattacks.', 'O'), ('<end>', '<end>')]\n",
      "Processed: The European Union’s NIS Directive (Directive on Security of Network and Information Systems) imposes cybersecurity requirements on operators of essential services, ensuring that critical infrastructure sectors like energy, transport, and health are well protected from cyberattacks.\n",
      "Predictions: ['<start>', 'O', 'O', 'O', 'O', 'O', 'O', 'O', 'O', 'O', 'O', 'O', 'O', 'O', 'O', 'O', 'O', 'O', 'O', 'O', 'O', 'O', 'O', 'O', 'O', 'O', 'O', 'O', 'O', 'O', 'O', 'O', 'O', 'O', 'O', 'O', 'O', '<end>']\n",
      "\n",
      "Debug - Tokens: ['<', 'start', '>', 'the', 'general', 'data', 'protection', 'regulation', '(', 'gdp', '##r', ')', ',', 'while', 'primarily', 'focused', 'on', 'data', 'privacy', ',', 'also', 'impacts', 'critical', 'infrastructure', 'operators', 'by', 'enforcing', 'string', '##ent', 'security', 'measures', 'to', 'prevent', 'cyber', '##att', '##ack', '##s', 'that', 'could', 'compromise', 'personal', 'data', '.', '<', 'end', '>']\n",
      "Debug - Raw predicted tags: ['<start>', '<start>', '<start>', 'O', 'O', 'O', 'O', 'O', 'O', 'O', 'O', 'O', 'O', 'O', 'O', 'O', 'O', 'O', 'O', 'O', 'O', 'O', 'O', 'O', 'O', 'O', 'O', 'O', 'O', 'O', 'O', 'O', 'O', 'O', 'O', 'O', 'O', 'O', 'O', 'O', 'O', 'O', 'O', '<end>', '<end>', '<end>']\n",
      "Debug - Aligned result: [('<start>', '<start>'), ('The', 'O'), ('General', 'O'), ('Data', 'O'), ('Protection', 'O'), ('Regulation', 'O'), ('(GDPR),', 'O'), ('while', 'O'), ('primarily', 'O'), ('focused', 'O'), ('on', 'O'), ('data', 'O'), ('privacy,', 'O'), ('also', 'O'), ('impacts', 'O'), ('critical', 'O'), ('infrastructure', 'O'), ('operators', 'O'), ('by', 'O'), ('enforcing', 'O'), ('stringent', 'O'), ('security', 'O'), ('measures', 'O'), ('to', 'O'), ('prevent', 'O'), ('cyberattacks', 'O'), ('that', 'O'), ('could', 'O'), ('compromise', 'O'), ('personal', 'O'), ('data.', 'O'), ('<end>', '<end>')]\n",
      "Processed: The General Data Protection Regulation (GDPR), while primarily focused on data privacy, also impacts critical infrastructure operators by enforcing stringent security measures to prevent cyberattacks that could compromise personal data.\n",
      "Predictions: ['<start>', 'O', 'O', 'O', 'O', 'O', 'O', 'O', 'O', 'O', 'O', 'O', 'O', 'O', 'O', 'O', 'O', 'O', 'O', 'O', 'O', 'O', 'O', 'O', 'O', 'O', 'O', 'O', 'O', 'O', 'O', '<end>']\n",
      "\n",
      "Debug - Tokens: ['<', 'start', '>', 'in', 'the', 'u', '.', 's', '.', ',', 'presidential', 'policy', 'directive', '21', '(', 'pp', '##d', '-', '21', ')', 'established', 'a', 'national', 'policy', 'on', 'strengthening', 'and', 'securing', 'critical', 'infrastructure', ',', 'out', '##lining', 'cyber', '##se', '##cu', '##rity', 'as', 'a', 'key', 'priority', 'in', 'safeguard', '##ing', 'national', 'security', '.', '<', 'end', '>']\n",
      "Debug - Raw predicted tags: ['<start>', '<start>', '<start>', 'O', 'O', 'O', 'O', 'O', 'O', 'O', 'O', 'O', 'O', 'O', 'O', 'O', 'O', 'O', 'O', 'O', 'O', 'O', 'O', 'O', 'O', 'O', 'O', 'O', 'O', 'O', 'O', 'O', 'O', 'O', 'O', 'O', 'O', 'O', 'O', 'O', 'O', 'O', 'O', 'O', 'O', 'O', 'O', '<end>', '<end>', '<end>']\n",
      "Debug - Aligned result: [('<start>', '<start>'), ('In', 'O'), ('the', 'O'), ('U.S.,', 'O'), ('Presidential', 'O'), ('Policy', 'O'), ('Directive', 'O'), ('21', 'O'), ('(PPD-21)', 'O'), ('established', 'O'), ('a', 'O'), ('national', 'O'), ('policy', 'O'), ('on', 'O'), ('strengthening', 'O'), ('and', 'O'), ('securing', 'O'), ('critical', 'O'), ('infrastructure,', 'O'), ('outlining', 'O'), ('cybersecurity', 'O'), ('as', 'O'), ('a', 'O'), ('key', 'O'), ('priority', 'O'), ('in', 'O'), ('safeguarding', 'O'), ('national', 'O'), ('security.', 'O'), ('<end>', '<end>')]\n",
      "Processed: In the U.S., Presidential Policy Directive 21 (PPD-21) established a national policy on strengthening and securing critical infrastructure, outlining cybersecurity as a key priority in safeguarding national security.\n",
      "Predictions: ['<start>', 'O', 'O', 'O', 'O', 'O', 'O', 'O', 'O', 'O', 'O', 'O', 'O', 'O', 'O', 'O', 'O', 'O', 'O', 'O', 'O', 'O', 'O', 'O', 'O', 'O', 'O', 'O', 'O', '<end>']\n",
      "\n",
      "Debug - Tokens: ['<', 'start', '>', 'the', 'federal', 'information', 'security', 'modernization', 'act', '(', 'fis', '##ma', ')', 'requires', 'federal', 'agencies', ',', 'including', 'those', 'managing', 'critical', 'infrastructure', ',', 'to', 'develop', ',', 'document', ',', 'and', 'implement', 'cyber', '##se', '##cu', '##rity', 'programs', 'that', 'protect', 'critical', 'assets', 'and', 'information', 'systems', '.', '<', 'end', '>']\n",
      "Debug - Raw predicted tags: ['<start>', '<start>', '<start>', 'O', 'B-System', 'I-System', 'I-System', 'I-System', 'I-System', 'O', 'O', 'O', 'O', 'O', 'O', 'O', 'O', 'O', 'O', 'O', 'O', 'O', 'O', 'O', 'O', 'O', 'O', 'O', 'O', 'O', 'O', 'O', 'O', 'O', 'O', 'O', 'O', 'O', 'O', 'O', 'O', 'O', 'O', '<end>', '<end>', '<end>']\n",
      "Debug - Aligned result: [('<start>', '<start>'), ('The', 'B-System'), ('Federal', 'I-System'), ('Information', 'I-System'), ('Security', 'I-System'), ('Modernization', 'I-System'), ('Act', 'O'), ('(FISMA)', 'O'), ('requires', 'O'), ('federal', 'O'), ('agencies,', 'O'), ('including', 'O'), ('those', 'O'), ('managing', 'O'), ('critical', 'O'), ('infrastructure,', 'O'), ('to', 'O'), ('develop,', 'O'), ('document,', 'O'), ('and', 'O'), ('implement', 'O'), ('cybersecurity', 'O'), ('programs', 'O'), ('that', 'O'), ('protect', 'O'), ('critical', 'O'), ('assets', 'O'), ('and', 'O'), ('information', 'O'), ('systems.', 'O'), ('<end>', '<end>')]\n",
      "Processed: The Federal Information Security Modernization Act (FISMA) requires federal agencies, including those managing critical infrastructure, to develop, document, and implement cybersecurity programs that protect critical assets and information systems.\n",
      "Predictions: ['<start>', 'B-System', 'I-System', 'I-System', 'I-System', 'I-System', 'O', 'O', 'O', 'O', 'O', 'O', 'O', 'O', 'O', 'O', 'O', 'O', 'O', 'O', 'O', 'O', 'O', 'O', 'O', 'O', 'O', 'O', 'O', 'O', '<end>']\n",
      "\n",
      "Debug - Tokens: ['<', 'start', '>', 'countries', 'worldwide', 'are', 'adopting', 'specific', 'critical', 'infrastructure', 'protection', 'laws', ',', 'such', 'as', 'australia', \"'\", 's', 'security', 'of', 'critical', 'infrastructure', 'act', ',', 'which', 'grants', 'the', 'government', 'authority', 'to', 'direct', 'cyber', '##se', '##cu', '##rity', 'improvements', 'in', 'high', '-', 'risk', 'infrastructure', 'sectors', '.', '<', 'end', '>']\n",
      "Debug - Raw predicted tags: ['<start>', '<start>', '<start>', 'O', 'O', 'O', 'O', 'O', 'O', 'O', 'O', 'O', 'O', 'O', 'O', 'O', 'O', 'O', 'O', 'O', 'O', 'O', 'O', 'O', 'O', 'O', 'O', 'O', 'O', 'O', 'O', 'O', 'O', 'O', 'O', 'O', 'O', 'O', 'O', 'O', 'O', 'O', 'O', '<end>', '<end>', '<end>']\n",
      "Debug - Aligned result: [('<start>', '<start>'), ('Countries', 'O'), ('worldwide', 'O'), ('are', 'O'), ('adopting', 'O'), ('specific', 'O'), ('critical', 'O'), ('infrastructure', 'O'), ('protection', 'O'), ('laws,', 'O'), ('such', 'O'), ('as', 'O'), (\"Australia's\", 'O'), ('Security', 'O'), ('of', 'O'), ('Critical', 'O'), ('Infrastructure', 'O'), ('Act,', 'O'), ('which', 'O'), ('grants', 'O'), ('the', 'O'), ('government', 'O'), ('authority', 'O'), ('to', 'O'), ('direct', 'O'), ('cybersecurity', 'O'), ('improvements', 'O'), ('in', 'O'), ('high-risk', 'O'), ('infrastructure', 'O'), ('sectors.', 'O'), ('<end>', '<end>')]\n",
      "Processed: Countries worldwide are adopting specific critical infrastructure protection laws, such as Australia's Security of Critical Infrastructure Act, which grants the government authority to direct cybersecurity improvements in high-risk infrastructure sectors.\n",
      "Predictions: ['<start>', 'O', 'O', 'O', 'O', 'O', 'O', 'O', 'O', 'O', 'O', 'O', 'O', 'O', 'O', 'O', 'O', 'O', 'O', 'O', 'O', 'O', 'O', 'O', 'O', 'O', 'O', 'O', 'O', 'O', 'O', '<end>']\n",
      "\n",
      "Debug - Tokens: ['<', 'start', '>', 'the', 'executive', 'order', 'on', 'improving', 'the', 'nation', \"'\", 's', 'cyber', '##se', '##cu', '##rity', '(', '2021', ')', 'in', 'the', 'u', '.', 's', '.', 'introduces', 'new', 'measures', 'for', 'enhancing', 'cyber', '##se', '##cu', '##rity', 'res', '##ili', '##ence', 'in', 'critical', 'infrastructure', ',', 'requiring', 'the', 'adoption', 'of', 'zero', '-', 'trust', 'architecture', 'and', 'improved', 'information', 'sharing', 'between', 'the', 'public', 'and', 'private', 'sectors', '.', '<', 'end', '>']\n",
      "Debug - Raw predicted tags: ['<start>', '<start>', '<start>', 'O', 'O', 'O', 'O', 'O', 'O', 'O', 'O', 'O', 'O', 'O', 'O', 'O', 'O', 'O', 'O', 'O', 'O', 'O', 'O', 'O', 'O', 'O', 'O', 'O', 'O', 'O', 'O', 'O', 'O', 'O', 'O', 'O', 'O', 'O', 'O', 'O', 'O', 'O', 'O', 'O', 'O', 'O', 'O', 'O', 'O', 'O', 'O', 'O', 'O', 'O', 'O', 'O', 'O', 'O', 'O', 'O', '<end>', '<end>', '<end>']\n",
      "Debug - Aligned result: [('<start>', '<start>'), ('The', 'O'), ('Executive', 'O'), ('Order', 'O'), ('on', 'O'), ('Improving', 'O'), ('the', 'O'), (\"Nation's\", 'O'), ('Cybersecurity', 'O'), ('(2021)', 'O'), ('in', 'O'), ('the', 'O'), ('U.S.', 'O'), ('introduces', 'O'), ('new', 'O'), ('measures', 'O'), ('for', 'O'), ('enhancing', 'O'), ('cybersecurity', 'O'), ('resilience', 'O'), ('in', 'O'), ('critical', 'O'), ('infrastructure,', 'O'), ('requiring', 'O'), ('the', 'O'), ('adoption', 'O'), ('of', 'O'), ('zero-trust', 'O'), ('architecture', 'O'), ('and', 'O'), ('improved', 'O'), ('information', 'O'), ('sharing', 'O'), ('between', 'O'), ('the', 'O'), ('public', 'O'), ('and', 'O'), ('private', 'O'), ('sectors.', 'O'), ('<end>', '<end>')]\n",
      "Processed: The Executive Order on Improving the Nation's Cybersecurity (2021) in the U.S. introduces new measures for enhancing cybersecurity resilience in critical infrastructure, requiring the adoption of zero-trust architecture and improved information sharing between the public and private sectors.\n",
      "Predictions: ['<start>', 'O', 'O', 'O', 'O', 'O', 'O', 'O', 'O', 'O', 'O', 'O', 'O', 'O', 'O', 'O', 'O', 'O', 'O', 'O', 'O', 'O', 'O', 'O', 'O', 'O', 'O', 'O', 'O', 'O', 'O', 'O', 'O', 'O', 'O', 'O', 'O', 'O', 'O', '<end>']\n",
      "\n",
      "Debug - Tokens: ['<', 'start', '>', 'the', 'office', 'of', 'critical', 'infrastructure', 'protection', 'and', 'emergency', 'prepared', '##ness', '(', 'o', '##ci', '##pe', '##p', ')', 'in', 'canada', 'coordinates', 'national', 'efforts', 'to', 'secure', 'critical', 'infrastructure', 'from', 'both', 'physical', 'and', 'cyber', 'threats', '.', '<', 'end', '>']\n",
      "Debug - Raw predicted tags: ['<start>', '<start>', '<start>', 'O', 'O', 'O', 'O', 'O', 'O', 'O', 'O', 'O', 'O', 'O', 'O', 'O', 'O', 'O', 'O', 'O', 'O', 'O', 'O', 'O', 'O', 'O', 'O', 'O', 'O', 'O', 'O', 'O', 'O', 'O', 'O', '<end>', '<end>', '<end>']\n",
      "Debug - Aligned result: [('<start>', '<start>'), ('The', 'O'), ('Office', 'O'), ('of', 'O'), ('Critical', 'O'), ('Infrastructure', 'O'), ('Protection', 'O'), ('and', 'O'), ('Emergency', 'O'), ('Preparedness', 'O'), ('(OCIPEP)', 'O'), ('in', 'O'), ('Canada', 'O'), ('coordinates', 'O'), ('national', 'O'), ('efforts', 'O'), ('to', 'O'), ('secure', 'O'), ('critical', 'O'), ('infrastructure', 'O'), ('from', 'O'), ('both', 'O'), ('physical', 'O'), ('and', 'O'), ('cyber', 'O'), ('threats.', 'O'), ('<end>', '<end>')]\n",
      "Processed: The Office of Critical Infrastructure Protection and Emergency Preparedness (OCIPEP) in Canada coordinates national efforts to secure critical infrastructure from both physical and cyber threats.\n",
      "Predictions: ['<start>', 'O', 'O', 'O', 'O', 'O', 'O', 'O', 'O', 'O', 'O', 'O', 'O', 'O', 'O', 'O', 'O', 'O', 'O', 'O', 'O', 'O', 'O', 'O', 'O', 'O', '<end>']\n",
      "\n",
      "Debug - Tokens: ['<', 'start', '>', 'international', 'electro', '##tech', '##nical', 'commission', '(', 'iec', ')', 'publishes', 'standards', 'like', 'iec', '62', '##44', '##3', ',', 'which', 'govern', 'the', 'cyber', '##se', '##cu', '##rity', 'of', 'ic', '##s', 'used', 'in', 'critical', 'infrastructure', 'sectors', 'worldwide', '.', '<', 'end', '>']\n",
      "Debug - Raw predicted tags: ['<start>', '<start>', '<start>', 'O', 'O', 'O', 'O', 'O', 'O', 'O', 'O', 'O', 'O', 'O', 'B-Vulnerability', 'B-Vulnerability', 'B-Vulnerability', 'B-Vulnerability', 'O', 'O', 'O', 'O', 'O', 'O', 'O', 'O', 'O', 'O', 'O', 'O', 'O', 'O', 'O', 'O', 'O', 'O', '<end>', '<end>', '<end>']\n",
      "Debug - Aligned result: [('<start>', '<start>'), ('International', 'O'), ('Electrotechnical', 'O'), ('Commission', 'O'), ('(IEC)', 'O'), ('publishes', 'O'), ('standards', 'O'), ('like', 'B-Vulnerability'), ('IEC', 'B-Vulnerability'), ('62443,', 'B-Vulnerability'), ('which', 'O'), ('govern', 'O'), ('the', 'O'), ('cybersecurity', 'O'), ('of', 'O'), ('ICS', 'O'), ('used', 'O'), ('in', 'O'), ('critical', 'O'), ('infrastructure', 'O'), ('sectors', 'O'), ('worldwide.', 'O'), ('<end>', '<end>')]\n",
      "Processed: International Electrotechnical Commission (IEC) publishes standards like IEC 62443, which govern the cybersecurity of ICS used in critical infrastructure sectors worldwide.\n",
      "Predictions: ['<start>', 'O', 'O', 'O', 'O', 'O', 'O', 'B-Vulnerability', 'B-Vulnerability', 'B-Vulnerability', 'O', 'O', 'O', 'O', 'O', 'O', 'O', 'O', 'O', 'O', 'O', 'O', '<end>']\n",
      "\n",
      "Debug - Tokens: ['<', 'start', '>', 'north', 'american', 'electric', 'reliability', 'corporation', '(', 'ne', '##rc', ')', 'enforce', '##s', 'critical', 'infrastructure', 'protection', '(', 'ci', '##p', ')', 'standards', ',', 'ensuring', 'the', 'security', 'and', 'reliability', 'of', 'the', 'electrical', 'grid', 'and', 'power', 'distribution', 'networks', 'across', 'north', 'america', '.', '<', 'end', '>']\n",
      "Debug - Raw predicted tags: ['<start>', '<start>', '<start>', 'O', 'B-Organization', 'I-Organization', 'I-System', 'I-Organization', 'O', 'O', 'O', 'O', 'O', 'O', 'O', 'O', 'O', 'O', 'O', 'O', 'O', 'O', 'O', 'O', 'O', 'O', 'O', 'O', 'O', 'O', 'O', 'O', 'O', 'O', 'O', 'O', 'O', 'O', 'O', 'O', '<end>', '<end>', '<end>']\n",
      "Debug - Aligned result: [('<start>', '<start>'), ('North', 'B-Organization'), ('American', 'I-Organization'), ('Electric', 'I-System'), ('Reliability', 'I-Organization'), ('Corporation', 'O'), ('(NERC)', 'O'), ('enforces', 'O'), ('Critical', 'O'), ('Infrastructure', 'O'), ('Protection', 'O'), ('(CIP)', 'O'), ('standards,', 'O'), ('ensuring', 'O'), ('the', 'O'), ('security', 'O'), ('and', 'O'), ('reliability', 'O'), ('of', 'O'), ('the', 'O'), ('electrical', 'O'), ('grid', 'O'), ('and', 'O'), ('power', 'O'), ('distribution', 'O'), ('networks', 'O'), ('across', 'O'), ('North', 'O'), ('America.', 'O'), ('<end>', '<end>')]\n",
      "Processed: North American Electric Reliability Corporation (NERC) enforces Critical Infrastructure Protection (CIP) standards, ensuring the security and reliability of the electrical grid and power distribution networks across North America.\n",
      "Predictions: ['<start>', 'B-Organization', 'I-Organization', 'I-System', 'I-Organization', 'O', 'O', 'O', 'O', 'O', 'O', 'O', 'O', 'O', 'O', 'O', 'O', 'O', 'O', 'O', 'O', 'O', 'O', 'O', 'O', 'O', 'O', 'O', 'O', '<end>']\n",
      "\n",
      "Debug - Tokens: ['<', 'start', '>', 'data', 'historians', 'are', 'part', 'of', 'the', 'internal', 'architecture', 'in', 'ic', '##s', 'environments', ',', 'storing', 'and', 'analyzing', 'historical', 'data', 'from', 'sensors', 'and', 'control', 'systems', 'to', 'support', 'operational', 'decisions', 'and', 'compliance', 'reporting', '.', '<', 'end', '>']\n",
      "Debug - Raw predicted tags: ['<start>', '<start>', '<start>', 'O', 'O', 'O', 'O', 'O', 'O', 'O', 'O', 'O', 'O', 'O', 'O', 'O', 'O', 'O', 'O', 'O', 'O', 'O', 'O', 'O', 'O', 'O', 'O', 'O', 'O', 'O', 'O', 'O', 'O', 'O', '<end>', '<end>', '<end>']\n",
      "Debug - Aligned result: [('<start>', '<start>'), ('Data', 'O'), ('historians', 'O'), ('are', 'O'), ('part', 'O'), ('of', 'O'), ('the', 'O'), ('internal', 'O'), ('architecture', 'O'), ('in', 'O'), ('ICS', 'O'), ('environments,', 'O'), ('storing', 'O'), ('and', 'O'), ('analyzing', 'O'), ('historical', 'O'), ('data', 'O'), ('from', 'O'), ('sensors', 'O'), ('and', 'O'), ('control', 'O'), ('systems', 'O'), ('to', 'O'), ('support', 'O'), ('operational', 'O'), ('decisions', 'O'), ('and', 'O'), ('compliance', 'O'), ('reporting.', 'O'), ('<end>', '<end>')]\n",
      "Processed: Data historians are part of the internal architecture in ICS environments, storing and analyzing historical data from sensors and control systems to support operational decisions and compliance reporting.\n",
      "Predictions: ['<start>', 'O', 'O', 'O', 'O', 'O', 'O', 'O', 'O', 'O', 'O', 'O', 'O', 'O', 'O', 'O', 'O', 'O', 'O', 'O', 'O', 'O', 'O', 'O', 'O', 'O', 'O', 'O', 'O', '<end>']\n",
      "\n",
      "Debug - Tokens: ['<', 'start', '>', 'access', 'control', 'systems', 'within', 'the', 'internal', 'architecture', 'of', 'critical', 'infrastructure', 'ensure', 'that', 'only', 'authorized', 'personnel', 'can', 'interact', 'with', 'critical', 'systems', 'and', 'perform', 'functions', 'such', 'as', 'configuration', 'changes', 'and', 'system', 'monitoring', '.', '<', 'end', '>']\n",
      "Debug - Raw predicted tags: ['<start>', '<start>', '<start>', 'O', 'O', 'O', 'O', 'O', 'O', 'O', 'O', 'O', 'O', 'O', 'O', 'O', 'O', 'O', 'O', 'O', 'O', 'O', 'O', 'O', 'O', 'O', 'O', 'O', 'O', 'O', 'O', 'O', 'O', 'O', '<end>', '<end>', '<end>']\n",
      "Debug - Aligned result: [('<start>', '<start>'), ('Access', 'O'), ('control', 'O'), ('systems', 'O'), ('within', 'O'), ('the', 'O'), ('internal', 'O'), ('architecture', 'O'), ('of', 'O'), ('critical', 'O'), ('infrastructure', 'O'), ('ensure', 'O'), ('that', 'O'), ('only', 'O'), ('authorized', 'O'), ('personnel', 'O'), ('can', 'O'), ('interact', 'O'), ('with', 'O'), ('critical', 'O'), ('systems', 'O'), ('and', 'O'), ('perform', 'O'), ('functions', 'O'), ('such', 'O'), ('as', 'O'), ('configuration', 'O'), ('changes', 'O'), ('and', 'O'), ('system', 'O'), ('monitoring.', 'O'), ('<end>', '<end>')]\n",
      "Processed: Access control systems within the internal architecture of critical infrastructure ensure that only authorized personnel can interact with critical systems and perform functions such as configuration changes and system monitoring.\n",
      "Predictions: ['<start>', 'O', 'O', 'O', 'O', 'O', 'O', 'O', 'O', 'O', 'O', 'O', 'O', 'O', 'O', 'O', 'O', 'O', 'O', 'O', 'O', 'O', 'O', 'O', 'O', 'O', 'O', 'O', 'O', 'O', 'O', '<end>']\n",
      "\n",
      "Debug - Tokens: ['<', 'start', '>', 'chief', 'information', 'security', 'officers', '(', 'cis', '##os', ')', 'play', 'a', 'crucial', 'administrative', 'role', 'in', 'overseeing', 'the', 'cyber', '##se', '##cu', '##rity', 'strategy', 'for', 'critical', 'infrastructure', ',', 'ensuring', 'that', 'policies', 'and', 'practices', 'protect', 'against', 'threats', 'and', 'vu', '##ln', '##era', '##bilities', '.', '<', 'end', '>']\n",
      "Debug - Raw predicted tags: ['<start>', '<start>', '<start>', 'O', 'O', 'O', 'O', 'O', 'O', 'O', 'O', 'O', 'O', 'O', 'O', 'O', 'O', 'O', 'O', 'O', 'O', 'O', 'O', 'O', 'O', 'O', 'O', 'O', 'O', 'O', 'O', 'O', 'O', 'O', 'O', 'O', 'O', 'O', 'O', 'O', 'O', 'O', '<end>', '<end>', '<end>']\n",
      "Debug - Aligned result: [('<start>', '<start>'), ('Chief', 'O'), ('Information', 'O'), ('Security', 'O'), ('Officers', 'O'), ('(CISOs)', 'O'), ('play', 'O'), ('a', 'O'), ('crucial', 'O'), ('administrative', 'O'), ('role', 'O'), ('in', 'O'), ('overseeing', 'O'), ('the', 'O'), ('cybersecurity', 'O'), ('strategy', 'O'), ('for', 'O'), ('critical', 'O'), ('infrastructure,', 'O'), ('ensuring', 'O'), ('that', 'O'), ('policies', 'O'), ('and', 'O'), ('practices', 'O'), ('protect', 'O'), ('against', 'O'), ('threats', 'O'), ('and', 'O'), ('vulnerabilities.', 'O'), ('<end>', '<end>')]\n",
      "Processed: Chief Information Security Officers (CISOs) play a crucial administrative role in overseeing the cybersecurity strategy for critical infrastructure, ensuring that policies and practices protect against threats and vulnerabilities.\n",
      "Predictions: ['<start>', 'O', 'O', 'O', 'O', 'O', 'O', 'O', 'O', 'O', 'O', 'O', 'O', 'O', 'O', 'O', 'O', 'O', 'O', 'O', 'O', 'O', 'O', 'O', 'O', 'O', 'O', 'O', 'O', '<end>']\n",
      "\n",
      "Debug - Tokens: ['<', 'start', '>', 'data', 'protection', 'officers', '(', 'd', '##po', '##s', ')', 'handle', 'the', 'administrative', 'tasks', 'related', 'to', 'safeguard', '##ing', 'sensitive', 'data', 'within', 'critical', 'infrastructure', ',', 'ensuring', 'compliance', 'with', 'data', 'protection', 'laws', 'and', 'regulations', '.', '<', 'end', '>']\n",
      "Debug - Raw predicted tags: ['<start>', '<start>', '<start>', 'O', 'O', 'O', 'O', 'O', 'O', 'O', 'O', 'O', 'O', 'O', 'O', 'O', 'O', 'O', 'O', 'O', 'O', 'O', 'O', 'O', 'O', 'O', 'O', 'O', 'O', 'O', 'O', 'O', 'O', 'O', '<end>', '<end>', '<end>']\n",
      "Debug - Aligned result: [('<start>', '<start>'), ('Data', 'O'), ('Protection', 'O'), ('Officers', 'O'), ('(DPOs)', 'O'), ('handle', 'O'), ('the', 'O'), ('administrative', 'O'), ('tasks', 'O'), ('related', 'O'), ('to', 'O'), ('safeguarding', 'O'), ('sensitive', 'O'), ('data', 'O'), ('within', 'O'), ('critical', 'O'), ('infrastructure,', 'O'), ('ensuring', 'O'), ('compliance', 'O'), ('with', 'O'), ('data', 'O'), ('protection', 'O'), ('laws', 'O'), ('and', 'O'), ('regulations.', 'O'), ('<end>', '<end>')]\n",
      "Processed: Data Protection Officers (DPOs) handle the administrative tasks related to safeguarding sensitive data within critical infrastructure, ensuring compliance with data protection laws and regulations.\n",
      "Predictions: ['<start>', 'O', 'O', 'O', 'O', 'O', 'O', 'O', 'O', 'O', 'O', 'O', 'O', 'O', 'O', 'O', 'O', 'O', 'O', 'O', 'O', 'O', 'O', 'O', 'O', '<end>']\n",
      "\n",
      "Debug - Tokens: ['<', 'start', '>', 'incident', 'response', 'coordinator', '##s', 'manage', 'the', 'administrative', 'aspects', 'of', 'responding', 'to', 'cyber', '##se', '##cu', '##rity', 'incidents', 'and', 'physical', 'threats', ',', 'coordinating', 'with', 'internal', 'teams', 'and', 'external', 'agencies', 'to', 'resolve', 'issues', 'and', 'restore', 'normal', 'operations', '.', '<', 'end', '>']\n",
      "Debug - Raw predicted tags: ['<start>', '<start>', '<start>', 'O', 'O', 'O', 'O', 'O', 'O', 'O', 'O', 'O', 'O', 'O', 'O', 'O', 'O', 'O', 'O', 'O', 'O', 'O', 'O', 'O', 'O', 'O', 'O', 'O', 'O', 'O', 'O', 'O', 'O', 'O', 'O', 'O', 'O', 'O', '<end>', '<end>', '<end>']\n",
      "Debug - Aligned result: [('<start>', '<start>'), ('Incident', 'O'), ('Response', 'O'), ('Coordinators', 'O'), ('manage', 'O'), ('the', 'O'), ('administrative', 'O'), ('aspects', 'O'), ('of', 'O'), ('responding', 'O'), ('to', 'O'), ('cybersecurity', 'O'), ('incidents', 'O'), ('and', 'O'), ('physical', 'O'), ('threats,', 'O'), ('coordinating', 'O'), ('with', 'O'), ('internal', 'O'), ('teams', 'O'), ('and', 'O'), ('external', 'O'), ('agencies', 'O'), ('to', 'O'), ('resolve', 'O'), ('issues', 'O'), ('and', 'O'), ('restore', 'O'), ('normal', 'O'), ('operations.', 'O'), ('<end>', '<end>')]\n",
      "Processed: Incident Response Coordinators manage the administrative aspects of responding to cybersecurity incidents and physical threats, coordinating with internal teams and external agencies to resolve issues and restore normal operations.\n",
      "Predictions: ['<start>', 'O', 'O', 'O', 'O', 'O', 'O', 'O', 'O', 'O', 'O', 'O', 'O', 'O', 'O', 'O', 'O', 'O', 'O', 'O', 'O', 'O', 'O', 'O', 'O', 'O', 'O', 'O', 'O', 'O', '<end>']\n",
      "\n",
      "Debug - Tokens: ['<', 'start', '>', 'implementing', 'security', 'patches', 'and', 'updates', 'is', 'a', 'critical', 'step', 'in', 'cyber', 'attack', 'retrieval', ',', 'addressing', 'vu', '##ln', '##era', '##bilities', 'exploited', 'during', 'the', 'attack', 'and', 'protecting', 'systems', 'from', 'future', 'threats', '.', '<', 'end', '>']\n",
      "Debug - Raw predicted tags: ['<start>', '<start>', '<start>', 'O', 'O', 'O', 'O', 'O', 'O', 'O', 'O', 'O', 'O', 'O', 'O', 'O', 'O', 'O', 'O', 'O', 'O', 'O', 'O', 'O', 'O', 'O', 'O', 'O', 'O', 'O', 'O', 'O', 'O', '<end>', '<end>', '<end>']\n",
      "Debug - Aligned result: [('<start>', '<start>'), ('Implementing', 'O'), ('security', 'O'), ('patches', 'O'), ('and', 'O'), ('updates', 'O'), ('is', 'O'), ('a', 'O'), ('critical', 'O'), ('step', 'O'), ('in', 'O'), ('cyber', 'O'), ('attack', 'O'), ('retrieval,', 'O'), ('addressing', 'O'), ('vulnerabilities', 'O'), ('exploited', 'O'), ('during', 'O'), ('the', 'O'), ('attack', 'O'), ('and', 'O'), ('protecting', 'O'), ('systems', 'O'), ('from', 'O'), ('future', 'O'), ('threats.', 'O'), ('<end>', '<end>')]\n",
      "Processed: Implementing security patches and updates is a critical step in cyber attack retrieval, addressing vulnerabilities exploited during the attack and protecting systems from future threats.\n",
      "Predictions: ['<start>', 'O', 'O', 'O', 'O', 'O', 'O', 'O', 'O', 'O', 'O', 'O', 'O', 'O', 'O', 'O', 'O', 'O', 'O', 'O', 'O', 'O', 'O', 'O', 'O', 'O', '<end>']\n",
      "\n",
      "Debug - Tokens: ['<', 'start', '>', 'backup', 'and', 'recovery', 'solutions', 'are', 'crucial', 'for', 'cyber', 'attack', 'retrieval', ',', 'enabling', 'organizations', 'to', 'restore', 'lost', 'or', 'compromised', 'data', 'from', 'secure', 'backup', '##s', 'and', 'minimize', 'operational', 'disruption', '.', '<', 'end', '>']\n",
      "Debug - Raw predicted tags: ['<start>', '<start>', '<start>', 'O', 'O', 'O', 'O', 'O', 'O', 'O', 'O', 'O', 'O', 'O', 'O', 'O', 'O', 'O', 'O', 'O', 'O', 'O', 'O', 'O', 'O', 'O', 'O', 'O', 'O', 'O', 'O', '<end>', '<end>', '<end>']\n",
      "Debug - Aligned result: [('<start>', '<start>'), ('Backup', 'O'), ('and', 'O'), ('Recovery', 'O'), ('Solutions', 'O'), ('are', 'O'), ('crucial', 'O'), ('for', 'O'), ('cyber', 'O'), ('attack', 'O'), ('retrieval,', 'O'), ('enabling', 'O'), ('organizations', 'O'), ('to', 'O'), ('restore', 'O'), ('lost', 'O'), ('or', 'O'), ('compromised', 'O'), ('data', 'O'), ('from', 'O'), ('secure', 'O'), ('backups', 'O'), ('and', 'O'), ('minimize', 'O'), ('operational', 'O'), ('disruption.', 'O'), ('<end>', '<end>')]\n",
      "Processed: Backup and Recovery Solutions are crucial for cyber attack retrieval, enabling organizations to restore lost or compromised data from secure backups and minimize operational disruption.\n",
      "Predictions: ['<start>', 'O', 'O', 'O', 'O', 'O', 'O', 'O', 'O', 'O', 'O', 'O', 'O', 'O', 'O', 'O', 'O', 'O', 'O', 'O', 'O', 'O', 'O', 'O', 'O', 'O', '<end>']\n",
      "\n",
      "Debug - Tokens: ['<', 'start', '>', 'disaster', 'recovery', 'plans', 'are', 'essential', 'for', 'cyber', 'attack', 'retrieval', ',', 'out', '##lining', 'procedures', 'for', 'restoring', 'it', 'systems', ',', 'data', ',', 'and', 'infrastructure', 'to', 'their', 'pre', '-', 'attack', 'state', 'and', 'ensuring', 'business', 'continuity', '.', '<', 'end', '>']\n",
      "Debug - Raw predicted tags: ['<start>', '<start>', '<start>', 'O', 'O', 'O', 'O', 'O', 'O', 'O', 'O', 'O', 'O', 'O', 'O', 'O', 'O', 'O', 'O', 'O', 'O', 'O', 'O', 'O', 'O', 'O', 'O', 'O', 'O', 'O', 'O', 'O', 'O', 'O', 'O', 'O', '<end>', '<end>', '<end>']\n",
      "Debug - Aligned result: [('<start>', '<start>'), ('Disaster', 'O'), ('Recovery', 'O'), ('Plans', 'O'), ('are', 'O'), ('essential', 'O'), ('for', 'O'), ('cyber', 'O'), ('attack', 'O'), ('retrieval,', 'O'), ('outlining', 'O'), ('procedures', 'O'), ('for', 'O'), ('restoring', 'O'), ('IT', 'O'), ('systems,', 'O'), ('data,', 'O'), ('and', 'O'), ('infrastructure', 'O'), ('to', 'O'), ('their', 'O'), ('pre-attack', 'O'), ('state', 'O'), ('and', 'O'), ('ensuring', 'O'), ('business', 'O'), ('continuity.', 'O'), ('<end>', '<end>')]\n",
      "Processed: Disaster Recovery Plans are essential for cyber attack retrieval, outlining procedures for restoring IT systems, data, and infrastructure to their pre-attack state and ensuring business continuity.\n",
      "Predictions: ['<start>', 'O', 'O', 'O', 'O', 'O', 'O', 'O', 'O', 'O', 'O', 'O', 'O', 'O', 'O', 'O', 'O', 'O', 'O', 'O', 'O', 'O', 'O', 'O', 'O', 'O', 'O', '<end>']\n",
      "\n",
      "Debug - Tokens: ['<', 'start', '>', '\"', 'power', 'generation', 'and', 'distribution', '\"', 'is', 'a', 'critical', 'infrastructure', 'in', 'india', ',', 'encompassing', 'a', 'wide', 'network', 'of', 'power', 'plants', ',', 'transmission', 'lines', ',', 'and', 'distribution', 'systems', 'that', 'supply', 'electricity', 'across', 'the', 'country', '.', '<', 'end', '>']\n",
      "Debug - Raw predicted tags: ['<start>', '<start>', '<start>', 'O', 'O', 'O', 'O', 'O', 'O', 'O', 'O', 'O', 'O', 'O', 'O', 'O', 'O', 'O', 'O', 'O', 'O', 'O', 'O', 'O', 'O', 'O', 'O', 'O', 'O', 'O', 'O', 'O', 'O', 'O', 'O', 'O', 'O', '<end>', '<end>', '<end>']\n",
      "Debug - Aligned result: [('<start>', '<start>'), ('\"Power', 'O'), ('Generation', 'O'), ('and', 'O'), ('Distribution\"', 'O'), ('is', 'O'), ('a', 'O'), ('critical', 'O'), ('infrastructure', 'O'), ('in', 'O'), ('India,', 'O'), ('encompassing', 'O'), ('a', 'O'), ('wide', 'O'), ('network', 'O'), ('of', 'O'), ('power', 'O'), ('plants,', 'O'), ('transmission', 'O'), ('lines,', 'O'), ('and', 'O'), ('distribution', 'O'), ('systems', 'O'), ('that', 'O'), ('supply', 'O'), ('electricity', 'O'), ('across', 'O'), ('the', 'O'), ('country.', 'O'), ('<end>', '<end>')]\n",
      "Processed: \"Power Generation and Distribution\" is a critical infrastructure in India, encompassing a wide network of power plants, transmission lines, and distribution systems that supply electricity across the country.\n",
      "Predictions: ['<start>', 'O', 'O', 'O', 'O', 'O', 'O', 'O', 'O', 'O', 'O', 'O', 'O', 'O', 'O', 'O', 'O', 'O', 'O', 'O', 'O', 'O', 'O', 'O', 'O', 'O', 'O', 'O', 'O', '<end>']\n",
      "\n",
      "Debug - Tokens: ['<', 'start', '>', '\"', 'government', 'and', 'defense', 'systems', '\"', 'in', 'india', 'involve', 'critical', 'infrastructure', 'for', 'national', 'security', ',', 'including', 'military', 'facilities', ',', 'intelligence', 'agencies', ',', 'and', 'government', 'communication', 'networks', '.', '<', 'end', '>']\n",
      "Debug - Raw predicted tags: ['<start>', '<start>', '<start>', 'O', 'O', 'O', 'O', 'O', 'O', 'O', 'O', 'O', 'O', 'O', 'O', 'O', 'O', 'O', 'O', 'O', 'O', 'O', 'O', 'O', 'O', 'O', 'O', 'O', 'O', 'O', '<end>', '<end>', '<end>']\n",
      "Debug - Aligned result: [('<start>', '<start>'), ('\"Government', 'O'), ('and', 'O'), ('Defense', 'O'), ('Systems\"', 'O'), ('in', 'O'), ('India', 'O'), ('involve', 'O'), ('critical', 'O'), ('infrastructure', 'O'), ('for', 'O'), ('national', 'O'), ('security,', 'O'), ('including', 'O'), ('military', 'O'), ('facilities,', 'O'), ('intelligence', 'O'), ('agencies,', 'O'), ('and', 'O'), ('government', 'O'), ('communication', 'O'), ('networks.', 'O'), ('<end>', '<end>')]\n",
      "Processed: \"Government and Defense Systems\" in India involve critical infrastructure for national security, including military facilities, intelligence agencies, and government communication networks.\n",
      "Predictions: ['<start>', 'O', 'O', 'O', 'O', 'O', 'O', 'O', 'O', 'O', 'O', 'O', 'O', 'O', 'O', 'O', 'O', 'O', 'O', 'O', 'O', 'O', '<end>']\n",
      "\n",
      "Debug - Tokens: ['<', 'start', '>', '\"', 'healthcare', 'facilities', '\"', 'are', 'critical', 'infrastructure', 'in', 'india', ',', 'encompassing', 'hospitals', ',', 'clinics', ',', 'and', 'emergency', 'response', 'systems', 'that', 'provide', 'medical', 'services', 'and', 'support', 'public', 'health', '.', '<', 'end', '>']\n",
      "Debug - Raw predicted tags: ['<start>', '<start>', '<start>', 'O', 'O', 'O', 'O', 'O', 'O', 'O', 'O', 'O', 'O', 'O', 'O', 'O', 'O', 'O', 'O', 'O', 'O', 'O', 'O', 'O', 'O', 'O', 'O', 'O', 'O', 'O', 'O', '<end>', '<end>', '<end>']\n",
      "Debug - Aligned result: [('<start>', '<start>'), ('\"Healthcare', 'O'), ('Facilities\"', 'O'), ('are', 'O'), ('critical', 'O'), ('infrastructure', 'O'), ('in', 'O'), ('India,', 'O'), ('encompassing', 'O'), ('hospitals,', 'O'), ('clinics,', 'O'), ('and', 'O'), ('emergency', 'O'), ('response', 'O'), ('systems', 'O'), ('that', 'O'), ('provide', 'O'), ('medical', 'O'), ('services', 'O'), ('and', 'O'), ('support', 'O'), ('public', 'O'), ('health.', 'O'), ('<end>', '<end>')]\n",
      "Processed: \"Healthcare Facilities\" are critical infrastructure in India, encompassing hospitals, clinics, and emergency response systems that provide medical services and support public health.\n",
      "Predictions: ['<start>', 'O', 'O', 'O', 'O', 'O', 'O', 'O', 'O', 'O', 'O', 'O', 'O', 'O', 'O', 'O', 'O', 'O', 'O', 'O', 'O', 'O', 'O', '<end>']\n",
      "\n",
      "Debug - Tokens: ['<', 'start', '>', 'as', 'ic', '##s', 'environments', 'become', 'more', 'inter', '##connected', ',', 'the', 'adoption', 'of', 'modern', ',', 'secure', 'routing', 'protocols', 'like', 'time', '-', 'sensitive', 'networking', '(', 'ts', '##n', ')', 'and', 'secure', 'd', '##np', '##3', 'is', 'crucial', 'for', 'protecting', 'communication', 'pathways', 'between', 'ic', '##s', 'devices', '.', '<', 'end', '>']\n",
      "Debug - Raw predicted tags: ['<start>', '<start>', '<start>', 'O', 'O', 'O', 'O', 'O', 'O', 'O', 'O', 'O', 'O', 'O', 'O', 'O', 'O', 'O', 'O', 'O', 'O', 'O', 'O', 'O', 'O', 'O', 'O', 'O', 'O', 'O', 'O', 'O', 'O', 'O', 'O', 'O', 'O', 'O', 'O', 'O', 'O', 'O', 'O', 'O', 'O', '<end>', '<end>', '<end>']\n",
      "Debug - Aligned result: [('<start>', '<start>'), ('As', 'O'), ('ICS', 'O'), ('environments', 'O'), ('become', 'O'), ('more', 'O'), ('interconnected,', 'O'), ('the', 'O'), ('adoption', 'O'), ('of', 'O'), ('modern,', 'O'), ('secure', 'O'), ('routing', 'O'), ('protocols', 'O'), ('like', 'O'), ('Time-Sensitive', 'O'), ('Networking', 'O'), ('(TSN)', 'O'), ('and', 'O'), ('Secure', 'O'), ('DNP3', 'O'), ('is', 'O'), ('crucial', 'O'), ('for', 'O'), ('protecting', 'O'), ('communication', 'O'), ('pathways', 'O'), ('between', 'O'), ('ICS', 'O'), ('devices.', 'O'), ('<end>', '<end>')]\n",
      "Processed: As ICS environments become more interconnected, the adoption of modern, secure routing protocols like Time-Sensitive Networking (TSN) and Secure DNP3 is crucial for protecting communication pathways between ICS devices.\n",
      "Predictions: ['<start>', 'O', 'O', 'O', 'O', 'O', 'O', 'O', 'O', 'O', 'O', 'O', 'O', 'O', 'O', 'O', 'O', 'O', 'O', 'O', 'O', 'O', 'O', 'O', 'O', 'O', 'O', 'O', 'O', 'O', '<end>']\n",
      "\n",
      "\n",
      "Prediction Analysis:\n",
      "Total predictions: 2246\n",
      "<start>: 101 (4.50%)\n",
      "O: 1921 (85.53%)\n",
      "<end>: 151 (6.72%)\n",
      "B-Organization: 8 (0.36%)\n",
      "I-System: 28 (1.25%)\n",
      "B-Indicator: 3 (0.13%)\n",
      "I-Organization: 8 (0.36%)\n",
      "B-System: 11 (0.49%)\n",
      "I-Malware: 1 (0.04%)\n",
      "B-Malware: 7 (0.31%)\n",
      "B-Vulnerability: 7 (0.31%)\n",
      "\n",
      "Detailed results saved to prediction_results.txt\n"
     ]
    }
   ],
   "source": [
    "if __name__ == \"__main__\":\n",
    "    input_file = r\"C:\\Users\\Admin\\Desktop\\nitt\\sample_test_dataset_NITT_project.txt\"  # Replace with your input file path\n",
    "    output_file = \"prediction_results.txt\"\n",
    "    process_file(input_file, output_file)"
   ]
  },
  {
   "cell_type": "markdown",
   "id": "756d85f9-f295-494c-a4d5-0891d3d0fd5f",
   "metadata": {},
   "source": [
    "### Checking if the model weights have been loaded properly"
   ]
  },
  {
   "cell_type": "code",
   "execution_count": 35,
   "id": "6db5248b-f7a1-49ce-a01a-89a4aba25020",
   "metadata": {},
   "outputs": [],
   "source": [
    "# def test_single_sentence(sentence):\n",
    "#     print(f\"Testing sentence: {sentence}\")\n",
    "#     result = predict(sentence)\n",
    "#     print(\"Prediction result:\")\n",
    "#     for word, label in result:\n",
    "#         print(f\"{word}\\t{label}\")\n",
    "#     print(\"\\n\")\n",
    "#     return result"
   ]
  },
  {
   "cell_type": "code",
   "execution_count": 17,
   "id": "bb78b2f1-1e7a-4209-807f-8646a8c4b365",
   "metadata": {},
   "outputs": [
    {
     "name": "stdout",
     "output_type": "stream",
     "text": [
      "Keys in state dict: odict_keys(['electra.embeddings.word_embeddings.weight', 'electra.embeddings.position_embeddings.weight', 'electra.embeddings.token_type_embeddings.weight', 'electra.embeddings.LayerNorm.weight', 'electra.embeddings.LayerNorm.bias', 'electra.encoder.layer.0.attention.self.query.weight', 'electra.encoder.layer.0.attention.self.query.bias', 'electra.encoder.layer.0.attention.self.key.weight', 'electra.encoder.layer.0.attention.self.key.bias', 'electra.encoder.layer.0.attention.self.value.weight', 'electra.encoder.layer.0.attention.self.value.bias', 'electra.encoder.layer.0.attention.output.dense.weight', 'electra.encoder.layer.0.attention.output.dense.bias', 'electra.encoder.layer.0.attention.output.LayerNorm.weight', 'electra.encoder.layer.0.attention.output.LayerNorm.bias', 'electra.encoder.layer.0.intermediate.dense.weight', 'electra.encoder.layer.0.intermediate.dense.bias', 'electra.encoder.layer.0.output.dense.weight', 'electra.encoder.layer.0.output.dense.bias', 'electra.encoder.layer.0.output.LayerNorm.weight', 'electra.encoder.layer.0.output.LayerNorm.bias', 'electra.encoder.layer.1.attention.self.query.weight', 'electra.encoder.layer.1.attention.self.query.bias', 'electra.encoder.layer.1.attention.self.key.weight', 'electra.encoder.layer.1.attention.self.key.bias', 'electra.encoder.layer.1.attention.self.value.weight', 'electra.encoder.layer.1.attention.self.value.bias', 'electra.encoder.layer.1.attention.output.dense.weight', 'electra.encoder.layer.1.attention.output.dense.bias', 'electra.encoder.layer.1.attention.output.LayerNorm.weight', 'electra.encoder.layer.1.attention.output.LayerNorm.bias', 'electra.encoder.layer.1.intermediate.dense.weight', 'electra.encoder.layer.1.intermediate.dense.bias', 'electra.encoder.layer.1.output.dense.weight', 'electra.encoder.layer.1.output.dense.bias', 'electra.encoder.layer.1.output.LayerNorm.weight', 'electra.encoder.layer.1.output.LayerNorm.bias', 'electra.encoder.layer.2.attention.self.query.weight', 'electra.encoder.layer.2.attention.self.query.bias', 'electra.encoder.layer.2.attention.self.key.weight', 'electra.encoder.layer.2.attention.self.key.bias', 'electra.encoder.layer.2.attention.self.value.weight', 'electra.encoder.layer.2.attention.self.value.bias', 'electra.encoder.layer.2.attention.output.dense.weight', 'electra.encoder.layer.2.attention.output.dense.bias', 'electra.encoder.layer.2.attention.output.LayerNorm.weight', 'electra.encoder.layer.2.attention.output.LayerNorm.bias', 'electra.encoder.layer.2.intermediate.dense.weight', 'electra.encoder.layer.2.intermediate.dense.bias', 'electra.encoder.layer.2.output.dense.weight', 'electra.encoder.layer.2.output.dense.bias', 'electra.encoder.layer.2.output.LayerNorm.weight', 'electra.encoder.layer.2.output.LayerNorm.bias', 'electra.encoder.layer.3.attention.self.query.weight', 'electra.encoder.layer.3.attention.self.query.bias', 'electra.encoder.layer.3.attention.self.key.weight', 'electra.encoder.layer.3.attention.self.key.bias', 'electra.encoder.layer.3.attention.self.value.weight', 'electra.encoder.layer.3.attention.self.value.bias', 'electra.encoder.layer.3.attention.output.dense.weight', 'electra.encoder.layer.3.attention.output.dense.bias', 'electra.encoder.layer.3.attention.output.LayerNorm.weight', 'electra.encoder.layer.3.attention.output.LayerNorm.bias', 'electra.encoder.layer.3.intermediate.dense.weight', 'electra.encoder.layer.3.intermediate.dense.bias', 'electra.encoder.layer.3.output.dense.weight', 'electra.encoder.layer.3.output.dense.bias', 'electra.encoder.layer.3.output.LayerNorm.weight', 'electra.encoder.layer.3.output.LayerNorm.bias', 'electra.encoder.layer.4.attention.self.query.weight', 'electra.encoder.layer.4.attention.self.query.bias', 'electra.encoder.layer.4.attention.self.key.weight', 'electra.encoder.layer.4.attention.self.key.bias', 'electra.encoder.layer.4.attention.self.value.weight', 'electra.encoder.layer.4.attention.self.value.bias', 'electra.encoder.layer.4.attention.output.dense.weight', 'electra.encoder.layer.4.attention.output.dense.bias', 'electra.encoder.layer.4.attention.output.LayerNorm.weight', 'electra.encoder.layer.4.attention.output.LayerNorm.bias', 'electra.encoder.layer.4.intermediate.dense.weight', 'electra.encoder.layer.4.intermediate.dense.bias', 'electra.encoder.layer.4.output.dense.weight', 'electra.encoder.layer.4.output.dense.bias', 'electra.encoder.layer.4.output.LayerNorm.weight', 'electra.encoder.layer.4.output.LayerNorm.bias', 'electra.encoder.layer.5.attention.self.query.weight', 'electra.encoder.layer.5.attention.self.query.bias', 'electra.encoder.layer.5.attention.self.key.weight', 'electra.encoder.layer.5.attention.self.key.bias', 'electra.encoder.layer.5.attention.self.value.weight', 'electra.encoder.layer.5.attention.self.value.bias', 'electra.encoder.layer.5.attention.output.dense.weight', 'electra.encoder.layer.5.attention.output.dense.bias', 'electra.encoder.layer.5.attention.output.LayerNorm.weight', 'electra.encoder.layer.5.attention.output.LayerNorm.bias', 'electra.encoder.layer.5.intermediate.dense.weight', 'electra.encoder.layer.5.intermediate.dense.bias', 'electra.encoder.layer.5.output.dense.weight', 'electra.encoder.layer.5.output.dense.bias', 'electra.encoder.layer.5.output.LayerNorm.weight', 'electra.encoder.layer.5.output.LayerNorm.bias', 'electra.encoder.layer.6.attention.self.query.weight', 'electra.encoder.layer.6.attention.self.query.bias', 'electra.encoder.layer.6.attention.self.key.weight', 'electra.encoder.layer.6.attention.self.key.bias', 'electra.encoder.layer.6.attention.self.value.weight', 'electra.encoder.layer.6.attention.self.value.bias', 'electra.encoder.layer.6.attention.output.dense.weight', 'electra.encoder.layer.6.attention.output.dense.bias', 'electra.encoder.layer.6.attention.output.LayerNorm.weight', 'electra.encoder.layer.6.attention.output.LayerNorm.bias', 'electra.encoder.layer.6.intermediate.dense.weight', 'electra.encoder.layer.6.intermediate.dense.bias', 'electra.encoder.layer.6.output.dense.weight', 'electra.encoder.layer.6.output.dense.bias', 'electra.encoder.layer.6.output.LayerNorm.weight', 'electra.encoder.layer.6.output.LayerNorm.bias', 'electra.encoder.layer.7.attention.self.query.weight', 'electra.encoder.layer.7.attention.self.query.bias', 'electra.encoder.layer.7.attention.self.key.weight', 'electra.encoder.layer.7.attention.self.key.bias', 'electra.encoder.layer.7.attention.self.value.weight', 'electra.encoder.layer.7.attention.self.value.bias', 'electra.encoder.layer.7.attention.output.dense.weight', 'electra.encoder.layer.7.attention.output.dense.bias', 'electra.encoder.layer.7.attention.output.LayerNorm.weight', 'electra.encoder.layer.7.attention.output.LayerNorm.bias', 'electra.encoder.layer.7.intermediate.dense.weight', 'electra.encoder.layer.7.intermediate.dense.bias', 'electra.encoder.layer.7.output.dense.weight', 'electra.encoder.layer.7.output.dense.bias', 'electra.encoder.layer.7.output.LayerNorm.weight', 'electra.encoder.layer.7.output.LayerNorm.bias', 'electra.encoder.layer.8.attention.self.query.weight', 'electra.encoder.layer.8.attention.self.query.bias', 'electra.encoder.layer.8.attention.self.key.weight', 'electra.encoder.layer.8.attention.self.key.bias', 'electra.encoder.layer.8.attention.self.value.weight', 'electra.encoder.layer.8.attention.self.value.bias', 'electra.encoder.layer.8.attention.output.dense.weight', 'electra.encoder.layer.8.attention.output.dense.bias', 'electra.encoder.layer.8.attention.output.LayerNorm.weight', 'electra.encoder.layer.8.attention.output.LayerNorm.bias', 'electra.encoder.layer.8.intermediate.dense.weight', 'electra.encoder.layer.8.intermediate.dense.bias', 'electra.encoder.layer.8.output.dense.weight', 'electra.encoder.layer.8.output.dense.bias', 'electra.encoder.layer.8.output.LayerNorm.weight', 'electra.encoder.layer.8.output.LayerNorm.bias', 'electra.encoder.layer.9.attention.self.query.weight', 'electra.encoder.layer.9.attention.self.query.bias', 'electra.encoder.layer.9.attention.self.key.weight', 'electra.encoder.layer.9.attention.self.key.bias', 'electra.encoder.layer.9.attention.self.value.weight', 'electra.encoder.layer.9.attention.self.value.bias', 'electra.encoder.layer.9.attention.output.dense.weight', 'electra.encoder.layer.9.attention.output.dense.bias', 'electra.encoder.layer.9.attention.output.LayerNorm.weight', 'electra.encoder.layer.9.attention.output.LayerNorm.bias', 'electra.encoder.layer.9.intermediate.dense.weight', 'electra.encoder.layer.9.intermediate.dense.bias', 'electra.encoder.layer.9.output.dense.weight', 'electra.encoder.layer.9.output.dense.bias', 'electra.encoder.layer.9.output.LayerNorm.weight', 'electra.encoder.layer.9.output.LayerNorm.bias', 'electra.encoder.layer.10.attention.self.query.weight', 'electra.encoder.layer.10.attention.self.query.bias', 'electra.encoder.layer.10.attention.self.key.weight', 'electra.encoder.layer.10.attention.self.key.bias', 'electra.encoder.layer.10.attention.self.value.weight', 'electra.encoder.layer.10.attention.self.value.bias', 'electra.encoder.layer.10.attention.output.dense.weight', 'electra.encoder.layer.10.attention.output.dense.bias', 'electra.encoder.layer.10.attention.output.LayerNorm.weight', 'electra.encoder.layer.10.attention.output.LayerNorm.bias', 'electra.encoder.layer.10.intermediate.dense.weight', 'electra.encoder.layer.10.intermediate.dense.bias', 'electra.encoder.layer.10.output.dense.weight', 'electra.encoder.layer.10.output.dense.bias', 'electra.encoder.layer.10.output.LayerNorm.weight', 'electra.encoder.layer.10.output.LayerNorm.bias', 'electra.encoder.layer.11.attention.self.query.weight', 'electra.encoder.layer.11.attention.self.query.bias', 'electra.encoder.layer.11.attention.self.key.weight', 'electra.encoder.layer.11.attention.self.key.bias', 'electra.encoder.layer.11.attention.self.value.weight', 'electra.encoder.layer.11.attention.self.value.bias', 'electra.encoder.layer.11.attention.output.dense.weight', 'electra.encoder.layer.11.attention.output.dense.bias', 'electra.encoder.layer.11.attention.output.LayerNorm.weight', 'electra.encoder.layer.11.attention.output.LayerNorm.bias', 'electra.encoder.layer.11.intermediate.dense.weight', 'electra.encoder.layer.11.intermediate.dense.bias', 'electra.encoder.layer.11.output.dense.weight', 'electra.encoder.layer.11.output.dense.bias', 'electra.encoder.layer.11.output.LayerNorm.weight', 'electra.encoder.layer.11.output.LayerNorm.bias', 'gru.weight_ih_l0', 'gru.weight_hh_l0', 'gru.bias_ih_l0', 'gru.bias_hh_l0', 'gru.weight_ih_l0_reverse', 'gru.weight_hh_l0_reverse', 'gru.bias_ih_l0_reverse', 'gru.bias_hh_l0_reverse', 'gru.weight_ih_l1', 'gru.weight_hh_l1', 'gru.bias_ih_l1', 'gru.bias_hh_l1', 'gru.weight_ih_l1_reverse', 'gru.weight_hh_l1_reverse', 'gru.bias_ih_l1_reverse', 'gru.bias_hh_l1_reverse', 'linear.weight', 'linear.bias', 'crf.trans_matrix', 'crf.start_trans', 'crf.end_trans'])\n",
      "Model loaded successfully\n"
     ]
    },
    {
     "data": {
      "text/plain": [
       "JointExtractionModel(\n",
       "  (electra): ElectraModel(\n",
       "    (embeddings): ElectraEmbeddings(\n",
       "      (word_embeddings): Embedding(30522, 768, padding_idx=0)\n",
       "      (position_embeddings): Embedding(512, 768)\n",
       "      (token_type_embeddings): Embedding(2, 768)\n",
       "      (LayerNorm): LayerNorm((768,), eps=1e-12, elementwise_affine=True)\n",
       "      (dropout): Dropout(p=0.1, inplace=False)\n",
       "    )\n",
       "    (encoder): ElectraEncoder(\n",
       "      (layer): ModuleList(\n",
       "        (0-11): 12 x ElectraLayer(\n",
       "          (attention): ElectraAttention(\n",
       "            (self): ElectraSelfAttention(\n",
       "              (query): Linear(in_features=768, out_features=768, bias=True)\n",
       "              (key): Linear(in_features=768, out_features=768, bias=True)\n",
       "              (value): Linear(in_features=768, out_features=768, bias=True)\n",
       "              (dropout): Dropout(p=0.1, inplace=False)\n",
       "            )\n",
       "            (output): ElectraSelfOutput(\n",
       "              (dense): Linear(in_features=768, out_features=768, bias=True)\n",
       "              (LayerNorm): LayerNorm((768,), eps=1e-12, elementwise_affine=True)\n",
       "              (dropout): Dropout(p=0.1, inplace=False)\n",
       "            )\n",
       "          )\n",
       "          (intermediate): ElectraIntermediate(\n",
       "            (dense): Linear(in_features=768, out_features=3072, bias=True)\n",
       "            (intermediate_act_fn): GELUActivation()\n",
       "          )\n",
       "          (output): ElectraOutput(\n",
       "            (dense): Linear(in_features=3072, out_features=768, bias=True)\n",
       "            (LayerNorm): LayerNorm((768,), eps=1e-12, elementwise_affine=True)\n",
       "            (dropout): Dropout(p=0.1, inplace=False)\n",
       "          )\n",
       "        )\n",
       "      )\n",
       "    )\n",
       "  )\n",
       "  (gru): GRU(768, 256, num_layers=2, batch_first=True, bidirectional=True)\n",
       "  (linear): Linear(in_features=512, out_features=60, bias=True)\n",
       "  (crf): CRF()\n",
       ")"
      ]
     },
     "execution_count": 17,
     "metadata": {},
     "output_type": "execute_result"
    }
   ],
   "source": [
    "# Initialize model and load weights\n",
    "device = torch.device('cuda' if torch.cuda.is_available() else 'cpu')\n",
    "hidden_size = 256\n",
    "num_layers = 2\n",
    "num_labels = len(entity_label_map)\n",
    "\n",
    "model = JointExtractionModel(num_labels, hidden_size, num_layers, device)\n",
    "state_dict = torch.load('best_electra_ner_model_16.pt', map_location=device)\n",
    "\n",
    "# Print the keys in the state dict\n",
    "print(\"Keys in state dict:\", state_dict.keys())\n",
    "\n",
    "# Try to load state dict and catch any errors\n",
    "try:\n",
    "    model.load_state_dict(state_dict)\n",
    "    print(\"Model loaded successfully\")\n",
    "except RuntimeError as e:\n",
    "    print(\"Error loading model:\", str(e))\n",
    "    # If there's an error, try to load with strict=False\n",
    "    model.load_state_dict(state_dict, strict=False)\n",
    "    print(\"Model loaded with strict=False\")\n",
    "\n",
    "model.to(device)\n",
    "model.eval()"
   ]
  },
  {
   "cell_type": "code",
   "execution_count": null,
   "id": "ee7cb904-3ab4-4032-b1a8-4745e9881cf6",
   "metadata": {},
   "outputs": [],
   "source": []
  },
  {
   "cell_type": "code",
   "execution_count": null,
   "id": "23e21668-ac8c-43b6-af35-81a23b8c3771",
   "metadata": {},
   "outputs": [],
   "source": []
  }
 ],
 "metadata": {
  "kernelspec": {
   "display_name": "Python 3 (ipykernel)",
   "language": "python",
   "name": "python3"
  },
  "language_info": {
   "codemirror_mode": {
    "name": "ipython",
    "version": 3
   },
   "file_extension": ".py",
   "mimetype": "text/x-python",
   "name": "python",
   "nbconvert_exporter": "python",
   "pygments_lexer": "ipython3",
   "version": "3.9.1"
  }
 },
 "nbformat": 4,
 "nbformat_minor": 5
}
